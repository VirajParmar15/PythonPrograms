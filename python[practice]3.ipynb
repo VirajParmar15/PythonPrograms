{
  "nbformat": 4,
  "nbformat_minor": 0,
  "metadata": {
    "colab": {
      "provenance": []
    },
    "kernelspec": {
      "name": "python3",
      "display_name": "Python 3"
    },
    "language_info": {
      "name": "python"
    }
  },
  "cells": [
    {
      "cell_type": "markdown",
      "source": [
        "#LIST"
      ],
      "metadata": {
        "id": "_T8VmRPeX3eH"
      }
    },
    {
      "cell_type": "code",
      "execution_count": null,
      "metadata": {
        "colab": {
          "base_uri": "https://localhost:8080/"
        },
        "id": "3omNSlxmXiwG",
        "outputId": "97074fad-dbcd-456b-c46d-7060e6a7e0d0"
      },
      "outputs": [
        {
          "output_type": "stream",
          "name": "stdout",
          "text": [
            "viraj\n",
            "15\n",
            "97.3\n",
            "parmar\n",
            "D\n",
            "0.7\n",
            "100\n",
            "15\n",
            "0.7\n",
            "True\n",
            "don+\n",
            "donv+\n",
            "donj+\n"
          ]
        }
      ],
      "source": [
        "#accessing/traversing list\n",
        "my_list=[\"viraj\",15,97.3,\"parmar\",'D',0.7,100]\n",
        "for i in my_list:\n",
        "  print(i)\n",
        "print(my_list[1])\n",
        "print(my_list[-2])\n",
        "print(\"parmar\" in my_list)\n",
        "m_list=[\"don\",\"donv\",\"donj\"]\n",
        "for i in range(len(m_list)):\n",
        "  m_list[i]=m_list[i]+\"+\"\n",
        "  print(m_list[i])\n",
        "\n",
        "\n"
      ]
    },
    {
      "cell_type": "code",
      "source": [
        "#update list\n",
        "my_list[2]=98.7\n",
        "print(my_list)\n"
      ],
      "metadata": {
        "colab": {
          "base_uri": "https://localhost:8080/"
        },
        "id": "ehfrxaIZbI1v",
        "outputId": "c5a290a5-e0fe-4a7c-dd52-0d4aa3101f0c"
      },
      "execution_count": null,
      "outputs": [
        {
          "output_type": "stream",
          "name": "stdout",
          "text": [
            "['viraj', 15, 98.7, 'parmar', 'D', 0.7, 100]\n"
          ]
        }
      ]
    },
    {
      "cell_type": "code",
      "source": [
        "#insert list\n",
        "#list method 1.insert() 2.append() 3.extend()\n",
        "my_list.insert(9,\"hemat\")\n",
        "print(my_list)\n",
        "my_list.append(45)\n",
        "print(my_list)\n",
        "my_list.extend([66,\"bbb\",55])\n",
        "print(my_list)"
      ],
      "metadata": {
        "colab": {
          "base_uri": "https://localhost:8080/"
        },
        "id": "GTfn2DxRc_IB",
        "outputId": "aa8b8476-8827-47f5-d1e4-0e7fc5728c1a"
      },
      "execution_count": null,
      "outputs": [
        {
          "output_type": "stream",
          "name": "stdout",
          "text": [
            "['hemat', 'viraj', 15, 'hemat', 98.7, 'parmar', 'D', 0.7, 100, 'hemat', 'hemat', 'hemat', 'hemat', 45, 45]\n",
            "['hemat', 'viraj', 15, 'hemat', 98.7, 'parmar', 'D', 0.7, 100, 'hemat', 'hemat', 'hemat', 'hemat', 45, 45, 45]\n",
            "['hemat', 'viraj', 15, 'hemat', 98.7, 'parmar', 'D', 0.7, 100, 'hemat', 'hemat', 'hemat', 'hemat', 45, 45, 45, 66, 'bbb', 55]\n"
          ]
        }
      ]
    },
    {
      "cell_type": "code",
      "source": [
        "#slice\n",
        "glist=['a','b','c','d','e','f']\n",
        "glist[0:3]=['x','y','z']\n",
        "print(glist)"
      ],
      "metadata": {
        "colab": {
          "base_uri": "https://localhost:8080/"
        },
        "id": "75IIEvjFhH3O",
        "outputId": "42ed63b1-d5ee-4238-d9bb-d900e2eaa224"
      },
      "execution_count": null,
      "outputs": [
        {
          "output_type": "stream",
          "name": "stdout",
          "text": [
            "['x', 'y', 'z', 'd', 'e', 'f']\n"
          ]
        }
      ]
    },
    {
      "cell_type": "code",
      "source": [
        "#delete\n",
        "glist.pop(3)\n",
        "print(glist)\n",
        "\n",
        "del glist[0]\n",
        "print(glist)\n",
        "\n",
        "glist.remove('y')\n",
        "print(glist)"
      ],
      "metadata": {
        "colab": {
          "base_uri": "https://localhost:8080/"
        },
        "id": "Y0tRBftChviS",
        "outputId": "43205c14-cb29-40cb-d716-0aa9ca87dcaa"
      },
      "execution_count": null,
      "outputs": [
        {
          "output_type": "stream",
          "name": "stdout",
          "text": [
            "['y', 'z']\n",
            "['y', 'z']\n",
            "['z']\n"
          ]
        }
      ]
    },
    {
      "cell_type": "code",
      "source": [
        "#search\n",
        "slist=[10,20,30,40,50,60,70,80,90]\n",
        "target = 55\n",
        "if target in slist:\n",
        "  print(\"target is in list\")\n",
        "else:\n",
        "  print(\"target is not in list\")\n"
      ],
      "metadata": {
        "id": "0YGb6j3Niquq",
        "colab": {
          "base_uri": "https://localhost:8080/"
        },
        "outputId": "d3db18c2-4e82-4c45-c3fb-24cce8f8f0fb"
      },
      "execution_count": null,
      "outputs": [
        {
          "output_type": "stream",
          "name": "stdout",
          "text": [
            "target is not in list\n"
          ]
        }
      ]
    },
    {
      "cell_type": "code",
      "source": [
        "age = 22\n",
        "ptr = age\n",
        "_age = ptr\n",
        "print(_age)\n",
        "\n",
        "print(id(age))\n",
        "print(id(ptr))\n",
        "\n",
        "print(age)\n",
        "print(ptr)\n"
      ],
      "metadata": {
        "colab": {
          "base_uri": "https://localhost:8080/"
        },
        "id": "7-ykUTmv7qGS",
        "outputId": "7c88d380-0bb4-4f71-a643-a3a39997583d"
      },
      "execution_count": null,
      "outputs": [
        {
          "output_type": "stream",
          "name": "stdout",
          "text": [
            "22\n",
            "134061641204624\n",
            "134061641204624\n",
            "22\n",
            "22\n"
          ]
        }
      ]
    }
  ]
}