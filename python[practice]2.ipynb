{
  "nbformat": 4,
  "nbformat_minor": 0,
  "metadata": {
    "colab": {
      "provenance": []
    },
    "kernelspec": {
      "name": "python3",
      "display_name": "Python 3"
    },
    "language_info": {
      "name": "python"
    }
  },
  "cells": [
    {
      "cell_type": "markdown",
      "source": [
        "#ONE DIMENSIONAL ARRAY PRACTICE"
      ],
      "metadata": {
        "id": "455p_7ltsa88"
      }
    },
    {
      "cell_type": "code",
      "source": [
        "#create an array and traverse\n",
        "import numpy as np\n",
        "arr = np.array([1,2,3,4,5])\n",
        "for i in arr:\n",
        "    print(i)"
      ],
      "metadata": {
        "colab": {
          "base_uri": "https://localhost:8080/"
        },
        "id": "zK7nCuh1b9BN",
        "outputId": "923527ea-ca41-434d-d23b-bd9006cf4f56"
      },
      "execution_count": null,
      "outputs": [
        {
          "output_type": "stream",
          "name": "stdout",
          "text": [
            "1\n",
            "2\n",
            "3\n",
            "4\n",
            "5\n"
          ]
        }
      ]
    },
    {
      "cell_type": "code",
      "source": [
        "#access individual element through indexes\n",
        "arr=np.array([1,2,3,4,5])\n",
        "print(arr[4])\n"
      ],
      "metadata": {
        "colab": {
          "base_uri": "https://localhost:8080/"
        },
        "id": "O4TaDrT_dKMn",
        "outputId": "1c248918-eb3f-4c9d-bb1e-76c2c267b671"
      },
      "execution_count": null,
      "outputs": [
        {
          "output_type": "stream",
          "name": "stdout",
          "text": [
            "5\n"
          ]
        }
      ]
    },
    {
      "cell_type": "code",
      "source": [
        "#append any value to the array using append() method\n",
        "arr=np.array([1,2,3,4,5])\n",
        "arr=np.append(arr,8)\n",
        "arr"
      ],
      "metadata": {
        "colab": {
          "base_uri": "https://localhost:8080/"
        },
        "id": "Efin3qweek3Q",
        "outputId": "11f271c1-11b5-4623-9264-99a29eda12fc"
      },
      "execution_count": null,
      "outputs": [
        {
          "output_type": "execute_result",
          "data": {
            "text/plain": [
              "array([1, 2, 3, 4, 5, 8])"
            ]
          },
          "metadata": {},
          "execution_count": 4
        }
      ]
    },
    {
      "cell_type": "code",
      "source": [
        "#insert any value in an array using insert() method\n",
        "arr=np.insert(arr,0,0)\n",
        "arr\n"
      ],
      "metadata": {
        "colab": {
          "base_uri": "https://localhost:8080/"
        },
        "id": "dcsaGn7vgS7p",
        "outputId": "6fd59a0d-e8f1-4f8b-b0f6-405e25a83cc9"
      },
      "execution_count": null,
      "outputs": [
        {
          "output_type": "execute_result",
          "data": {
            "text/plain": [
              "array([0, 1, 2, 3, 4, 5, 8])"
            ]
          },
          "metadata": {},
          "execution_count": 5
        }
      ]
    },
    {
      "cell_type": "code",
      "source": [
        "#extent python array using python extend function()\n",
        "print(arr)"
      ],
      "metadata": {
        "colab": {
          "base_uri": "https://localhost:8080/"
        },
        "id": "CX3GH7pWhVEY",
        "outputId": "4d177e00-2647-4bf6-a85a-750177166eb4"
      },
      "execution_count": null,
      "outputs": [
        {
          "output_type": "stream",
          "name": "stdout",
          "text": [
            "[0 1 2 3 4 5 8]\n"
          ]
        }
      ]
    },
    {
      "cell_type": "code",
      "source": [
        "arr1=np.array([9,8,7])"
      ],
      "metadata": {
        "id": "t5BVdvVaieii"
      },
      "execution_count": null,
      "outputs": []
    },
    {
      "cell_type": "code",
      "source": [
        "arr2=np.concatenate((arr,arr1))\n",
        "arr2"
      ],
      "metadata": {
        "colab": {
          "base_uri": "https://localhost:8080/"
        },
        "id": "O6zZBDCihh4q",
        "outputId": "e8295127-5bf2-4dd3-d054-d86b3fafe263"
      },
      "execution_count": null,
      "outputs": [
        {
          "output_type": "execute_result",
          "data": {
            "text/plain": [
              "array([0, 1, 2, 3, 4, 5, 8, 9, 8, 7])"
            ]
          },
          "metadata": {},
          "execution_count": 8
        }
      ]
    },
    {
      "cell_type": "code",
      "source": [
        "#add items from list into array using fromlist() method\n",
        "import array\n",
        "my_array = array.array('i',[1,2,3,4,5])\n",
        "list1=[1,2,3,4]\n",
        "my_array.fromlist(list1)\n",
        "my_array"
      ],
      "metadata": {
        "colab": {
          "base_uri": "https://localhost:8080/"
        },
        "id": "UW37j1q6ison",
        "outputId": "f7ad8ca8-ba46-42cd-edc0-fb1c1d99c38b"
      },
      "execution_count": null,
      "outputs": [
        {
          "output_type": "execute_result",
          "data": {
            "text/plain": [
              "array('i', [1, 2, 3, 4, 5, 1, 2, 3, 4])"
            ]
          },
          "metadata": {},
          "execution_count": 9
        }
      ]
    },
    {
      "cell_type": "code",
      "source": [
        "#remove any array element using remove() method\n",
        "my_array.remove(2)\n",
        "my_array\n"
      ],
      "metadata": {
        "colab": {
          "base_uri": "https://localhost:8080/"
        },
        "id": "Zg2BNC18kZ2K",
        "outputId": "cbb7cdb5-7d1d-4582-ba50-fa1c680c4d87"
      },
      "execution_count": null,
      "outputs": [
        {
          "output_type": "execute_result",
          "data": {
            "text/plain": [
              "array('i', [1, 3, 4, 5, 1, 2, 3, 4])"
            ]
          },
          "metadata": {},
          "execution_count": 10
        }
      ]
    },
    {
      "cell_type": "code",
      "source": [
        "#remove last array element using pop() method\n",
        "my_array.pop()\n",
        "my_array"
      ],
      "metadata": {
        "colab": {
          "base_uri": "https://localhost:8080/"
        },
        "id": "NiSKOI90loa6",
        "outputId": "d2f3905d-22e8-4a50-fe85-0739abd4421e"
      },
      "execution_count": null,
      "outputs": [
        {
          "output_type": "execute_result",
          "data": {
            "text/plain": [
              "array('i', [1, 3, 4, 5, 1, 2, 3])"
            ]
          },
          "metadata": {},
          "execution_count": 11
        }
      ]
    },
    {
      "cell_type": "code",
      "source": [
        "#fetch any element through its index using index() method\n",
        "my_array.index(3)\n",
        "my_array"
      ],
      "metadata": {
        "colab": {
          "base_uri": "https://localhost:8080/"
        },
        "id": "9dOwpsNGl-Wo",
        "outputId": "ef96f860-0cba-429f-ad6e-c93fa01ebc54"
      },
      "execution_count": null,
      "outputs": [
        {
          "output_type": "execute_result",
          "data": {
            "text/plain": [
              "array('i', [1, 3, 4, 5, 1, 2, 3])"
            ]
          },
          "metadata": {},
          "execution_count": 12
        }
      ]
    },
    {
      "cell_type": "code",
      "source": [
        "#reverse pyhton array using reverse() method\n",
        "my_array.reverse()\n",
        "print(my_array)"
      ],
      "metadata": {
        "colab": {
          "base_uri": "https://localhost:8080/"
        },
        "id": "C9JRNPL-mpAO",
        "outputId": "6d46a410-9702-4614-d6c4-c6a9e0ba380b"
      },
      "execution_count": null,
      "outputs": [
        {
          "output_type": "stream",
          "name": "stdout",
          "text": [
            "array('i', [3, 2, 1, 5, 4, 3, 1])\n"
          ]
        }
      ]
    },
    {
      "cell_type": "code",
      "source": [
        "#get the array buffer infromation through buffer_info() method\n",
        "print(my_array.buffer_info())"
      ],
      "metadata": {
        "colab": {
          "base_uri": "https://localhost:8080/"
        },
        "id": "c-FDXmMvoIos",
        "outputId": "3876753b-425f-4713-bb70-bac8773acc9f"
      },
      "execution_count": null,
      "outputs": [
        {
          "output_type": "stream",
          "name": "stdout",
          "text": [
            "(136074535954080, 7)\n"
          ]
        }
      ]
    },
    {
      "cell_type": "code",
      "source": [
        "#check the number of occurrences of an element using count() method\n",
        "print(my_array)\n",
        "print(my_array.count(1))"
      ],
      "metadata": {
        "colab": {
          "base_uri": "https://localhost:8080/"
        },
        "id": "EYU6IuLPojCI",
        "outputId": "a8beb5f3-1ff1-43c0-9d62-873229f9cd27"
      },
      "execution_count": null,
      "outputs": [
        {
          "output_type": "stream",
          "name": "stdout",
          "text": [
            "array('i', [3, 2, 1, 5, 4, 3, 1])\n",
            "2\n"
          ]
        }
      ]
    },
    {
      "cell_type": "code",
      "source": [
        "#convert array to string using tobytes() method\n",
        "arr5=my_array.tobytes()\n",
        "print(arr5)"
      ],
      "metadata": {
        "colab": {
          "base_uri": "https://localhost:8080/"
        },
        "id": "X9SpWtSopMcx",
        "outputId": "15276a0b-4097-452e-94aa-7532dfd38ee5"
      },
      "execution_count": null,
      "outputs": [
        {
          "output_type": "stream",
          "name": "stdout",
          "text": [
            "b'\\x03\\x00\\x00\\x00\\x02\\x00\\x00\\x00\\x01\\x00\\x00\\x00\\x05\\x00\\x00\\x00\\x04\\x00\\x00\\x00\\x03\\x00\\x00\\x00\\x01\\x00\\x00\\x00'\n"
          ]
        }
      ]
    },
    {
      "cell_type": "code",
      "source": [
        "#convert array to a python list with same elements using tolist()\n",
        "list2=my_array.tolist()\n",
        "list2"
      ],
      "metadata": {
        "colab": {
          "base_uri": "https://localhost:8080/"
        },
        "id": "stLoG-ljp7Dz",
        "outputId": "b11c8e03-8d34-42d6-847d-32af98145490"
      },
      "execution_count": null,
      "outputs": [
        {
          "output_type": "execute_result",
          "data": {
            "text/plain": [
              "[3, 2, 1, 5, 4, 3, 1]"
            ]
          },
          "metadata": {},
          "execution_count": 17
        }
      ]
    },
    {
      "cell_type": "code",
      "source": [
        "#slice elements from an array\n",
        "print(my_array[1:4])\n",
        "print(my_array)"
      ],
      "metadata": {
        "colab": {
          "base_uri": "https://localhost:8080/"
        },
        "id": "OmELfY7qqX9r",
        "outputId": "dd6a5126-48d9-4004-cf71-e3237c8171df"
      },
      "execution_count": null,
      "outputs": [
        {
          "output_type": "stream",
          "name": "stdout",
          "text": [
            "array('i', [2, 1, 5])\n",
            "array('i', [3, 2, 1, 5, 4, 3, 1])\n"
          ]
        }
      ]
    },
    {
      "cell_type": "markdown",
      "source": [
        "#TWO DIMENSINAL"
      ],
      "metadata": {
        "id": "jpTeiAsmsl6V"
      }
    },
    {
      "cell_type": "code",
      "source": [
        "#day-1 11,15,10,6\n",
        "#day-2 10,14,11,5\n",
        "#day-3 12,17,12,8\n",
        "#day-4 15,18,14,9\n",
        "tdarray=np.array([[11,15,10,6],[10,14,11,5],[12,17,12,8],[15,18,14,9]])\n",
        "tdarray"
      ],
      "metadata": {
        "colab": {
          "base_uri": "https://localhost:8080/"
        },
        "id": "N1WiJuSPsp9M",
        "outputId": "fe68c97f-2c5d-4fbc-bfad-23ce4e34f665"
      },
      "execution_count": null,
      "outputs": [
        {
          "output_type": "execute_result",
          "data": {
            "text/plain": [
              "array([[11, 15, 10,  6],\n",
              "       [10, 14, 11,  5],\n",
              "       [12, 17, 12,  8],\n",
              "       [15, 18, 14,  9]])"
            ]
          },
          "metadata": {},
          "execution_count": 39
        }
      ]
    },
    {
      "cell_type": "code",
      "source": [
        "#insert\n",
        "new2darray=np.insert(tdarray,0,[[1,2,3,4]],axis=0)\n",
        "new2darray"
      ],
      "metadata": {
        "colab": {
          "base_uri": "https://localhost:8080/"
        },
        "id": "qjBnO4TDugU3",
        "outputId": "7f4c7301-c699-4377-a827-70e0e927c864"
      },
      "execution_count": null,
      "outputs": [
        {
          "output_type": "execute_result",
          "data": {
            "text/plain": [
              "array([[ 1,  2,  3,  4],\n",
              "       [11, 15, 10,  6],\n",
              "       [10, 14, 11,  5],\n",
              "       [12, 17, 12,  8],\n",
              "       [15, 18, 14,  9]])"
            ]
          },
          "metadata": {},
          "execution_count": 20
        }
      ]
    },
    {
      "cell_type": "code",
      "source": [
        "#access an element\n",
        "def accesselement(array,rowindex,columnindex):\n",
        "  if rowindex>=len(array) or columnindex>=len(array[0]):\n",
        "    print('incorrect index')\n",
        "  else:\n",
        "    print(array[rowindex][columnindex])\n",
        "\n",
        "accesselement(tdarray,7,1)\n"
      ],
      "metadata": {
        "colab": {
          "base_uri": "https://localhost:8080/"
        },
        "id": "hYJf8xefxiGH",
        "outputId": "2e4ab1a1-833f-4c75-8e23-5de9ea102b07"
      },
      "execution_count": null,
      "outputs": [
        {
          "output_type": "stream",
          "name": "stdout",
          "text": [
            "incorrect index\n"
          ]
        }
      ]
    },
    {
      "cell_type": "code",
      "source": [
        "#traversal of array\n",
        "def traversearray(array):\n",
        "  for i in range(len(array)):\n",
        "    for j in range(len(array[0])):\n",
        "      print(array[i][j])\n",
        "traversearray(tdarray)"
      ],
      "metadata": {
        "id": "gVKOpV9ryRqy",
        "colab": {
          "base_uri": "https://localhost:8080/"
        },
        "outputId": "fcb5cb17-61b5-4a45-c6d5-429fdf1c1796"
      },
      "execution_count": null,
      "outputs": [
        {
          "output_type": "stream",
          "name": "stdout",
          "text": [
            "11\n",
            "15\n",
            "10\n",
            "6\n",
            "10\n",
            "14\n",
            "11\n",
            "5\n",
            "12\n",
            "17\n",
            "12\n",
            "8\n",
            "15\n",
            "18\n",
            "14\n",
            "9\n"
          ]
        }
      ]
    },
    {
      "cell_type": "code",
      "source": [
        "#search an array\n",
        "print(tdarray)\n",
        "def searcharray(array,element):\n",
        "  for i in range(len(array)):\n",
        "    for j in range(len(array[0])):\n",
        "      if array[i][j]==element:\n",
        "        print(i,j)\n",
        "\n",
        "searcharray(tdarray,17)\n"
      ],
      "metadata": {
        "colab": {
          "base_uri": "https://localhost:8080/"
        },
        "id": "pSuCwaE0Ihsh",
        "outputId": "865e167a-6542-41a7-f680-7900f0d5dc49"
      },
      "execution_count": null,
      "outputs": [
        {
          "output_type": "stream",
          "name": "stdout",
          "text": [
            "[[11 15 10  6]\n",
            " [10 14 11  5]\n",
            " [12 17 12  8]\n",
            " [15 18 14  9]]\n",
            "2 1\n"
          ]
        }
      ]
    },
    {
      "cell_type": "code",
      "source": [
        "#delete an array\n",
        "new2darray = np.delete(tdarray,0,axis=1)\n",
        "new2darray"
      ],
      "metadata": {
        "colab": {
          "base_uri": "https://localhost:8080/"
        },
        "id": "iRMcgPMgO5RQ",
        "outputId": "f35ce276-5c65-4607-9352-eecb97ae88a5"
      },
      "execution_count": null,
      "outputs": [
        {
          "output_type": "execute_result",
          "data": {
            "text/plain": [
              "array([[15, 10,  6],\n",
              "       [14, 11,  5],\n",
              "       [17, 12,  8],\n",
              "       [18, 14,  9]])"
            ]
          },
          "metadata": {},
          "execution_count": 55
        }
      ]
    }
  ]
}