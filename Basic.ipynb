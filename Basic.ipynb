{
  "nbformat": 4,
  "nbformat_minor": 0,
  "metadata": {
    "colab": {
      "provenance": []
    },
    "kernelspec": {
      "name": "python3",
      "display_name": "Python 3"
    },
    "language_info": {
      "name": "python"
    }
  },
  "cells": [
    {
      "cell_type": "markdown",
      "source": [
        "List is a collection which is ordered and changeable. Allows duplicate members.\n",
        "Tuple is a collection which is ordered and unchangeable. Allows duplicate members.\n",
        "Set is a collection which is unordered, unchangeable*, and unindexed. No duplicate members.\n",
        "Dictionary is a collection which is ordered** and changeable. No duplicate members."
      ],
      "metadata": {
        "id": "sugv1_5ufs7w"
      }
    },
    {
      "cell_type": "code",
      "source": [],
      "metadata": {
        "id": "32bL6wutcJZv"
      },
      "execution_count": null,
      "outputs": []
    },
    {
      "cell_type": "markdown",
      "source": [
        "#List\n",
        "'''Lists are used to store multiple items in a single variable.\n",
        "◉ Lists are one of 4 built-in data types in Python used to store collections of data, the\n",
        "other 3 are Tuple, Set, and Dictionary, all with different qualities and usage.\n",
        "◉ A list is a container which holds comma-separated values (items or elements)\n",
        "between square brackets.\n",
        "◉ Lists need not be homogeneous always which makes it a most powerful tool\n",
        "in Python.\n",
        "◉ A single list may contain Data types like Integers, Strings, as well as Objects. Lists\n",
        "are mutable, and hence, they can be altered even after their creation.\n",
        "Simple access like array and string\n",
        "List allow duplicate values'''\n",
        "pop=pop use for to remove item based on index in list.\n",
        "slicing=slicing use for to extract item based on index.[start:end],[start:end:interval]\n",
        "add items to the list\n",
        "1 append = after complete list data\n",
        "2 insert = insert(index,item)\n",
        "remove items\n",
        "1) either using known value in the list\n",
        "2) using particular index of the list\n",
        "Three methods\n",
        "1) remove - used with value as inpute\n",
        "2) pop - will remove last element, using index\n",
        "3) del - removing elements from specified index"
      ],
      "metadata": {
        "id": "VS9o9Hgp0STu"
      }
    },
    {
      "cell_type": "code",
      "source": [
        "list1=['abc',1,2,3,'a',3.6,3.6]\n",
        "print(list1)\n",
        "# assigning values\n",
        "print(list1)\n",
        "list1[0]=\"xyz\" # list is mutable\n",
        "#Reassigning a few elements: You can also reassign a slice of a list in Python.\n",
        "list1[2:]=['bronze','silver']\n",
        "print(list1)"
      ],
      "metadata": {
        "colab": {
          "base_uri": "https://localhost:8080/"
        },
        "id": "nLavlJl_oOhG",
        "outputId": "957f49f9-4f47-4cef-b50d-79463897b892"
      },
      "execution_count": null,
      "outputs": [
        {
          "output_type": "stream",
          "name": "stdout",
          "text": [
            "['abc', 1, 2, 3, 'a', 3.6, 3.6]\n",
            "['abc', 1, 2, 3, 'a', 3.6, 3.6]\n",
            "['xyz', 1, 'bronze', 'silver']\n"
          ]
        }
      ]
    },
    {
      "cell_type": "code",
      "source": [
        "print(list1)\n",
        "print(list1[ : ])\n",
        "print(list1[1:5]) # slice from start to end-1\n",
        "print(list1[ :4])\n",
        "print(list1[ 2:])\n",
        "print(list1[-4:-1])"
      ],
      "metadata": {
        "colab": {
          "base_uri": "https://localhost:8080/"
        },
        "id": "zvsetNURo_Yu",
        "outputId": "da83f856-8644-422b-b30c-8083582e52b0"
      },
      "execution_count": null,
      "outputs": [
        {
          "output_type": "stream",
          "name": "stdout",
          "text": [
            "['xyz', 1, 'bronze', 'silver']\n",
            "['xyz', 1, 'bronze', 'silver']\n",
            "[1, 'bronze', 'silver']\n",
            "['xyz', 1, 'bronze', 'silver']\n",
            "['bronze', 'silver']\n",
            "['xyz', 1, 'bronze']\n"
          ]
        }
      ]
    },
    {
      "cell_type": "code",
      "source": [
        "#change range of items\n",
        "list1=['abc',1,2,3,'a','python',3.6]\n",
        "print(list1)\n",
        "list1[2:2]=[\"x\",\"y\",\"z\",\"w\"]\n",
        "print(list1)"
      ],
      "metadata": {
        "colab": {
          "base_uri": "https://localhost:8080/"
        },
        "id": "Lg4JW66Vs2gn",
        "outputId": "42a4d66a-0662-4790-b5f0-d42efe5d5d59"
      },
      "execution_count": null,
      "outputs": [
        {
          "output_type": "stream",
          "name": "stdout",
          "text": [
            "['abc', 1, 2, 3, 'a', 'python', 3.6]\n",
            "['abc', 1, 'x', 'y', 'z', 'w', 2, 3, 'a', 'python', 3.6]\n"
          ]
        }
      ]
    },
    {
      "cell_type": "code",
      "source": [
        "#Iterating Through a List\n",
        "#loop through a list for item x in the list\n",
        "list1=['a','b','c']\n",
        "print(list1)\n",
        "for y in list1:\n",
        "  print(y)"
      ],
      "metadata": {
        "colab": {
          "base_uri": "https://localhost:8080/"
        },
        "id": "mTWriYZAzQnu",
        "outputId": "46a2e351-e46b-4063-f494-48e96c51da0f"
      },
      "execution_count": null,
      "outputs": [
        {
          "output_type": "stream",
          "name": "stdout",
          "text": [
            "['a', 'b', 'c']\n",
            "a\n",
            "b\n",
            "c\n"
          ]
        }
      ]
    },
    {
      "cell_type": "code",
      "source": [
        "print(list1)\n",
        "list1.append(\"new\")\n",
        "print(list1)"
      ],
      "metadata": {
        "colab": {
          "base_uri": "https://localhost:8080/"
        },
        "id": "4v1-2HoXzvCf",
        "outputId": "1003e745-8229-472e-fa54-b2e1390b69be"
      },
      "execution_count": null,
      "outputs": [
        {
          "output_type": "stream",
          "name": "stdout",
          "text": [
            "['a', 'b', 'c', 'new', 'new']\n",
            "['a', 'b', 'c', 'new', 'new', 'new']\n"
          ]
        }
      ]
    },
    {
      "cell_type": "code",
      "source": [
        "# nested list\n",
        "#A list can also have another list as an item. This is called a nested list.\n",
        "\n",
        "list5 = [\"xyz\", [8, 4, 6], ['a']]\n",
        "print(list5)\n",
        "print(list5[1])\n",
        "print(list5[1][2])"
      ],
      "metadata": {
        "colab": {
          "base_uri": "https://localhost:8080/"
        },
        "id": "W2rY8fYc3tRV",
        "outputId": "a11d9699-ccc6-4e09-ddb1-dba808711cab"
      },
      "execution_count": null,
      "outputs": [
        {
          "output_type": "stream",
          "name": "stdout",
          "text": [
            "['xyz', [8, 4, 6], ['a']]\n",
            "[8, 4, 6]\n",
            "6\n"
          ]
        }
      ]
    },
    {
      "cell_type": "code",
      "source": [
        "#multidimensional list\n",
        "a=[[[1,2],[3,4],5],[6,7]]\n",
        "print(a)\n",
        "print(a[0][1][1])"
      ],
      "metadata": {
        "colab": {
          "base_uri": "https://localhost:8080/"
        },
        "id": "l0TpF-k85C7H",
        "outputId": "b7efacf1-3e6c-4b38-a611-90e503b21dbe"
      },
      "execution_count": null,
      "outputs": [
        {
          "output_type": "stream",
          "name": "stdout",
          "text": [
            "[[[1, 2], [3, 4], 5], [6, 7]]\n",
            "4\n"
          ]
        }
      ]
    },
    {
      "cell_type": "code",
      "source": [
        "#sort\n",
        "b=[1,3,4,6,2,8,8,9]\n",
        "print(b)\n",
        "b.sort()\n",
        "print(b)\n",
        "b.sort(reverse=True)\n",
        "print(b)"
      ],
      "metadata": {
        "colab": {
          "base_uri": "https://localhost:8080/"
        },
        "id": "rZmkaP7r5S-F",
        "outputId": "12364585-1129-495c-b448-b356b13553ff"
      },
      "execution_count": null,
      "outputs": [
        {
          "output_type": "stream",
          "name": "stdout",
          "text": [
            "[1, 3, 4, 6, 2, 8, 8, 9]\n",
            "[1, 2, 3, 4, 6, 8, 8, 9]\n",
            "[9, 8, 8, 6, 4, 3, 2, 1]\n"
          ]
        }
      ]
    },
    {
      "cell_type": "markdown",
      "source": [
        "#sets\n",
        "* SETs are used when we are not concerned about ordering of elements\n",
        "* not concerned about index and item arrangements\n",
        "* SET is inordered, unindexed pair\n",
        "* SETs are unchangeable and do not allow duplicate values\n",
        "* sets are unchangable but we can add and remove element fro set\n",
        "* can't access items using index\n",
        "* Sets can also be used to perform mathematical set operations like union, intersection, symmetric difference, etc\n",
        "* A set is created by placing all the items (elements) inside curly braces {}, separated by comma, or by using the built-in set() function.\n",
        "* Set  can have immutable elements and any number of items and they may be of different ty\n",
        "* pes (integer, float, tuple, string etc.).\n",
        "* But a set cannot have mutable elements like lists, sets  or dictionaries as its elements\n"
      ],
      "metadata": {
        "id": "OyxgZudt6yvt"
      }
    },
    {
      "cell_type": "code",
      "source": [
        "# to access single elemnet of set , set is converted in to list\n",
        "set1 = {\"python\",\"java\",\"php\",\"java\"}\n",
        "print(set1)\n",
        "print(set1)\n",
        "z=list(set1)\n",
        "print(z[0])"
      ],
      "metadata": {
        "colab": {
          "base_uri": "https://localhost:8080/"
        },
        "id": "6SmEWueT7l_S",
        "outputId": "66f98f17-f2b5-4466-df0a-f51504449beb"
      },
      "execution_count": null,
      "outputs": [
        {
          "output_type": "stream",
          "name": "stdout",
          "text": [
            "{'java', 'python', 'php'}\n",
            "{'java', 'python', 'php'}\n",
            "java\n"
          ]
        }
      ]
    },
    {
      "cell_type": "code",
      "source": [
        "#Access element of set using iter and next keyword\n",
        "set1 = {1, 2, 3, 4, 5}\n",
        "\n",
        "x = next(iter(set1))\n",
        "#prints first item\n",
        "print(x)"
      ],
      "metadata": {
        "colab": {
          "base_uri": "https://localhost:8080/"
        },
        "id": "nqLuNQeuHDUm",
        "outputId": "d0480b3b-b46a-4db9-8d54-d315087da2ca"
      },
      "execution_count": null,
      "outputs": [
        {
          "output_type": "stream",
          "name": "stdout",
          "text": [
            "1\n"
          ]
        }
      ]
    },
    {
      "cell_type": "code",
      "source": [
        "set={1,3}\n",
        "set.add(4)\n",
        "print(set)"
      ],
      "metadata": {
        "colab": {
          "base_uri": "https://localhost:8080/"
        },
        "id": "_L3ctZ6-HFmy",
        "outputId": "7e8a7ef1-5fc7-4376-f103-1b683ced7b1d"
      },
      "execution_count": null,
      "outputs": [
        {
          "output_type": "stream",
          "name": "stdout",
          "text": [
            "{1, 3, 4}\n"
          ]
        }
      ]
    },
    {
      "cell_type": "code",
      "source": [
        "set.update([2,6])\n",
        "print(set)\n",
        "set.update({7,8})\n",
        "print(set)"
      ],
      "metadata": {
        "colab": {
          "base_uri": "https://localhost:8080/"
        },
        "id": "KU-oYe_FWF9k",
        "outputId": "6f1aedef-173a-4176-d7a3-1bde760f49c1"
      },
      "execution_count": null,
      "outputs": [
        {
          "output_type": "stream",
          "name": "stdout",
          "text": [
            "{1, 2, 3, 4, 6}\n",
            "{1, 2, 3, 4, 6, 7, 8}\n"
          ]
        }
      ]
    },
    {
      "cell_type": "code",
      "source": [
        "set.discard(7)\n",
        "print(set)"
      ],
      "metadata": {
        "colab": {
          "base_uri": "https://localhost:8080/"
        },
        "id": "mdPxurB9YF8J",
        "outputId": "9a20064f-e68b-4556-eaa7-551abb2f3c9a"
      },
      "execution_count": null,
      "outputs": [
        {
          "output_type": "stream",
          "name": "stdout",
          "text": [
            "{1, 2, 3, 4, 6, 8}\n"
          ]
        }
      ]
    },
    {
      "cell_type": "code",
      "source": [
        "set.remove(3)\n",
        "print(set)"
      ],
      "metadata": {
        "colab": {
          "base_uri": "https://localhost:8080/"
        },
        "id": "eel3-vgPYI4e",
        "outputId": "0dd69d5e-0894-4f89-ec49-772efcbed6f6"
      },
      "execution_count": null,
      "outputs": [
        {
          "output_type": "stream",
          "name": "stdout",
          "text": [
            "{1, 2, 4, 6, 8}\n"
          ]
        }
      ]
    },
    {
      "cell_type": "code",
      "source": [
        "'''Other Python Set Methods\n",
        "◉ There are many set methods, some of which we have already used above. Here is a list of all  the methods that are available with the set objects:\n",
        "\n",
        "add()                         Adds an element to the set\n",
        "clear()                       Removes all elements from the set\n",
        "copy()                        Returns a copy of the set\n",
        "difference()                  Returns the difference of two or more sets as a new set\n",
        "difference_update()           Removes all elements of another set from this set\n",
        "discard()                     Removes an element from the set if it is a member. (Do nothing if the element is not in set)\n",
        "intersection()                Returns the intersection of two sets as a new set\n",
        "intersection_update()         Updates the set with the intersection of itself and another Sets\n",
        "isdisjoint()                  Returns True if two sets have a null intersection\n",
        "issubset()                    Returns True if another set contains this set\n",
        "issuperset()                  Returns True if this set contains another set\n",
        "pop()                         Removes and returns an arbitrary set element. Raises KeyError if the set is empty\n",
        "remove()                      Removes an element from the set. If the element is not a member, raises a KeyError\n",
        "symmetric_difference()        Returns the symmetric difference of two sets as a new set\n",
        "symmetric_difference_update() Updates a set with the symmetric difference of itself and another\n",
        "union()                       Returns the union of sets in a new set\n",
        "update()                      Updates the set with the union of itself and other'''\n",
        "'''\n",
        "all()       Returns True if all elements of the set are true (or if the set is empty).\n",
        "any()       Returns True if any element of the set is true. If the set is empty, returns False.\n",
        "enumerate() Returns an enumerate object. It contains the index and value for all the items of the set as a pair.\n",
        "len()       Returns the length (the number of items) in the set.\n",
        "max()       Returns the largest item in the set.\n",
        "min()       Returns the smallest item in the set.\n",
        "sorted()    Returns a new sorted list from elements in the set(does not sort the set itself).\n",
        "sum()       Returns the sum of all elements in the set.'''"
      ],
      "metadata": {
        "id": "zfuDAkeRbwV9"
      },
      "execution_count": null,
      "outputs": []
    },
    {
      "cell_type": "markdown",
      "source": [
        "#Tuples\n",
        "* tuples use small brackets ()\n",
        "* immutable\n",
        "* used to store multile items in a single varible\n",
        "* collection which is ordered and unchangeable\n",
        "* tuple vs list\n",
        "* List :- consumes more memory,dynamic in nature, access is slower\n",
        "* uples:- consumes less memory, static in nature,access is faster"
      ],
      "metadata": {
        "id": "GPtYGdGYl3La"
      }
    },
    {
      "cell_type": "markdown",
      "source": [
        "'''Tuples are used to store multiple items in a single variable.\n",
        "◉ A tuple is a collection which is ordered and unchangeable i.e., immutable.\n",
        "◉ Tuples are written with round brackets.\n",
        "◉ Tuples are sequences, just like lists. The differences between tuples and lists are,\n",
        "the tuples cannot be changed unlike lists and tuples use parentheses, whereas lists\n",
        "use square brackets.\n",
        "◉ A tuple can have any number of items and they may be of different types (integer,\n",
        "float, list, string, etc.).\n",
        "◉ Creating a tuple is as simple as putting different comma-separated values.\n",
        "Optionally you can put these comma-separated values between parentheses also...\n",
        "Duplicates are allowed'''"
      ],
      "metadata": {
        "id": "1suZL-__mQT-"
      }
    },
    {
      "cell_type": "markdown",
      "source": [
        "#Dictionary\n",
        "'''Python dictionary is an unordered collection of items. Each item of a dictionary has\n",
        "a key/value pair.\n",
        "Dictionary is a mutable data type in Python.\n",
        "A python dictionary is a collection of key and value pairs separated by a colon (:),\n",
        "enclosed in curly braces {}.\n",
        "Here we have a dictionary. Left side of the colon(:) is the key and right side of the :\n",
        "is the value.\n",
        "mydict = {'Name': ‘abc', 'Age': 27, 'City': ‘Vadodara'}\n",
        "Dictionaries are optimized to retrieve values when the key is known.\n",
        "◉ While the values can be of any data type and can repeat, keys must be of\n",
        "immutable type (string, number or tuple with immutable elements) and must be\n",
        "unique\n",
        "'''\n",
        "* Collection which is unordered, changeable and indexed.\n",
        "* written in {}\n",
        "* key : value pair\n",
        "* can be accessed using index - key\n",
        "* values can be duplicate but not keys"
      ],
      "metadata": {
        "id": "2cqVMcEaYPLk"
      }
    },
    {
      "cell_type": "code",
      "source": [
        "#Changing and Adding Dictionary elements\n",
        "#Dictionaries are mutable. We can add new items or change the value of existing items using an assignment operator.\n",
        "# if the key is already present, then the existing value gets updated. In case the key is not present,\n",
        "# a new (key: value) pair is added to the dictionary.\n",
        "my_dict = {'name': 'abc', 'age': 27}\n",
        "#update\n",
        "my_dict['age']=30\n",
        "print(my_dict)"
      ],
      "metadata": {
        "colab": {
          "base_uri": "https://localhost:8080/"
        },
        "id": "9qvTMHX2ZIxa",
        "outputId": "a48db7aa-4a53-4e70-f63b-af9f900c13f2"
      },
      "execution_count": null,
      "outputs": [
        {
          "output_type": "stream",
          "name": "stdout",
          "text": [
            "{'name': 'abc', 'age': 30}\n"
          ]
        }
      ]
    },
    {
      "cell_type": "code",
      "source": [
        "#Add\n",
        "my_dict['address']='vadodara'\n",
        "print(my_dict)"
      ],
      "metadata": {
        "colab": {
          "base_uri": "https://localhost:8080/"
        },
        "id": "Qq_tvLxqc44i",
        "outputId": "33d3801a-056a-41d8-a20b-1b8edd8daf9e"
      },
      "execution_count": null,
      "outputs": [
        {
          "output_type": "stream",
          "name": "stdout",
          "text": [
            "{'name': 'abc', 'age': 30, 'address': 'vadodara'}\n"
          ]
        }
      ]
    },
    {
      "cell_type": "code",
      "source": [
        "#remove element\n",
        "#We can remove a particular item in a dictionary by using the pop() method.\n",
        "print(my_dict)\n",
        "my_dict[\"address\"]=\"vadodara\"\n",
        "my_dict[1]=\"xyz\"\n",
        "print(my_dict.pop('name'))\n",
        "print(my_dict)"
      ],
      "metadata": {
        "colab": {
          "base_uri": "https://localhost:8080/"
        },
        "id": "N_Qj9L-Ec7mc",
        "outputId": "de6c5864-3870-4307-a867-a4b1d2b47d68"
      },
      "execution_count": null,
      "outputs": [
        {
          "output_type": "stream",
          "name": "stdout",
          "text": [
            "{'name': 'abc', 'age': 30, 'address': 'vadodara'}\n",
            "abc\n",
            "{'age': 30, 'address': 'vadodara', 1: 'xyz'}\n"
          ]
        }
      ]
    },
    {
      "cell_type": "code",
      "source": [
        "my_dict.clear()"
      ],
      "metadata": {
        "id": "6CBopTicf43j"
      },
      "execution_count": null,
      "outputs": []
    }
  ]
}