{
  "nbformat": 4,
  "nbformat_minor": 0,
  "metadata": {
    "colab": {
      "provenance": []
    },
    "kernelspec": {
      "name": "python3",
      "display_name": "Python 3"
    },
    "language_info": {
      "name": "python"
    }
  },
  "cells": [
    {
      "cell_type": "code",
      "execution_count": null,
      "metadata": {
        "id": "j1UDlb8f_ofQ"
      },
      "outputs": [],
      "source": [
        "'''A Python machine learning library encompasses functions and methods\n",
        " that enable easy scaling of scientific and numerical computations to streamline machine learning workflows.\n",
        " With a Python-based machine learning library, developers and data science professionals\n",
        "  can accomplish complex tasks without rewriting lengthy pieces of cod\n",
        "\n",
        "  Is a library for scientific compuation\n",
        "  n dimensional array\n",
        "  tool for integregating with c and c++\n",
        "  linear algebra\n",
        "  fourier transform\n",
        "\n",
        "it provides a high  performance multidimensional array object and tools for working with this arrays\n",
        "  It is multidimensional container for data for generic data\n",
        "\n",
        "  multimensional array\n",
        "\n",
        "  '''"
      ]
    },
    {
      "cell_type": "code",
      "source": [
        "import numpy as np"
      ],
      "metadata": {
        "id": "ovVK2Ie8AWg5"
      },
      "execution_count": null,
      "outputs": []
    },
    {
      "cell_type": "code",
      "source": [
        "a=np.array([1,2,3,4])\n",
        "a"
      ],
      "metadata": {
        "colab": {
          "base_uri": "https://localhost:8080/"
        },
        "id": "wKUyGscngs-z",
        "outputId": "b3c3387b-57df-4c04-866b-8c55078ab15d"
      },
      "execution_count": null,
      "outputs": [
        {
          "output_type": "execute_result",
          "data": {
            "text/plain": [
              "array([1, 2, 3, 4])"
            ]
          },
          "metadata": {},
          "execution_count": 7
        }
      ]
    },
    {
      "cell_type": "code",
      "source": [
        "a=np.array((1,2,3))\n"
      ],
      "metadata": {
        "id": "BaKQmRH4_QB_"
      },
      "execution_count": null,
      "outputs": []
    },
    {
      "cell_type": "code",
      "source": [
        "s=np.array(['abc','def','xyz'])\n",
        "s"
      ],
      "metadata": {
        "colab": {
          "base_uri": "https://localhost:8080/"
        },
        "id": "IjNZ2QVqg8SL",
        "outputId": "969899fb-4bbf-4cc0-85a3-c20d531ec4b7"
      },
      "execution_count": null,
      "outputs": [
        {
          "output_type": "execute_result",
          "data": {
            "text/plain": [
              "array(['abc', 'def', 'xyz'], dtype='<U3')"
            ]
          },
          "metadata": {},
          "execution_count": 4
        }
      ]
    },
    {
      "cell_type": "code",
      "source": [
        "s=np.array(['a','d','x'])\n",
        "s"
      ],
      "metadata": {
        "colab": {
          "base_uri": "https://localhost:8080/"
        },
        "id": "zhKRtaUsa1em",
        "outputId": "739ed800-20a2-4fe3-ecac-bfb66fa9442f"
      },
      "execution_count": null,
      "outputs": [
        {
          "output_type": "execute_result",
          "data": {
            "text/plain": [
              "array(['a', 'd', 'x'], dtype='<U1')"
            ]
          },
          "metadata": {},
          "execution_count": 6
        }
      ]
    },
    {
      "cell_type": "code",
      "source": [
        "x=np.arange(6)\n",
        "x"
      ],
      "metadata": {
        "colab": {
          "base_uri": "https://localhost:8080/"
        },
        "id": "D4qe_VWpdRQd",
        "outputId": "cdd57c22-3389-45d7-a47a-545b1890e35d"
      },
      "execution_count": null,
      "outputs": [
        {
          "output_type": "execute_result",
          "data": {
            "text/plain": [
              "array([0, 1, 2, 3, 4, 5])"
            ]
          },
          "metadata": {},
          "execution_count": 8
        }
      ]
    },
    {
      "cell_type": "code",
      "source": [
        "x=np.arange(-2, 20,2)\n",
        "x"
      ],
      "metadata": {
        "colab": {
          "base_uri": "https://localhost:8080/"
        },
        "id": "xRd3PLWydkht",
        "outputId": "28219c64-e686-485a-9461-251ba7252a97"
      },
      "execution_count": null,
      "outputs": [
        {
          "output_type": "execute_result",
          "data": {
            "text/plain": [
              "array([-2,  0,  2,  4,  6,  8, 10, 12, 14, 16, 18])"
            ]
          },
          "metadata": {},
          "execution_count": 10
        }
      ]
    },
    {
      "cell_type": "code",
      "source": [],
      "metadata": {
        "id": "cCSsZ5XHdeYb"
      },
      "execution_count": null,
      "outputs": []
    },
    {
      "cell_type": "code",
      "source": [
        "a=np.array([[1,2,3,4],[5,6,7,8]])\n",
        "a"
      ],
      "metadata": {
        "colab": {
          "base_uri": "https://localhost:8080/"
        },
        "id": "u1jqABorhF94",
        "outputId": "474f4533-3c0d-463b-e5b9-9f70a5e1cfb3"
      },
      "execution_count": null,
      "outputs": [
        {
          "output_type": "execute_result",
          "data": {
            "text/plain": [
              "array([[1, 2, 3, 4],\n",
              "       [5, 6, 7, 8]])"
            ]
          },
          "metadata": {},
          "execution_count": 5
        }
      ]
    },
    {
      "cell_type": "code",
      "source": [
        "b=np.array([[[1,2,3],[4,5,6]],[[1,2,3],[5,6,7]],[[3,7,8],[8,9,0]]])\n",
        "b.ndim"
      ],
      "metadata": {
        "colab": {
          "base_uri": "https://localhost:8080/"
        },
        "id": "biyH-ilJHuNB",
        "outputId": "15cc3f6c-d544-4438-a4a3-d5ce199a3108"
      },
      "execution_count": null,
      "outputs": [
        {
          "output_type": "execute_result",
          "data": {
            "text/plain": [
              "3"
            ]
          },
          "metadata": {},
          "execution_count": 7
        }
      ]
    },
    {
      "cell_type": "code",
      "source": [
        "b = np.array([[[9.0,8.0,7.0,5],[6.0,5.0,4.0,6],[9.0,8.0,7.0,7]],[[9.0,8.0,7.0,5],[6.0,5.0,4.0,6],[9.0,8.0,7.0,7]]]) #3D\n",
        "print(b)\n",
        "b=np.array([[[1,2,3],[4,5,6]],[[1,2,3],[5,6,7]],[[3,7,8],[8,9,0]]])\n",
        "print(\"------------------------\")\n",
        "c=np.array([[9.0,8.0,7.0,5.0],[6.0,5.0,4.0,2],[9.0,8.0,7.0,3]]) #2D\n",
        "print(c)"
      ],
      "metadata": {
        "id": "ocmq3yuFtP2G"
      },
      "execution_count": null,
      "outputs": []
    },
    {
      "cell_type": "code",
      "source": [
        "import numpy as np\n",
        "b=np.array([[[1,2,3],[4,5,6],[6,7,8]],[[1,2,3],[6,7,8],[8,9,4]],[[1,5,6],[6,7,8],[8,9,6]]])\n",
        "\n",
        "print(b[0][1][2])\n",
        "print(b.shape)"
      ],
      "metadata": {
        "colab": {
          "base_uri": "https://localhost:8080/"
        },
        "id": "y2Rti3KnxVjt",
        "outputId": "a293a079-cbdb-474b-f34d-a508726afa5b"
      },
      "execution_count": null,
      "outputs": [
        {
          "output_type": "stream",
          "name": "stdout",
          "text": [
            "6\n",
            "(3, 3, 3)\n"
          ]
        }
      ]
    },
    {
      "cell_type": "code",
      "source": [
        "#ndim()\n",
        "# You can find the dimension of the array, whether it is a two\u0002dimensional array or a single dimensional\n",
        "#with the help of ‘ndim’ function, we can find whether the array is of single dimension or multi dimension\n",
        "import numpy as np\n",
        "a = np.array([(1,2,3),(4,5,6)])\n",
        "print(a.ndim)\n"
      ],
      "metadata": {
        "id": "YkliRO_ahVKV",
        "colab": {
          "base_uri": "https://localhost:8080/"
        },
        "outputId": "ff49b0f7-f33c-483f-ca99-ced92632a811"
      },
      "execution_count": null,
      "outputs": [
        {
          "output_type": "stream",
          "name": "stdout",
          "text": [
            "2\n"
          ]
        }
      ]
    },
    {
      "cell_type": "code",
      "source": [
        "#itemsize()\n",
        "#You can calculate the byte size of each element, and with the help of ‘itemsize’ function,\n",
        "# we can find the size of each element.\n",
        "import numpy as np\n",
        "a = np.array([(1,2,3)])\n",
        "print(a.itemsize)\n",
        "#ans is 8 because every element occupies 8 byte in numpy array"
      ],
      "metadata": {
        "colab": {
          "base_uri": "https://localhost:8080/"
        },
        "id": "qmi67BVWh6Ul",
        "outputId": "01464f6b-fca1-4ce3-ab53-853ec15751b8"
      },
      "execution_count": null,
      "outputs": [
        {
          "output_type": "stream",
          "name": "stdout",
          "text": [
            "8\n"
          ]
        }
      ]
    },
    {
      "cell_type": "code",
      "source": [
        "#dtype\n",
        "#We can find the data type of the elements that are stored in an array.\n",
        "#So, if we want to know the data type of a particular element,\n",
        "#we can use ‘dtype’ function which will print the datatype\n",
        "#along with the size.\n",
        "\n",
        "import numpy as np\n",
        "a = np.array([(1.5,2,3)])\n",
        "print(a.dtype)\n"
      ],
      "metadata": {
        "colab": {
          "base_uri": "https://localhost:8080/"
        },
        "id": "TFMvRqwZiLGt",
        "outputId": "04a8e79a-569f-4836-c0c4-a95fa71d614e"
      },
      "execution_count": null,
      "outputs": [
        {
          "output_type": "stream",
          "name": "stdout",
          "text": [
            "float64\n"
          ]
        }
      ]
    },
    {
      "cell_type": "code",
      "source": [
        "a = np.array([1,2,3,4,5,6], dtype='int32')\n",
        "print(a)\n",
        "a.itemsize"
      ],
      "metadata": {
        "colab": {
          "base_uri": "https://localhost:8080/"
        },
        "id": "7GnSXbRcipqZ",
        "outputId": "02fda8c1-f982-4280-9dc6-38440173bf31"
      },
      "execution_count": null,
      "outputs": [
        {
          "output_type": "stream",
          "name": "stdout",
          "text": [
            "[1 2 3 4 5 6]\n"
          ]
        },
        {
          "output_type": "execute_result",
          "data": {
            "text/plain": [
              "4"
            ]
          },
          "metadata": {},
          "execution_count": 3
        }
      ]
    },
    {
      "cell_type": "code",
      "source": [
        "a = np.array([1,2,3.4,4.4,5,6], dtype='int32')\n",
        "print(a)\n",
        "a.itemsize"
      ],
      "metadata": {
        "colab": {
          "base_uri": "https://localhost:8080/"
        },
        "id": "2tkCyL-v_eEP",
        "outputId": "c8038c09-7899-446b-fb96-d09e9b87167c"
      },
      "execution_count": null,
      "outputs": [
        {
          "output_type": "stream",
          "name": "stdout",
          "text": [
            "[1 2 3 4 5 6]\n"
          ]
        },
        {
          "output_type": "execute_result",
          "data": {
            "text/plain": [
              "4"
            ]
          },
          "metadata": {},
          "execution_count": 4
        }
      ]
    },
    {
      "cell_type": "code",
      "source": [
        "#size and shape(n*m)\n",
        "#we can find the size and shape of the array using ‘size’ and ‘shape’ function\n",
        "import numpy as np\n",
        "a = np.array([(1,2,3,4,5,6)])\n",
        "print(a.size)\n",
        "print(a.shape)"
      ],
      "metadata": {
        "colab": {
          "base_uri": "https://localhost:8080/"
        },
        "id": "-Rt5SI-_izFM",
        "outputId": "40755beb-4b9d-4a09-cc14-0883cb4759be"
      },
      "execution_count": null,
      "outputs": [
        {
          "output_type": "stream",
          "name": "stdout",
          "text": [
            "6\n",
            "(1, 6)\n"
          ]
        }
      ]
    },
    {
      "cell_type": "code",
      "source": [
        "import numpy as np\n",
        "a=np.array([[1,2],[3,4]])\n",
        "a[0:1]=3\n",
        "print(a)\n",
        "print(a.shape)"
      ],
      "metadata": {
        "colab": {
          "base_uri": "https://localhost:8080/"
        },
        "id": "fqzo-S8gGV-g",
        "outputId": "158db08f-e5d4-4ebb-947a-b52e5dc63b53"
      },
      "execution_count": null,
      "outputs": [
        {
          "output_type": "stream",
          "name": "stdout",
          "text": [
            "[[3 3]\n",
            " [3 4]]\n",
            "(2, 2)\n"
          ]
        }
      ]
    },
    {
      "cell_type": "code",
      "source": [
        "#reshape\n",
        "#Reshape is when you change the number of rows and columns which gives a new view to an object\n",
        "import numpy as np\n",
        "a = np.array([(8,9,10),(11,12,13)])\n",
        "print(a)\n",
        "a=a.reshape(3,2)\n",
        "print(a)\n"
      ],
      "metadata": {
        "colab": {
          "base_uri": "https://localhost:8080/"
        },
        "id": "A2nb5tSYjEzV",
        "outputId": "bb8289a7-d019-4d07-f5ed-75aa174edc71"
      },
      "execution_count": null,
      "outputs": [
        {
          "output_type": "stream",
          "name": "stdout",
          "text": [
            "[[ 8  9 10]\n",
            " [11 12 13]]\n",
            "[[ 8  9]\n",
            " [10 11]\n",
            " [12 13]]\n"
          ]
        }
      ]
    },
    {
      "cell_type": "code",
      "source": [
        " #Flatten Data\n",
        "#When you deal with some neural network like convnet,\n",
        "#you need to flatten the array. You can use flatten().\n",
        "#The syntax is\n",
        "#  numpy.flatten(order='C')\n",
        "# Default is C which is an essential row style\n",
        "\n",
        "import numpy as np\n",
        "a=np.array([[1,2,3,4],[5,6,7,8]])\n",
        "print(\"array before flatten is \", a)\n",
        "print(\"array after flatten is\", a.flatten())"
      ],
      "metadata": {
        "colab": {
          "base_uri": "https://localhost:8080/"
        },
        "id": "wc-EO7k5jj1i",
        "outputId": "138da5ec-4d90-4b1b-8799-1b9f1ac98869"
      },
      "execution_count": null,
      "outputs": [
        {
          "output_type": "stream",
          "name": "stdout",
          "text": [
            "array before flatten is  [[1 2 3 4]\n",
            " [5 6 7 8]]\n",
            "array after flatten is [1 2 3 4 5 6 7 8]\n"
          ]
        }
      ]
    },
    {
      "cell_type": "code",
      "source": [
        "#Slicing\n",
        "#Slicing is basically extracting particular set of elements from an array.\n",
        "#slicing operation is pretty much similar to  list\n",
        "import numpy as np\n",
        "a=np.array([(1,2,3,4),(9,4,5,6)])\n",
        "print(a[0,2])\n"
      ],
      "metadata": {
        "colab": {
          "base_uri": "https://localhost:8080/"
        },
        "id": "x4K1CYcNke38",
        "outputId": "7d3483ec-0ac5-4076-b282-8ba031007855"
      },
      "execution_count": null,
      "outputs": [
        {
          "output_type": "stream",
          "name": "stdout",
          "text": [
            "3\n"
          ]
        }
      ]
    },
    {
      "cell_type": "code",
      "source": [
        "import numpy as np\n",
        "a=np.array([(1,2,3,4),(9,4,5,6)])\n",
        "\n",
        "print(a[0:,2]) #Here colon represents all the rows, including zero. Now to get the 2nd\n",
        "               #element, we’ll call index 2 from both of the rows"
      ],
      "metadata": {
        "colab": {
          "base_uri": "https://localhost:8080/"
        },
        "id": "s6eVGCQmkwiJ",
        "outputId": "74b12acd-220c-42a5-ca88-7dd84705cc63"
      },
      "execution_count": null,
      "outputs": [
        {
          "output_type": "stream",
          "name": "stdout",
          "text": [
            "[3 5]\n"
          ]
        }
      ]
    },
    {
      "cell_type": "code",
      "source": [],
      "metadata": {
        "id": "B6BkThupPCTe"
      },
      "execution_count": null,
      "outputs": []
    },
    {
      "cell_type": "code",
      "source": [
        "print(a[0:,1:2])"
      ],
      "metadata": {
        "colab": {
          "base_uri": "https://localhost:8080/"
        },
        "id": "GMbIcCkzOtp0",
        "outputId": "a9b96053-e532-4e2d-8e06-3d28704d34ca"
      },
      "execution_count": null,
      "outputs": [
        {
          "output_type": "stream",
          "name": "stdout",
          "text": [
            "[[2]\n",
            " [4]]\n"
          ]
        }
      ]
    },
    {
      "cell_type": "code",
      "source": [
        "print(a[0:3,2])"
      ],
      "metadata": {
        "id": "eXDz2whQPEAB",
        "outputId": "258c9fd1-d062-4ce8-c701-426fcfe200b7",
        "colab": {
          "base_uri": "https://localhost:8080/"
        }
      },
      "execution_count": null,
      "outputs": [
        {
          "output_type": "stream",
          "name": "stdout",
          "text": [
            "[3 5]\n"
          ]
        }
      ]
    },
    {
      "cell_type": "code",
      "source": [
        "#let’s say we have one more row and  we don’t want to get its 2nd element printed\n",
        "import numpy as np\n",
        "a=np.array([[8,9],[10,11],[12,13]])\n",
        "print(a[0:2,1])\n"
      ],
      "metadata": {
        "id": "EAfHZ94RlmpK"
      },
      "execution_count": null,
      "outputs": []
    },
    {
      "cell_type": "code",
      "source": [
        "\n",
        "\n",
        "import numpy as np\n",
        "a=np.array([1,2,3,4,5])\n",
        "print(a[1:])\n",
        "print(a[2:4])\n",
        "print(a[::-1])\n",
        "print(a[-4:-2])\n",
        "print(a[-2:-4])\n",
        "print(a[-4:-1])"
      ],
      "metadata": {
        "colab": {
          "base_uri": "https://localhost:8080/"
        },
        "id": "GArxGDBTmBbN",
        "outputId": "dcc9f5e9-a383-4fe2-d9ce-ef6b96dcc3fc"
      },
      "execution_count": null,
      "outputs": [
        {
          "output_type": "stream",
          "name": "stdout",
          "text": [
            "[2 3 4 5]\n",
            "[3 4]\n",
            "[5 4 3 2 1]\n",
            "[2 3]\n",
            "[]\n",
            "[2 3 4]\n"
          ]
        }
      ]
    },
    {
      "cell_type": "code",
      "source": [
        "a=np.array([[1,2,3],[4,5,6],[7,8,9]])\n",
        "a[1:3,0:2]"
      ],
      "metadata": {
        "colab": {
          "base_uri": "https://localhost:8080/"
        },
        "id": "cwP5_rxCebux",
        "outputId": "70be6011-a7ee-4887-ed4e-28d1b975ffc6"
      },
      "execution_count": null,
      "outputs": [
        {
          "output_type": "execute_result",
          "data": {
            "text/plain": [
              "array([[4, 5],\n",
              "       [7, 8]])"
            ]
          },
          "metadata": {},
          "execution_count": 14
        }
      ]
    },
    {
      "cell_type": "code",
      "source": [
        "a[1:,]=15\n",
        "a"
      ],
      "metadata": {
        "id": "gR2C5z1ahuXC"
      },
      "execution_count": null,
      "outputs": []
    },
    {
      "cell_type": "code",
      "source": [
        "import numpy as np\n",
        "a=np.array([[1,2,3],[4,5,6],[7,8,9]])\n",
        "print(a.shape)\n",
        "print(a[0:3])\n",
        "print(a[0:3:2])\n",
        "print(a[0:2,0:2])\n",
        "a"
      ],
      "metadata": {
        "id": "z7fsqP8aiB5C",
        "colab": {
          "base_uri": "https://localhost:8080/"
        },
        "outputId": "6302fefe-f4ab-48d7-c441-72dbd2a9154a"
      },
      "execution_count": null,
      "outputs": [
        {
          "output_type": "stream",
          "name": "stdout",
          "text": [
            "(3, 3)\n",
            "[[1 2 3]\n",
            " [4 5 6]\n",
            " [7 8 9]]\n",
            "[[1 2 3]\n",
            " [7 8 9]]\n"
          ]
        },
        {
          "output_type": "execute_result",
          "data": {
            "text/plain": [
              "array([[1, 2, 3],\n",
              "       [4, 5, 6],\n",
              "       [7, 8, 9]])"
            ]
          },
          "metadata": {},
          "execution_count": 4
        }
      ]
    },
    {
      "cell_type": "code",
      "source": [
        "import numpy as np\n",
        "a=np.array([[1,2,3,4],[5,6,7,8]])\n",
        "print(a)\n",
        "print(a[0,2])\n",
        "print(a[1,3])\n",
        "print(a[:,1])#print first index of each array\n",
        "print(a[1,:])\n",
        "print(a[:,0])\n",
        "print(a[0,:])"
      ],
      "metadata": {
        "colab": {
          "base_uri": "https://localhost:8080/"
        },
        "id": "E7VWug0FnO9G",
        "outputId": "733104d8-bad8-4b36-b0cc-e043c395cef7"
      },
      "execution_count": null,
      "outputs": [
        {
          "output_type": "stream",
          "name": "stdout",
          "text": [
            "[[1 2 3 4]\n",
            " [5 6 7 8]]\n",
            "3\n",
            "8\n",
            "[2 6]\n",
            "[5 6 7 8]\n",
            "[1 5]\n",
            "[1 2 3 4]\n"
          ]
        }
      ]
    },
    {
      "cell_type": "code",
      "source": [
        "import numpy as np\n",
        "a=np.array([[1,2,3,4],[5,6,7,8]])\n",
        "print(a[0:4,1])\n",
        "print(a[1:4,1])\n",
        "print(a[0:4,0])\n",
        "print(a[1:4,0])\n",
        "print(a[0:4,2])\n",
        "print(a[1:4,2])\n",
        "print(a[0:4,3])\n",
        "print(a[1:4,3])"
      ],
      "metadata": {
        "colab": {
          "base_uri": "https://localhost:8080/"
        },
        "id": "LkdcrAHcoX_V",
        "outputId": "2cbfeda6-07f7-46a9-c2d1-ea4c884a0fed"
      },
      "execution_count": null,
      "outputs": [
        {
          "output_type": "stream",
          "name": "stdout",
          "text": [
            "[2 6]\n",
            "[6]\n",
            "[1 5]\n",
            "[5]\n",
            "[3 7]\n",
            "[7]\n",
            "[4 8]\n",
            "[8]\n"
          ]
        }
      ]
    },
    {
      "cell_type": "code",
      "source": [
        "#linespace\n",
        "#returns evenly spaced numbers over a specified interval.\n",
        "import numpy as np\n",
        "a=np.linspace(1,3,10) #it will print 10 values between 1 to 3\n",
        "print(a)"
      ],
      "metadata": {
        "colab": {
          "base_uri": "https://localhost:8080/"
        },
        "id": "tsHm62YiptZ1",
        "outputId": "a92be7f9-1a46-4a18-f791-97519a33a80c"
      },
      "execution_count": null,
      "outputs": [
        {
          "output_type": "stream",
          "name": "stdout",
          "text": [
            "[1.         1.22222222 1.44444444 1.66666667 1.88888889 2.11111111\n",
            " 2.33333333 2.55555556 2.77777778 3.        ]\n"
          ]
        }
      ]
    },
    {
      "cell_type": "code",
      "source": [
        "import numpy as np\n",
        "l=np.linspace(1,5,10)\n",
        "print(l)\n",
        "b=np.linspace(11,20,20)\n",
        "print(b)"
      ],
      "metadata": {
        "colab": {
          "base_uri": "https://localhost:8080/"
        },
        "id": "n-UAqZWiqDfS",
        "outputId": "f5b0dc80-f4d4-4194-c839-39b4803d7cad"
      },
      "execution_count": null,
      "outputs": [
        {
          "output_type": "stream",
          "name": "stdout",
          "text": [
            "[1.         1.44444444 1.88888889 2.33333333 2.77777778 3.22222222\n",
            " 3.66666667 4.11111111 4.55555556 5.        ]\n",
            "[11.         11.47368421 11.94736842 12.42105263 12.89473684 13.36842105\n",
            " 13.84210526 14.31578947 14.78947368 15.26315789 15.73684211 16.21052632\n",
            " 16.68421053 17.15789474 17.63157895 18.10526316 18.57894737 19.05263158\n",
            " 19.52631579 20.        ]\n"
          ]
        }
      ]
    },
    {
      "cell_type": "code",
      "source": [
        "#Numpy.zeros\n",
        "'''numpy.zeros() or np.zeros Python function is used to create a\n",
        "matrix full of zeroes.\n",
        "• numpy.zeros() in Python can be used when you initialize the\n",
        "weights during the first iteration in TensorFlow and other\n",
        "statistic tasks\n",
        "Syntax: numpy.zeros(shape, dtype=float, order='C'\n",
        "\n",
        "1. Shape: is the shape of the numpy zero array\n",
        "2. Dtype: is the datatype in numpy zeros. It is optional. The default value is float64\n",
        "3. Order: Default is C which is an essential row style for numpy.zeros() in Python.\n",
        "'''\n",
        "import numpy as np\n",
        "a=np.zeros([2,2])\n",
        "print(a)\n",
        "b=np.zeros([2,2,3]) #2 d 2 rows and 3 col\n",
        "print(b)\n",
        "c=np.zeros([2,3,3])\n",
        "print(c)\n",
        "d=np.zeros([2,3,3], dtype='int16')\n",
        "print(d)"
      ],
      "metadata": {
        "colab": {
          "base_uri": "https://localhost:8080/"
        },
        "id": "kocHf-z6qaOI",
        "outputId": "5157c8c4-0dec-4dcd-c543-b59332267a83"
      },
      "execution_count": null,
      "outputs": [
        {
          "output_type": "stream",
          "name": "stdout",
          "text": [
            "[[0. 0.]\n",
            " [0. 0.]]\n",
            "[[[0. 0. 0.]\n",
            "  [0. 0. 0.]]\n",
            "\n",
            " [[0. 0. 0.]\n",
            "  [0. 0. 0.]]]\n",
            "[[[0. 0. 0.]\n",
            "  [0. 0. 0.]\n",
            "  [0. 0. 0.]]\n",
            "\n",
            " [[0. 0. 0.]\n",
            "  [0. 0. 0.]\n",
            "  [0. 0. 0.]]]\n",
            "[[[0 0 0]\n",
            "  [0 0 0]\n",
            "  [0 0 0]]\n",
            "\n",
            " [[0 0 0]\n",
            "  [0 0 0]\n",
            "  [0 0 0]]]\n"
          ]
        }
      ]
    },
    {
      "cell_type": "code",
      "source": [
        "'''np.ones() function is used to create a matrix full of ones.\n",
        "numpy.ones() in Python can be used when you initialize the\n",
        "weights during the first iteration in TensorFlow and other\n",
        "statistic task\n",
        "Syntax: numpy.ones(shape, dtype=float, order='C')\n",
        "Shape: is the shape of the np.ones Python array\n",
        "2. Dtype: is the datatype in numpy ones. It is optional. The\n",
        "default value is float64\n",
        "3. Order: Default is C which is an essential row style.\n",
        "'''\n",
        "import numpy as np\n",
        "a=np.ones([2,2])\n",
        "print(a)\n",
        "b=np.ones([2,2,3]) #2 d 2 rows and 3 col\n",
        "print(b)\n",
        "c=np.ones([2,3,3])\n",
        "print(c)\n",
        "d=np.ones([2,3,3], dtype='int16')\n",
        "print(d)\n"
      ],
      "metadata": {
        "colab": {
          "base_uri": "https://localhost:8080/"
        },
        "id": "RfwQNqTtqAln",
        "outputId": "8e009129-7eca-4069-a937-603c67cfe7e9"
      },
      "execution_count": null,
      "outputs": [
        {
          "output_type": "stream",
          "name": "stdout",
          "text": [
            "[[1. 1.]\n",
            " [1. 1.]]\n",
            "[[[1. 1. 1.]\n",
            "  [1. 1. 1.]]\n",
            "\n",
            " [[1. 1. 1.]\n",
            "  [1. 1. 1.]]]\n",
            "[[[1. 1. 1.]\n",
            "  [1. 1. 1.]\n",
            "  [1. 1. 1.]]\n",
            "\n",
            " [[1. 1. 1.]\n",
            "  [1. 1. 1.]\n",
            "  [1. 1. 1.]]]\n",
            "[[[1 1 1]\n",
            "  [1 1 1]\n",
            "  [1 1 1]]\n",
            "\n",
            " [[1 1 1]\n",
            "  [1 1 1]\n",
            "  [1 1 1]]]\n"
          ]
        }
      ]
    },
    {
      "cell_type": "code",
      "source": [
        "#Any other number\n",
        "import numpy as np\n",
        "np.full((2,2), 99)"
      ],
      "metadata": {
        "id": "PJD2oCYpssHO",
        "colab": {
          "base_uri": "https://localhost:8080/"
        },
        "outputId": "81f53a4e-01db-4dbb-f866-63d2a0bf5a4a"
      },
      "execution_count": null,
      "outputs": [
        {
          "output_type": "execute_result",
          "data": {
            "text/plain": [
              "array([[99, 99],\n",
              "       [99, 99]])"
            ]
          },
          "metadata": {},
          "execution_count": 2
        }
      ]
    },
    {
      "cell_type": "code",
      "source": [
        "#Random decimal numbers\n",
        "np.random.rand(4,2)"
      ],
      "metadata": {
        "colab": {
          "base_uri": "https://localhost:8080/"
        },
        "id": "kOmKvzLxCS9O",
        "outputId": "aa0cc220-9b1f-4aa4-92f8-2e1046c76a78"
      },
      "execution_count": null,
      "outputs": [
        {
          "output_type": "execute_result",
          "data": {
            "text/plain": [
              "array([[0.28054299, 0.83275985],\n",
              "       [0.29007284, 0.16449432],\n",
              "       [0.96792959, 0.09682909],\n",
              "       [0.3977928 , 0.69978238]])"
            ]
          },
          "metadata": {},
          "execution_count": 6
        }
      ]
    },
    {
      "cell_type": "code",
      "source": [
        "# Random Integer values\n",
        "np.random.randint(-4,8, size=(3,3))"
      ],
      "metadata": {
        "colab": {
          "base_uri": "https://localhost:8080/"
        },
        "id": "IM4qVqSKCiMo",
        "outputId": "0d64399f-476a-44a3-f10a-1e4a59f27b53"
      },
      "execution_count": null,
      "outputs": [
        {
          "output_type": "execute_result",
          "data": {
            "text/plain": [
              "array([[-1,  6,  3],\n",
              "       [ 0, -3, -2],\n",
              "       [ 0, -3,  0]])"
            ]
          },
          "metadata": {},
          "execution_count": 7
        }
      ]
    },
    {
      "cell_type": "code",
      "source": [
        "#Numpy.identity()\n",
        "#numpy.identity(n, dtype = None) : Return a identity matrix i.e. a square matrix with ones on the main diagonal.\n",
        "import numpy as np\n",
        "a=np.eye(3,3)\n",
        "print(\"identity matrix is\",a)\n"
      ],
      "metadata": {
        "colab": {
          "base_uri": "https://localhost:8080/"
        },
        "id": "ZloHo7J_B7Xi",
        "outputId": "585cc151-ca05-4e20-f6f2-e6b2e9ede5dd"
      },
      "execution_count": null,
      "outputs": [
        {
          "output_type": "stream",
          "name": "stdout",
          "text": [
            "identity matrix is [[1. 0. 0.]\n",
            " [0. 1. 0.]\n",
            " [0. 0. 1.]]\n"
          ]
        }
      ]
    },
    {
      "cell_type": "code",
      "source": [
        "#max() and min()\n",
        "import numpy as np\n",
        "a= np.array([1,2,3])\n",
        "print(a.min())\n",
        "print(a.max())\n",
        "print(a.sum())\n"
      ],
      "metadata": {
        "colab": {
          "base_uri": "https://localhost:8080/"
        },
        "id": "kGVnZZ1fcWIq",
        "outputId": "d92ef933-2ea9-4cd2-af30-3cbb8361589c"
      },
      "execution_count": null,
      "outputs": [
        {
          "output_type": "stream",
          "name": "stdout",
          "text": [
            "1\n",
            "3\n",
            "6\n"
          ]
        }
      ]
    },
    {
      "cell_type": "code",
      "source": [
        "#we have a numpy array 2*3. Here the rows are called as axis 1 and the columns are called as axis 0\n",
        "#Suppose you want to calculate the sum of all the columns, then you can make use of axis.\n",
        "a= np.array([(1,2,3),(3,4,5)])\n",
        "print(a.sum(axis=0)) #the sum of all the columns are added where 1+3=4, 2+4=6 and 3+5=8."
      ],
      "metadata": {
        "colab": {
          "base_uri": "https://localhost:8080/"
        },
        "id": "fObcVth3cihX",
        "outputId": "925d4281-4bf6-49e2-cdb7-e4da0b28f13e"
      },
      "execution_count": null,
      "outputs": [
        {
          "output_type": "stream",
          "name": "stdout",
          "text": [
            "[4 6 8]\n"
          ]
        }
      ]
    },
    {
      "cell_type": "code",
      "source": [
        "a= np.array([(1,2,3),(3,4,5)])\n",
        "print(a.sum(axis=1))"
      ],
      "metadata": {
        "colab": {
          "base_uri": "https://localhost:8080/"
        },
        "id": "6IH7gI4vc49z",
        "outputId": "59d084b0-857f-4619-922d-1c64400fe7cb"
      },
      "execution_count": null,
      "outputs": [
        {
          "output_type": "stream",
          "name": "stdout",
          "text": [
            "[ 6 12]\n"
          ]
        }
      ]
    },
    {
      "cell_type": "code",
      "source": [
        "#statistical operations\n",
        "import numpy as np\n",
        "a=np.array([[11,23,39,74],[5,45,78,3]])\n",
        "print(\"Array is\",a)\n",
        "print(np.max(a))\n",
        "print(np.min(a))\n",
        "print(np.sum(a))\n",
        "print(\"max value in column of array\",np.max(a,0))#axis 0\n",
        "print(\"max value in row of array\",np.max(a,1)) #axis 1\n",
        "print(\"addidion across column\",np.sum(a,0))\n",
        "print(\"addidion across row\",np.sum(a,1))"
      ],
      "metadata": {
        "colab": {
          "base_uri": "https://localhost:8080/"
        },
        "id": "jXmX8u-2dGa2",
        "outputId": "7fa06464-06fc-45b2-a5fa-fb2e94c62831"
      },
      "execution_count": null,
      "outputs": [
        {
          "output_type": "stream",
          "name": "stdout",
          "text": [
            "Array is [[11 23 39 74]\n",
            " [ 5 45 78  3]]\n",
            "78\n",
            "3\n",
            "278\n",
            "max value in column of array [11 45 78 74]\n",
            "max value in row of array [74 78]\n",
            "addidion across column [ 16  68 117  77]\n",
            "addidion across row [147 131]\n"
          ]
        }
      ]
    },
    {
      "cell_type": "code",
      "source": [
        "#Sqaure root and Standard devision\n",
        "#Standard Deviation (SD) is measured as the spread of data distribution in the given data set.\n",
        "\n",
        "import numpy as np\n",
        "a=np.array([(1,2,3),(3,4,5,)])\n",
        "print(np.sqrt(a))\n",
        "print(np.std(a))\n"
      ],
      "metadata": {
        "colab": {
          "base_uri": "https://localhost:8080/"
        },
        "id": "Dj4rqXpLdzkH",
        "outputId": "f97745e8-bd6d-488e-f02a-a30673e14d85"
      },
      "execution_count": null,
      "outputs": [
        {
          "output_type": "stream",
          "name": "stdout",
          "text": [
            "[[1.         1.41421356 1.73205081]\n",
            " [1.73205081 2.         2.23606798]]\n",
            "1.2909944487358056\n"
          ]
        }
      ]
    },
    {
      "cell_type": "code",
      "source": [
        "#The mean() function finds the average of elements of the array.\n",
        "a.mean()"
      ],
      "metadata": {
        "colab": {
          "base_uri": "https://localhost:8080/"
        },
        "id": "WNZIaxukE3Jg",
        "outputId": "f4c6fc8b-0550-4c63-b026-4141f9a3af4e"
      },
      "execution_count": null,
      "outputs": [
        {
          "output_type": "execute_result",
          "data": {
            "text/plain": [
              "3.0"
            ]
          },
          "metadata": {},
          "execution_count": 11
        }
      ]
    },
    {
      "cell_type": "code",
      "source": [],
      "metadata": {
        "id": "IyPN952IHECj"
      },
      "execution_count": null,
      "outputs": []
    },
    {
      "cell_type": "code",
      "source": [
        "np.cos(0)"
      ],
      "metadata": {
        "colab": {
          "base_uri": "https://localhost:8080/"
        },
        "id": "Fvm6zBUIhXKv",
        "outputId": "87327644-59b6-4093-85bc-c86e0589057e"
      },
      "execution_count": null,
      "outputs": [
        {
          "output_type": "execute_result",
          "data": {
            "text/plain": [
              "1.0"
            ]
          },
          "metadata": {},
          "execution_count": 13
        }
      ]
    },
    {
      "cell_type": "code",
      "source": [
        "np.cos(np.pi)"
      ],
      "metadata": {
        "colab": {
          "base_uri": "https://localhost:8080/"
        },
        "id": "Cg4IXo4JhaSp",
        "outputId": "6ce15f2a-23dd-420f-ccfa-8a652ae1ddab"
      },
      "execution_count": null,
      "outputs": [
        {
          "output_type": "execute_result",
          "data": {
            "text/plain": [
              "-1.0"
            ]
          },
          "metadata": {},
          "execution_count": 14
        }
      ]
    },
    {
      "cell_type": "code",
      "source": [
        "import numpy as np\n",
        "a=np.array([(1,2,3),(3,4,5,)])\n",
        "print(\"tan value\",np.tan(a))\n",
        "print(\"sin value\",np.sin(a))\n",
        "print(\"cos value\",np.cos(a))"
      ],
      "metadata": {
        "colab": {
          "base_uri": "https://localhost:8080/"
        },
        "id": "MkDmXXf6eKjg",
        "outputId": "b8f7af7c-8e09-4f20-c562-584943b20692"
      },
      "execution_count": null,
      "outputs": [
        {
          "output_type": "stream",
          "name": "stdout",
          "text": [
            "tan value [[ 1.55740772 -2.18503986 -0.14254654]\n",
            " [-0.14254654  1.15782128 -3.38051501]]\n",
            "sin value [[ 0.84147098  0.90929743  0.14112001]\n",
            " [ 0.14112001 -0.7568025  -0.95892427]]\n",
            "cos value [[ 0.54030231 -0.41614684 -0.9899925 ]\n",
            " [-0.9899925  -0.65364362  0.28366219]]\n"
          ]
        }
      ]
    },
    {
      "cell_type": "code",
      "source": [
        "from google.colab import drive\n",
        "\n",
        "drive.mount('/content/drive')"
      ],
      "metadata": {
        "colab": {
          "base_uri": "https://localhost:8080/"
        },
        "id": "iEaZS2BoHLJQ",
        "outputId": "b8032dc0-8ebf-47c1-d573-3442f880f0cc"
      },
      "execution_count": null,
      "outputs": [
        {
          "output_type": "stream",
          "name": "stdout",
          "text": [
            "Mounted at /content/drive\n"
          ]
        }
      ]
    },
    {
      "cell_type": "code",
      "source": [
        "studentdata = np.loadtxt('/content/drive/MyDrive/Colab Notebooks/a.txt', skiprows=1, delimiter=',', dtype = int)\n",
        "studentdata"
      ],
      "metadata": {
        "colab": {
          "base_uri": "https://localhost:8080/"
        },
        "id": "aV-IxgdRGhoz",
        "outputId": "4460d641-2fb3-4d1c-a5de-0724f136c47c"
      },
      "execution_count": null,
      "outputs": [
        {
          "output_type": "execute_result",
          "data": {
            "text/plain": [
              "array([[ 1, 36, 18, 57],\n",
              "       [ 2, 22, 23, 45],\n",
              "       [ 3, 43, 51, 37],\n",
              "       [ 4, 41, 40, 60],\n",
              "       [ 5, 13, 18, 37]])"
            ]
          },
          "metadata": {},
          "execution_count": 13
        }
      ]
    },
    {
      "cell_type": "code",
      "source": [
        "#Arithmetic Operations\n",
        "import numpy as np\n",
        "x= np.array([(1,2,3),(3,4,5)])\n",
        "y= np.array([(1,2,3),(3,4,5)])\n",
        "print(x+y)"
      ],
      "metadata": {
        "id": "89dZ91TkeiSq"
      },
      "execution_count": null,
      "outputs": []
    },
    {
      "cell_type": "code",
      "source": [
        "import numpy as np\n",
        "x= np.array([(1,2,3),(3,4,5)])\n",
        "y= np.array([(1,2,3),(3,4,5)])\n",
        "print(x+y)\n",
        "print(x-y)\n",
        "print(x*y)\n",
        "print(x/y)"
      ],
      "metadata": {
        "colab": {
          "base_uri": "https://localhost:8080/"
        },
        "id": "Nw-jl92NesTM",
        "outputId": "2cf516b7-4db1-45b3-c33f-ad4ad5ae30d5"
      },
      "execution_count": null,
      "outputs": [
        {
          "output_type": "stream",
          "name": "stdout",
          "text": [
            "[[ 2  4  6]\n",
            " [ 6  8 10]]\n",
            "[[0 0 0]\n",
            " [0 0 0]]\n",
            "[[ 1  4  9]\n",
            " [ 9 16 25]]\n",
            "[[1. 1. 1.]\n",
            " [1. 1. 1.]]\n"
          ]
        }
      ]
    },
    {
      "cell_type": "code",
      "source": [
        "import numpy as np\n",
        "x= np.array([(1,2,3),(3,4,5)])\n",
        "y= np.array([(1,2,3),(3,4,5)])\n",
        "x**y"
      ],
      "metadata": {
        "colab": {
          "base_uri": "https://localhost:8080/"
        },
        "id": "9PlueU1kgHOG",
        "outputId": "0ebf8c80-1f9f-412f-8e6d-03776ec275d1"
      },
      "execution_count": null,
      "outputs": [
        {
          "output_type": "execute_result",
          "data": {
            "text/plain": [
              "array([[   1,    4,   27],\n",
              "       [  27,  256, 3125]])"
            ]
          },
          "metadata": {},
          "execution_count": 16
        }
      ]
    },
    {
      "cell_type": "code",
      "source": [
        "#matrix multiplication\n",
        "x= np.array([(1,2),(3,4)])\n",
        "y= np.array([(1,2),(3,4)])\n",
        "x @ y\n"
      ],
      "metadata": {
        "colab": {
          "base_uri": "https://localhost:8080/"
        },
        "id": "d6rvjEzogOJg",
        "outputId": "daeee563-a866-4a33-f71a-2fcd3977e866"
      },
      "execution_count": null,
      "outputs": [
        {
          "output_type": "execute_result",
          "data": {
            "text/plain": [
              "array([[ 7, 10],\n",
              "       [15, 22]])"
            ]
          },
          "metadata": {},
          "execution_count": 19
        }
      ]
    },
    {
      "cell_type": "code",
      "source": [
        "#Transpose\n",
        "array3 = np.array([[10,-7,0, 20],[-5,1,200,40],[30,1,-1,4]])\n",
        "array3\n",
        "array3.transpose()\n"
      ],
      "metadata": {
        "id": "iHQ7XKlbggog",
        "colab": {
          "base_uri": "https://localhost:8080/"
        },
        "outputId": "4e0b2604-742a-4cea-81b9-f235b925e1bd"
      },
      "execution_count": null,
      "outputs": [
        {
          "output_type": "execute_result",
          "data": {
            "text/plain": [
              "array([[ 10,  -5,  30],\n",
              "       [ -7,   1,   1],\n",
              "       [  0, 200,  -1],\n",
              "       [ 20,  40,   4]])"
            ]
          },
          "metadata": {},
          "execution_count": 4
        }
      ]
    },
    {
      "cell_type": "code",
      "source": [
        "array4 = np.array([1,0,2,-3,6,8,4,7])\n",
        "array4.sort()\n",
        "array4\n",
        "#default is row-wise sorting"
      ],
      "metadata": {
        "id": "vxcLN6krf3Pl",
        "colab": {
          "base_uri": "https://localhost:8080/"
        },
        "outputId": "81cd6b45-45e0-44a4-a0b1-66b469cd8fe0"
      },
      "execution_count": null,
      "outputs": [
        {
          "output_type": "execute_result",
          "data": {
            "text/plain": [
              "array([-3,  0,  1,  2,  4,  6,  7,  8])"
            ]
          },
          "metadata": {},
          "execution_count": 7
        }
      ]
    },
    {
      "cell_type": "code",
      "source": [
        "#axis =0 means column-wise sorting\n",
        "array5 = np.array([[10,-7,0, 20],[-5,1,200,40],[30,1,-1,4]])\n",
        "array5.sort(axis=0)\n",
        "array5"
      ],
      "metadata": {
        "colab": {
          "base_uri": "https://localhost:8080/"
        },
        "id": "DbRUcy1ADO58",
        "outputId": "a41920ef-7eeb-420c-d8df-7c4cd9d1af45"
      },
      "execution_count": null,
      "outputs": [
        {
          "output_type": "execute_result",
          "data": {
            "text/plain": [
              "array([[ -5,  -7,  -1,   4],\n",
              "       [ 10,   1,   0,  20],\n",
              "       [ 30,   1, 200,  40]])"
            ]
          },
          "metadata": {},
          "execution_count": 8
        }
      ]
    },
    {
      "cell_type": "code",
      "source": [
        "array1 = np.array([[10, 20], [-30,40]])\n",
        "array2 = np.zeros((2, 3))\n",
        "np.concatenate((array1,array2), axis=1)"
      ],
      "metadata": {
        "colab": {
          "base_uri": "https://localhost:8080/"
        },
        "id": "9_BiiWULDiLZ",
        "outputId": "81dab7af-8bcc-49c8-bb8d-24f67075e8e3"
      },
      "execution_count": null,
      "outputs": [
        {
          "output_type": "execute_result",
          "data": {
            "text/plain": [
              "array([[ 10.,  20.,   0.,   0.,   0.],\n",
              "       [-30.,  40.,   0.,   0.,   0.]])"
            ]
          },
          "metadata": {},
          "execution_count": 9
        }
      ]
    },
    {
      "cell_type": "code",
      "source": [],
      "metadata": {
        "id": "E027Ug0KDvcN"
      },
      "execution_count": null,
      "outputs": []
    },
    {
      "cell_type": "code",
      "source": [
        "'''The Numpy matmul() function is used to return the matrix\n",
        "product of 2 arrays. Here is how it works\n",
        "1. 2-D arrays, it returns normal product\n",
        "2. Dimensions > 2, the product is treated as a stack of matrix\n",
        "3. 1-D array is first promoted to a matrix, and then the product\n",
        "is calculated\n",
        "• numpy.matmul(x, y, out=None)\n",
        "• Here,\n",
        "• x,y: Input arrays. scalars not allowed\n",
        "• out: This is optional parameter. Usually output is stored in\n",
        "ndarray\n",
        "'''\n",
        "#Numpy.matmul()\n",
        "import numpy as np\n",
        "a=np.array([[1,2],[3,4]])\n",
        "b=np.array([[5,6],[7,8]])\n",
        "c=np.matmul(a,b)\n",
        "print(\"multi is\",c)\n",
        "\n"
      ],
      "metadata": {
        "colab": {
          "base_uri": "https://localhost:8080/"
        },
        "id": "SQqAHUPte-vV",
        "outputId": "0a9d1879-1f3c-491f-bbcb-d658cb5e5c15"
      },
      "execution_count": null,
      "outputs": [
        {
          "output_type": "stream",
          "name": "stdout",
          "text": [
            "multi is [[19 22]\n",
            " [43 50]]\n"
          ]
        }
      ]
    },
    {
      "cell_type": "code",
      "source": [
        "import numpy as np\n",
        "a=np.array([[[1,2],[3,4]],[[3,4],[4,4]]])\n",
        "a"
      ],
      "metadata": {
        "colab": {
          "base_uri": "https://localhost:8080/"
        },
        "id": "q3RPvwMbsiIz",
        "outputId": "b40339ee-d474-49ad-98a2-386ba416a67a"
      },
      "execution_count": null,
      "outputs": [
        {
          "output_type": "execute_result",
          "data": {
            "text/plain": [
              "array([[[1, 2],\n",
              "        [3, 4]],\n",
              "\n",
              "       [[3, 4],\n",
              "        [4, 4]]])"
            ]
          },
          "metadata": {},
          "execution_count": 2
        }
      ]
    },
    {
      "cell_type": "code",
      "source": [],
      "metadata": {
        "id": "i-JNBbGTgooY"
      },
      "execution_count": null,
      "outputs": []
    },
    {
      "cell_type": "code",
      "source": [
        "#convert onenumpy array into a single column i.e ravel.\n",
        "import numpy as np\n",
        "x= np.array([(1,2,3),(3,4,5)])\n",
        "print(x.ravel())"
      ],
      "metadata": {
        "id": "cNZiGvCBfSfF",
        "colab": {
          "base_uri": "https://localhost:8080/"
        },
        "outputId": "92fd3535-b8e5-47d0-8466-4e27f79b9f11"
      },
      "execution_count": null,
      "outputs": [
        {
          "output_type": "stream",
          "name": "stdout",
          "text": [
            "[1 2 3 3 4 5]\n"
          ]
        }
      ]
    },
    {
      "cell_type": "code",
      "source": [
        "'''Data visualisation means graphical or pictorial\n",
        "representation of the data using graph, chart,\n",
        "etc. The purpose of plotting data is to visualise\n",
        "variation or show relationships between variables.\n",
        "'''"
      ],
      "metadata": {
        "id": "UVUhhGIbm3xw",
        "colab": {
          "base_uri": "https://localhost:8080/",
          "height": 52
        },
        "outputId": "e6bed6c1-71fb-4c68-e9ed-b2f70c93f4bd"
      },
      "execution_count": null,
      "outputs": [
        {
          "output_type": "execute_result",
          "data": {
            "text/plain": [
              "'Data visualisation means graphical or pictorial \\nrepresentation of the data using graph, chart, \\netc. The purpose of plotting data is to visualise \\nvariation or show relationships between variables. \\n'"
            ],
            "application/vnd.google.colaboratory.intrinsic+json": {
              "type": "string"
            }
          },
          "metadata": {},
          "execution_count": 2
        }
      ]
    },
    {
      "cell_type": "code",
      "source": [
        "#Matplotlib library is used for creating static, animated,\n",
        "#and interactive 2D- plots or figures in Python.\n",
        "#For plotting using Matplotlib, we need to import its\n",
        "#Pyplot module using the following command:\n",
        "import matplotlib.pyplot as plt\n"
      ],
      "metadata": {
        "id": "JHbcjwG9nF88"
      },
      "execution_count": null,
      "outputs": []
    },
    {
      "cell_type": "code",
      "source": [],
      "metadata": {
        "id": "WfYryZaYlh2k"
      },
      "execution_count": null,
      "outputs": []
    },
    {
      "cell_type": "code",
      "source": [
        "#The pyplot module of matplotlib contains a collection\n",
        "#of functions that can be used to work on a plot. The\n",
        "#plot() function of the pyplot module is used to create a\n",
        "#figure. A figure is the overall window where the outputs\n",
        "#of pyplot functions are plotted.\n",
        " #A figure contains a plotting area, legend, axis labels, ticks, title, etc.\n"
      ],
      "metadata": {
        "id": "j6DJVVuHoNY1"
      },
      "execution_count": null,
      "outputs": []
    },
    {
      "cell_type": "code",
      "source": [
        "#Matplotlib\n",
        "#to visualize your data: human can easily process information that is in graphical form\n",
        "#quickly interpret data and understand the data and do proper adjustment\n",
        "#data visualizr is presentation of data in graphiacl form\n",
        "#use: predict to make decision\n",
        "#matplotlib is python package used for 2d graphics\n",
        "#Bar graph, histogram, pie plot\n",
        "#plotting library\n",
        "#module of Matplotib is Pyplot\n",
        "'''\n",
        "matplotlib.pyplot is a plotting library used for 2D graphics\n",
        "in python programming language. It can be used in python\n",
        "scripts, shell, web application servers and other graphical user\n",
        "interface toolkits.\n",
        "• What is Matplotlib used for?\n",
        "• Matploitlib is a Python Library used for plotting, this python\n",
        "library provides and objected-oriented APIs for integrating\n",
        "plots into applications\n",
        "\n",
        "'''\n"
      ],
      "metadata": {
        "id": "wAqHsyHgiMyM",
        "colab": {
          "base_uri": "https://localhost:8080/",
          "height": 86
        },
        "outputId": "2af9dbde-2445-4ba4-adc5-35232ffa0247"
      },
      "execution_count": null,
      "outputs": [
        {
          "output_type": "execute_result",
          "data": {
            "text/plain": [
              "'\\nmatplotlib.pyplot is a plotting library used for 2D graphics\\nin python programming language. It can be used in python\\nscripts, shell, web application servers and other graphical user\\ninterface toolkits.\\n• What is Matplotlib used for?\\n• Matploitlib is a Python Library used for plotting, this python\\nlibrary provides and objected-oriented APIs for integrating\\nplots into applications\\n\\n'"
            ],
            "application/vnd.google.colaboratory.intrinsic+json": {
              "type": "string"
            }
          },
          "metadata": {},
          "execution_count": 5
        }
      ]
    },
    {
      "cell_type": "code",
      "source": [
        "''' Pyplot is a module of Matplotlib which provides simple\n",
        "functions to add plot elements like lines, images, text, etc. to\n",
        "the current axes\n",
        "\n",
        "'''"
      ],
      "metadata": {
        "id": "mvyDumnKtSVm",
        "colab": {
          "base_uri": "https://localhost:8080/",
          "height": 52
        },
        "outputId": "537457ee-4b29-47c3-98e4-975705020359"
      },
      "execution_count": null,
      "outputs": [
        {
          "output_type": "execute_result",
          "data": {
            "text/plain": [
              "' Pyplot is a module of Matplotlib which provides simple\\nfunctions to add plot elements like lines, images, text, etc. to\\nthe current axes \\n\\n'"
            ],
            "application/vnd.google.colaboratory.intrinsic+json": {
              "type": "string"
            }
          },
          "metadata": {},
          "execution_count": 6
        }
      ]
    },
    {
      "cell_type": "code",
      "source": [
        "import matplotlib.pyplot as plt\n",
        "plt.plot([1,2,3,4],[5,6,7,8])\n",
        "plt.show()\n",
        "'''\n",
        "Here note that the first array appears on the x-axis and second\n",
        "array appears on the y-axis of the plot.\n",
        "• Now that our first plot is ready, let us add the title, and name\n",
        "x-axis and y-axis using\n",
        "methods title(), xlabel() and ylabel() respectivel\n",
        "\n",
        "'''\n",
        "plt.title(\"info\")\n",
        "plt.ylabel(\"y axis\")\n",
        "plt.xlabel(\"x axis\")"
      ],
      "metadata": {
        "colab": {
          "base_uri": "https://localhost:8080/",
          "height": 560
        },
        "id": "zoULp65ktW5O",
        "outputId": "b3aff57b-ac2d-4940-9405-72f98bcccfca"
      },
      "execution_count": null,
      "outputs": [
        {
          "output_type": "display_data",
          "data": {
            "text/plain": [
              "<Figure size 432x288 with 1 Axes>"
            ],
            "image/png": "[encoded data removed]"
          },
          "metadata": {
            "needs_background": "light"
          }
        },
        {
          "output_type": "execute_result",
          "data": {
            "text/plain": [
              "Text(0.5, 0, 'x axis')"
            ]
          },
          "metadata": {},
          "execution_count": 7
        },
        {
          "output_type": "display_data",
          "data": {
            "text/plain": [
              "<Figure size 432x288 with 1 Axes>"
            ],
            "image/png": "[encoded data removed]"
          },
          "metadata": {
            "needs_background": "light"
          }
        }
      ]
    },
    {
      "cell_type": "code",
      "source": [
        " plot() is provided with two parameters,\n",
        "which indicates values for x-axis and y-axis, respectively.\n",
        "The x and y ticks are displayed accordingly. As shown\n",
        "the plot() function by default plots a line\n",
        "chart. We can click on the save button on the output\n",
        "window and save the plot as an image. A figure can also\n",
        "be saved by using savefig() function. The name of the\n",
        "figure is passed to the function as parameter.\n",
        "For example: plt.savefig('x.png')"
      ],
      "metadata": {
        "id": "SqUSJmW63iSy"
      },
      "execution_count": null,
      "outputs": []
    },
    {
      "cell_type": "code",
      "source": [
        "plt.savefig('/content/drive/MyDrive/Colab Notebooks/x.png')"
      ],
      "metadata": {
        "colab": {
          "base_uri": "https://localhost:8080/",
          "height": 34
        },
        "id": "E5eXy9Ed3m1q",
        "outputId": "2f738ba0-a6fc-463f-a9cc-df4332fcd2ca"
      },
      "execution_count": null,
      "outputs": [
        {
          "output_type": "display_data",
          "data": {
            "text/plain": [
              "<Figure size 432x288 with 0 Axes>"
            ]
          },
          "metadata": {}
        }
      ]
    },
    {
      "cell_type": "code",
      "source": [
        "#add style to graph\n",
        "from matplotlib import pyplot as plt\n",
        "x=[1,2,3,4]\n",
        "y=[2,4,6,8]\n",
        "plt.plot(x,y,color='r',linewidth=4,marker='h',markersize=10)\n",
        "plt.xlabel(\"X axis\")\n",
        "plt.ylabel(\"y axis\")\n",
        "plt.title(\"plot\")\n",
        "plt.show()"
      ],
      "metadata": {
        "id": "3wP6oXM7tqlZ",
        "colab": {
          "base_uri": "https://localhost:8080/",
          "height": 295
        },
        "outputId": "4ce9da99-f20f-459d-d9d8-6e86abe1e2ed"
      },
      "execution_count": null,
      "outputs": [
        {
          "output_type": "display_data",
          "data": {
            "text/plain": [
              "<Figure size 432x288 with 1 Axes>"
            ],
            "image/png": "[encoded data removed]"
          },
          "metadata": {
            "needs_background": "light"
          }
        }
      ]
    },
    {
      "cell_type": "code",
      "source": [
        "Character Colour\n",
        "‘b’       blue\n",
        "‘g’       green\n",
        "‘r’       red\n",
        "‘c’       cyan\n",
        "‘m’       magenta\n",
        "‘y’       yellow\n",
        "‘k’       black\n",
        "‘w’       white"
      ],
      "metadata": {
        "id": "fXFDoOpV4X3r"
      },
      "execution_count": null,
      "outputs": []
    },
    {
      "cell_type": "code",
      "source": [
        "Linewidth and Line Style\n",
        "The linewidth and linestyle property can be used\n",
        "to change the width and the style of the line chart.\n",
        "Linewidth is specified in pixels. The default line width\n",
        "is 1 pixel showing a thin line. Thus, a number greater\n",
        "than 1 will output a thicker line depending on the\n",
        "value provided."
      ],
      "metadata": {
        "id": "j6DHe9i15VVZ"
      },
      "execution_count": null,
      "outputs": []
    },
    {
      "cell_type": "code",
      "source": [
        "import matplotlib.pyplot as plt\n",
        "plt.subplot(2,2,1) # 2x2 axes, select axes 1\n",
        "X = [1,2,3,4]; Y = [2,3,1,7] # X,Y define 4 points\n",
        "plt.plot(X, Y, 'go-') # green dots, solid line\n",
        "plt.title(\"Axes 1\") # write title"
      ],
      "metadata": {
        "id": "wrxNGqArzqWN",
        "outputId": "655e2add-37ee-4a08-94b4-537c6654bcf7",
        "colab": {
          "base_uri": "https://localhost:8080/",
          "height": 268
        }
      },
      "execution_count": null,
      "outputs": [
        {
          "output_type": "execute_result",
          "data": {
            "text/plain": [
              "Text(0.5, 1.0, 'Axes 1')"
            ]
          },
          "metadata": {},
          "execution_count": 1
        },
        {
          "output_type": "display_data",
          "data": {
            "text/plain": [
              "<Figure size 640x480 with 1 Axes>"
            ],
            "image/png": "[encoded data removed]"
          },
          "metadata": {}
        }
      ]
    },
    {
      "cell_type": "code",
      "source": [
        "import matplotlib.pyplot as plt\n",
        "#list storing date in string format\n",
        "date=[\"25/12\",\"26/12\",\"27/12\"]\n",
        "#list storing temperature values\n",
        "temp=[8.5,10.5,6.8]\n",
        "#create a figure plotting temp versus date\n",
        "plt.plot(date, temp)\n",
        "#show the figure\n",
        "plt.show()"
      ],
      "metadata": {
        "id": "_HhUhRlppD0t"
      },
      "execution_count": null,
      "outputs": []
    },
    {
      "cell_type": "code",
      "source": [
        "import matplotlib.pyplot as plt\n",
        "date=[\"25/12\",\"26/12\",\"27/12\"]\n",
        "temp=[8.5,10.5,6.8]\n",
        "plt.plot(date, temp)\n",
        "plt.xlabel(\"Date\") #add the Label on x-axis\n",
        "plt.ylabel(\"Temperature\") #add the Label on y-axis\n",
        "plt.title(\"Date wise Temperature\") #add the title to the chart\n",
        "plt.grid(True) #add gridlines to the background\n",
        "plt.show()"
      ],
      "metadata": {
        "colab": {
          "base_uri": "https://localhost:8080/",
          "height": 295
        },
        "id": "PHdiDRyS4B-H",
        "outputId": "ca78641a-f444-4b26-bfd8-8be62469306b"
      },
      "execution_count": null,
      "outputs": [
        {
          "output_type": "display_data",
          "data": {
            "text/plain": [
              "<Figure size 432x288 with 1 Axes>"
            ],
            "image/png": "[encoded data removed]"
          },
          "metadata": {
            "needs_background": "light"
          }
        }
      ]
    },
    {
      "cell_type": "code",
      "source": [
        "'''With every X and Y argument, you can also pass an optional\n",
        "third argument in the form of a string which indicates the\n",
        "colour and line type of the plot.\n",
        "• The default format is b- which means a solid blue line. In the\n",
        "figure below we use go which means green circles\n",
        "\n",
        "'''\n",
        "plt.plot([1,2,3,4],[1,4,9,16],\"go\")\n",
        "plt.title(\"pl\")\n"
      ],
      "metadata": {
        "colab": {
          "base_uri": "https://localhost:8080/",
          "height": 212
        },
        "id": "l7cq6EQ-U1cR",
        "outputId": "b45fa151-0e5d-409d-b2fa-0f176dd9fda5"
      },
      "execution_count": null,
      "outputs": [
        {
          "output_type": "error",
          "ename": "NameError",
          "evalue": "ignored",
          "traceback": [
            "\u001b[0;31m---------------------------------------------------------------------------\u001b[0m",
            "\u001b[0;31mNameError\u001b[0m                                 Traceback (most recent call last)",
            "\u001b[0;32m<ipython-input-2-4762ce73728b>\u001b[0m in \u001b[0;36m<module>\u001b[0;34m\u001b[0m\n\u001b[1;32m      6\u001b[0m \u001b[0;34m\u001b[0m\u001b[0m\n\u001b[1;32m      7\u001b[0m '''\n\u001b[0;32m----> 8\u001b[0;31m \u001b[0mplt\u001b[0m\u001b[0;34m.\u001b[0m\u001b[0mplot\u001b[0m\u001b[0;34m(\u001b[0m\u001b[0;34m[\u001b[0m\u001b[0;36m1\u001b[0m\u001b[0;34m,\u001b[0m\u001b[0;36m2\u001b[0m\u001b[0;34m,\u001b[0m\u001b[0;36m3\u001b[0m\u001b[0;34m,\u001b[0m\u001b[0;36m4\u001b[0m\u001b[0;34m]\u001b[0m\u001b[0;34m,\u001b[0m\u001b[0;34m[\u001b[0m\u001b[0;36m1\u001b[0m\u001b[0;34m,\u001b[0m\u001b[0;36m4\u001b[0m\u001b[0;34m,\u001b[0m\u001b[0;36m9\u001b[0m\u001b[0;34m,\u001b[0m\u001b[0;36m16\u001b[0m\u001b[0;34m]\u001b[0m\u001b[0;34m,\u001b[0m\u001b[0;34m\"go\"\u001b[0m\u001b[0;34m)\u001b[0m\u001b[0;34m\u001b[0m\u001b[0;34m\u001b[0m\u001b[0m\n\u001b[0m\u001b[1;32m      9\u001b[0m \u001b[0mplt\u001b[0m\u001b[0;34m.\u001b[0m\u001b[0mtitle\u001b[0m\u001b[0;34m(\u001b[0m\u001b[0;34m\"pl\"\u001b[0m\u001b[0;34m)\u001b[0m\u001b[0;34m\u001b[0m\u001b[0;34m\u001b[0m\u001b[0m\n",
            "\u001b[0;31mNameError\u001b[0m: name 'plt' is not defined"
          ]
        }
      ]
    },
    {
      "cell_type": "code",
      "source": [
        "On providing a single\n",
        "list or array to the\n",
        "plot() function, can\n",
        "matplotlib generate\n",
        "values for both the x\n",
        "and y axis?"
      ],
      "metadata": {
        "id": "ld0HVUJeEALl"
      },
      "execution_count": null,
      "outputs": []
    },
    {
      "cell_type": "code",
      "source": [
        "'''Bar Graphs\n",
        "In order to show comparisons, we prefer Bar\n",
        "charts. Unlike line plots, bar charts can plot strings on\n",
        "the x axis. To plot a bar chart, we will specify kind=’bar’.\n",
        "\n",
        "• Bar graphs are one of the most common types of graphs and\n",
        "are used to show data associated with the categorical\n",
        "variables. Pyplot provides a method bar() to make bar graphs\n",
        "which take arguments: categorical variables, their values and\n",
        "color (if you want to specify any).\n",
        "\n",
        "'''\n",
        "divisions=[\"div-a\",\"div-b\",\"div-c\",\"div-d\"]\n",
        "marks=[80,78,98,76]\n",
        "plt.bar(divisions,marks,color=\"red\")\n",
        "plt.title(\"bargraph\")\n",
        "plt.xlabel(\"div\")\n",
        "plt.ylabel(\"marks\")\n",
        "plt.show()"
      ],
      "metadata": {
        "colab": {
          "base_uri": "https://localhost:8080/",
          "height": 295
        },
        "id": "QHK8zfmRWiTT",
        "outputId": "97d74663-1c09-4b65-ede8-b9f0b8906844"
      },
      "execution_count": null,
      "outputs": [
        {
          "output_type": "display_data",
          "data": {
            "text/plain": [
              "<Figure size 432x288 with 1 Axes>"
            ],
            "image/png": "[encoded data removed]"
          },
          "metadata": {
            "needs_background": "light"
          }
        }
      ]
    },
    {
      "cell_type": "code",
      "source": [
        "#If you want the bars to be displayed horizontally instead of vertically, use the barh() function:\n",
        "import matplotlib.pyplot as plt\n",
        "language=[\"c\",\"c++\",\"python\",\"java\"]\n",
        "students=[34,56,67,54]\n",
        "plt.xlabel(\"lang\")\n",
        "plt.ylabel(\"students\")\n",
        "plt.title(\"students per course\")\n",
        "plt.barh(language,students,color=\"green\",height=0.4)\n",
        "plt.show()"
      ],
      "metadata": {
        "id": "BKwmrkcxXb8c",
        "colab": {
          "base_uri": "https://localhost:8080/",
          "height": 295
        },
        "outputId": "ce5c6af1-59c2-4a0f-e8eb-b6dececc9423"
      },
      "execution_count": null,
      "outputs": [
        {
          "output_type": "display_data",
          "data": {
            "text/plain": [
              "<Figure size 432x288 with 1 Axes>"
            ],
            "image/png": "[encoded data removed]"
          },
          "metadata": {
            "needs_background": "light"
          }
        }
      ]
    },
    {
      "cell_type": "code",
      "source": [],
      "metadata": {
        "id": "k6xHBQFMFt_k"
      },
      "execution_count": null,
      "outputs": []
    },
    {
      "cell_type": "code",
      "source": [
        "'''\n",
        "Histogram\n",
        "Histograms are column-charts, where each column\n",
        "represents a range of values, and the height of a column\n",
        "corresponds to how many values are in that range.\n",
        "To make a histogram, the data is sorted into\n",
        "\"bins\" and the number of data points in each bin is\n",
        "counted. The height of each column in the histogram\n",
        "is then proportional to the number of data points its\n",
        "bin contains.\n",
        "\n",
        "The df.plot(kind=’hist’) function automatically selects\n",
        "the size of the bins based on the spread of values in\n",
        "the data\n",
        "• Histograms are a very common type of plots when we are\n",
        "looking at data like height and weight, stock prices, waiting\n",
        "time for a customer, etc which are continuous in nature.\n",
        "Histogram’s data is plotted within a range against its\n",
        "frequency.\n",
        "• Histograms are very commonly occurring graphs in probability\n",
        "\n",
        "and statistics and form the basis for various distributions like\n",
        "the normal -distribution, t-distribution, etc.\n",
        "\n",
        "\n",
        "'''\n",
        "import numpy as np\n",
        "x=np.random.randn(1000)\n",
        "plt.title(\"histogram\")\n",
        "plt.xlabel(\"random data\")\n",
        "plt.ylabel(\"frequency\")\n",
        "plt.hist(x,10)\n",
        "plt.show()"
      ],
      "metadata": {
        "id": "IuEDDdd0YM1w",
        "colab": {
          "base_uri": "https://localhost:8080/",
          "height": 295
        },
        "outputId": "a7c83828-4f3a-495a-f59c-9190ba5dbe48"
      },
      "execution_count": null,
      "outputs": [
        {
          "output_type": "display_data",
          "data": {
            "text/plain": [
              "<Figure size 432x288 with 1 Axes>"
            ],
            "image/png": "[encoded data removed]"
          },
          "metadata": {
            "needs_background": "light"
          }
        }
      ]
    },
    {
      "cell_type": "code",
      "source": [
        "A scatter chart is a two-dimensional data visualisation\n",
        "method that uses dots to represent the values obtained\n",
        "for two different variables —one plotted along the x-axis\n",
        "and the other plotted along the y-axis.\n",
        "A scatter chart is a two-dimensional data visualisation\n",
        "method that uses dots to represent the values obtained\n",
        "for two different variables —one plotted along the x-axis\n",
        "and the other plotted along the y-axis."
      ],
      "metadata": {
        "id": "-tEvM6O9a8RW"
      },
      "execution_count": null,
      "outputs": []
    },
    {
      "cell_type": "code",
      "source": [
        "import numpy as np\n",
        "import matplotlib.pyplot as plt\n",
        "discount= np.array([10,20,30,40,50])\n",
        "saleInRs=np.array([40000,45000,48000,50000,100000])\n",
        "plt.scatter(discount,saleInRs)\n",
        "plt.title('Sales Vs Discount')\n",
        "plt.xlabel('Discount offered')\n",
        "plt.ylabel('Sales in Rs')\n",
        "plt.show()\n",
        "#plt.scatter(x=discount,y=saleInRs,s=size,color='red',linewidth=3,marker='*',edgecolor='blue')"
      ],
      "metadata": {
        "colab": {
          "base_uri": "https://localhost:8080/",
          "height": 472
        },
        "id": "z0R1HfMoG4Fd",
        "outputId": "e0ade100-891f-4f7c-dfd8-e40fd7c1a114"
      },
      "execution_count": null,
      "outputs": [
        {
          "output_type": "display_data",
          "data": {
            "text/plain": [
              "<Figure size 640x480 with 1 Axes>"
            ],
            "image/png": "[encoded data removed]"
          },
          "metadata": {}
        }
      ]
    },
    {
      "cell_type": "code",
      "source": [
        "import matplotlib.pyplot as plt\n",
        "import numpy as np\n",
        "\n",
        "x = np.array([5,7,8,7,2,17,2,9,4,11,12,9,6])\n",
        "y = np.array([99,86,87,88,111,86,103,87,94,78,77,85,86])\n",
        "\n",
        "plt.scatter(x, y)\n",
        "plt.show()"
      ],
      "metadata": {
        "id": "WYdNbPsyIO3O",
        "colab": {
          "base_uri": "https://localhost:8080/",
          "height": 265
        },
        "outputId": "8781fc7b-d29f-42f0-93b1-f3b289b24bd2"
      },
      "execution_count": null,
      "outputs": [
        {
          "output_type": "display_data",
          "data": {
            "text/plain": [
              "<Figure size 432x288 with 1 Axes>"
            ],
            "image/png": "[encoded data removed]"
          },
          "metadata": {
            "needs_background": "light"
          }
        }
      ]
    },
    {
      "cell_type": "code",
      "source": [
        "#draw two plots on same graph\n",
        "import matplotlib.pyplot as plt\n",
        "import numpy as np\n",
        "\n",
        "#day one, the age and speed of 13 cars:\n",
        "x = np.array([5,7,8,7,2,17,2,9,4,11,12,9,6])\n",
        "y = np.array([99,86,87,88,111,86,103,87,94,78,77,85,86])\n",
        "plt.scatter(x, y)\n",
        "\n",
        "#day two, the age and speed of 15 cars:\n",
        "x = np.array([2,2,8,1,15,8,12,9,7,3,11,4,7,14,12])\n",
        "y = np.array([100,105,84,105,90,99,90,95,94,100,79,112,91,80,85])\n",
        "plt.scatter(x, y)\n",
        "\n",
        "plt.show()"
      ],
      "metadata": {
        "colab": {
          "base_uri": "https://localhost:8080/",
          "height": 265
        },
        "id": "4anmBgrHIYgd",
        "outputId": "43c0da06-91a1-4c5e-d6bd-452801ae00fb"
      },
      "execution_count": null,
      "outputs": [
        {
          "output_type": "display_data",
          "data": {
            "text/plain": [
              "<Figure size 432x288 with 1 Axes>"
            ],
            "image/png": "[encoded data removed]"
          },
          "metadata": {
            "needs_background": "light"
          }
        }
      ]
    },
    {
      "cell_type": "code",
      "source": [
        "Pie is a type of graph in which a circle is divided into\n",
        "different sectors and each sector represents a part of\n",
        "the whole. A pie plot is used to represent numerical\n",
        "data proportionally. To plot a pie chart, either column\n",
        "label y or 'subplots=True' should be set while using\n",
        "df.plot(kind='pie') . If no column reference is passed and\n",
        "subplots=True, a 'pie' plot is drawn for each numerical\n",
        "column independently"
      ],
      "metadata": {
        "id": "yvtHfa8cHbhw"
      },
      "execution_count": null,
      "outputs": []
    },
    {
      "cell_type": "code",
      "source": [
        "import matplotlib.pyplot as plt\n",
        "import numpy as np\n",
        "\n",
        "#y = np.array([35, 25, 25, 15])\n",
        "\n",
        "plt.pie([1,2,3],[4,5,6])\n",
        "plt.show()"
      ],
      "metadata": {
        "colab": {
          "base_uri": "https://localhost:8080/",
          "height": 1000
        },
        "id": "mN9U9giIHmsb",
        "outputId": "71cf972f-5c47-441a-aca4-371d7a034eb1"
      },
      "execution_count": null,
      "outputs": [
        {
          "output_type": "display_data",
          "data": {
            "text/plain": [
              "<Figure size 640x480 with 1 Axes>"
            ],
            "image/png": "[encoded data removed]"
          },
          "metadata": {}
        }
      ]
    },
    {
      "cell_type": "code",
      "source": [
        "import matplotlib.pyplot as plt\n",
        "import numpy as np\n",
        "\n",
        "#y = np.array([35, 25, 25, 15])\n",
        "#mylabels = [\"Apples\", \"Bananas\", \"Cherries\", \"Dates\"]\n",
        "\n",
        "plt.pie(y, labels = mylabels)\n",
        "plt.show()"
      ],
      "metadata": {
        "colab": {
          "base_uri": "https://localhost:8080/",
          "height": 406
        },
        "id": "2itVtg0VHxdo",
        "outputId": "66310b5d-e616-4cc6-8136-4e1005db362f"
      },
      "execution_count": null,
      "outputs": [
        {
          "output_type": "display_data",
          "data": {
            "text/plain": [
              "<Figure size 640x480 with 1 Axes>"
            ],
            "image/png": "[encoded data removed]"
          },
          "metadata": {}
        }
      ]
    },
    {
      "cell_type": "code",
      "source": [
        "As mentioned the default start angle is at the x-axis, but you can change the start angle by specifying a startangle parameter.\n",
        "\n",
        "The startangle parameter is defined with an angle in degrees, default angle is 0:"
      ],
      "metadata": {
        "id": "yJ988JsqH7U3"
      },
      "execution_count": null,
      "outputs": []
    },
    {
      "cell_type": "code",
      "source": [
        "#Start the first wedge at 90 degrees:\n",
        "import matplotlib.pyplot as plt\n",
        "import numpy as np\n",
        "\n",
        "y = np.array([35, 25, 25, 15])\n",
        "mylabels = [\"Apples\", \"Bananas\", \"Cherries\", \"Dates\"]\n",
        "\n",
        "plt.pie(y, labels = mylabels, startangle = 90)\n",
        "plt.show()"
      ],
      "metadata": {
        "colab": {
          "base_uri": "https://localhost:8080/",
          "height": 248
        },
        "id": "VZDR7cYYIAhN",
        "outputId": "817afaa2-50c0-44d3-e026-04d2353aeee9"
      },
      "execution_count": null,
      "outputs": [
        {
          "output_type": "display_data",
          "data": {
            "text/plain": [
              "<Figure size 432x288 with 1 Axes>"
            ],
            "image/png": "[encoded data removed]"
          },
          "metadata": {}
        }
      ]
    },
    {
      "cell_type": "code",
      "source": [
        "'''NumPy, Pandas and Matplotlib are three\n",
        "well-established Python libraries for scientific\n",
        "and analytical use. These libraries allow us\n",
        "to manipulate, transform and visualise data\n",
        "easily and efficiently\n",
        "\n",
        "high performance data analysis tool\n",
        "large datasets\n",
        "loading files of diff formats\n",
        "flexible\n",
        "\n",
        "\n",
        "PANDAS (PANel DAta) is a high-level data manipulation\n",
        "tool used for analysing data. It is very easy to import\n",
        "and export data using Pandas library which has a very\n",
        "rich set of functions. It is built on packages like NumPy\n",
        "and Matplotlib and gives us a single, convenient place\n",
        "to do most of our data analysis and visualisation work.\n",
        "Pandas has three important data structures, namely –\n",
        "Series, DataFrame and Panel to make the process of\n",
        "analysing data organised, effective and efficient."
      ],
      "metadata": {
        "id": "AiYX_edOrmIt"
      },
      "execution_count": null,
      "outputs": []
    },
    {
      "cell_type": "code",
      "source": [
        "Data Structure in Pandas\n",
        "A data structure is a collection of data values and\n",
        "operations that can be applied to that data. It enables\n",
        "efficient storage, retrieval and modification to the data.\n",
        "+y. Two commonly used data structures in\n",
        "Pandas\n",
        "Series\n",
        "DataFrame\n"
      ],
      "metadata": {
        "id": "bQORrAILtOKC"
      },
      "execution_count": null,
      "outputs": []
    },
    {
      "cell_type": "code",
      "source": [
        "A Series is a one-dimensional array containing a\n",
        "sequence of values of any data type (int, float, list,\n",
        "string, etc) which by default have numeric data labels\n",
        "starting from zero.\n",
        "We can imagine a\n",
        "Pandas Series as a column in a spreadsheet. Example\n",
        "of a series containing names of students is given below:\n",
        "Index Value\n",
        "0   Arnab\n",
        "1   Samridhi\n",
        "2   Ramit\n",
        "3   Divyam\n",
        "4   Kritik"
      ],
      "metadata": {
        "id": "hpoIQ5XquoMx"
      },
      "execution_count": null,
      "outputs": []
    },
    {
      "cell_type": "code",
      "source": [
        "import pandas as pd\n",
        "c data=pd.Series([\"a\",\"b\",\"c\",\"d\"],index=[101,102,103,104])\n",
        "print(data)"
      ],
      "metadata": {
        "id": "fx5VROWAgsYV",
        "colab": {
          "base_uri": "https://localhost:8080/"
        },
        "outputId": "9325e976-1f26-42e9-dab1-a7d0c4169bb5"
      },
      "execution_count": null,
      "outputs": [
        {
          "output_type": "stream",
          "name": "stdout",
          "text": [
            "101    a\n",
            "102    b\n",
            "103    c\n",
            "104    d\n",
            "dtype: object\n"
          ]
        }
      ]
    },
    {
      "cell_type": "code",
      "source": [
        "#Pandas\n",
        "import pandas as pd\n",
        "data=pd.Series([101,102,103,104])\n",
        "print(data)"
      ],
      "metadata": {
        "id": "PGS_kinXbHRA",
        "colab": {
          "base_uri": "https://localhost:8080/"
        },
        "outputId": "3da85d14-c9b7-4543-9adc-6f519f175697"
      },
      "execution_count": null,
      "outputs": [
        {
          "output_type": "stream",
          "name": "stdout",
          "text": [
            "0    101\n",
            "1    102\n",
            "2    103\n",
            "3    104\n",
            "dtype: int64\n"
          ]
        }
      ]
    },
    {
      "cell_type": "code",
      "source": [
        "'''DataFrames and Series are quite similar in that many\n",
        "operations that you can do with one you can do with the\n",
        "other, such as filling in null values and calculating the mean.\n",
        "• Creating DataFrames right in Python is good to know and\n",
        "quite useful when testing new methods and functions you find\n",
        "in the pandas docs.\n",
        "• There are many ways to create a DataFrame from scratch, but\n",
        "a great option is to just use a simple dict.\n",
        "• Let's say we have a fruit stand that sells apples and oranges.\n",
        "We want to have a column for each fruit and a row for each\n",
        "customer purchase. To organize this as a dictionary for pandas\n",
        "we could do something like:\n",
        "• data = { 'apples': [3, 2, 0, 1], 'oranges': [0, 3, 7, 2] }\n",
        "And then pass it to the pandas DataFrame constructor:\n",
        "purchases = pd.DataFrame(data)\n",
        "Purchases\n",
        "\n",
        "\n",
        "'''\n",
        "import pandas as pd\n",
        "data = { 'apples': [3, 2, 0, 1], 'oranges': [0, 3, 7, 2] }\n",
        "purchases = pd.DataFrame(data)\n",
        "purchases\n"
      ],
      "metadata": {
        "id": "VWBKz0bZhAep",
        "colab": {
          "base_uri": "https://localhost:8080/",
          "height": 175
        },
        "outputId": "6e32bda0-7c69-4a1a-c81a-aa9522174345"
      },
      "execution_count": null,
      "outputs": [
        {
          "output_type": "execute_result",
          "data": {
            "text/plain": [
              "   apples  oranges\n",
              "0       3        0\n",
              "1       2        3\n",
              "2       0        7\n",
              "3       1        2"
            ],
            "text/html": [
              "\n",
              "  <div id=\"df-84289f9e-b4d0-4562-9a95-4e0eeb49339a\">\n",
              "    <div class=\"colab-df-container\">\n",
              "      <div>\n",
              "<style scoped>\n",
              "    .dataframe tbody tr th:only-of-type {\n",
              "        vertical-align: middle;\n",
              "    }\n",
              "\n",
              "    .dataframe tbody tr th {\n",
              "        vertical-align: top;\n",
              "    }\n",
              "\n",
              "    .dataframe thead th {\n",
              "        text-align: right;\n",
              "    }\n",
              "</style>\n",
              "<table border=\"1\" class=\"dataframe\">\n",
              "  <thead>\n",
              "    <tr style=\"text-align: right;\">\n",
              "      <th></th>\n",
              "      <th>apples</th>\n",
              "      <th>oranges</th>\n",
              "    </tr>\n",
              "  </thead>\n",
              "  <tbody>\n",
              "    <tr>\n",
              "      <th>0</th>\n",
              "      <td>3</td>\n",
              "      <td>0</td>\n",
              "    </tr>\n",
              "    <tr>\n",
              "      <th>1</th>\n",
              "      <td>2</td>\n",
              "      <td>3</td>\n",
              "    </tr>\n",
              "    <tr>\n",
              "      <th>2</th>\n",
              "      <td>0</td>\n",
              "      <td>7</td>\n",
              "    </tr>\n",
              "    <tr>\n",
              "      <th>3</th>\n",
              "      <td>1</td>\n",
              "      <td>2</td>\n",
              "    </tr>\n",
              "  </tbody>\n",
              "</table>\n",
              "</div>\n",
              "      <button class=\"colab-df-convert\" onclick=\"convertToInteractive('df-84289f9e-b4d0-4562-9a95-4e0eeb49339a')\"\n",
              "              title=\"Convert this dataframe to an interactive table.\"\n",
              "              style=\"display:none;\">\n",
              "        \n",
              "  <svg xmlns=\"http://www.w3.org/2000/svg\" height=\"24px\"viewBox=\"0 0 24 24\"\n",
              "       width=\"24px\">\n",
              "    <path d=\"M0 0h24v24H0V0z\" fill=\"none\"/>\n",
              "    <path d=\"M18.56 5.44l.94 2.06.94-2.06 2.06-.94-2.06-.94-.94-2.06-.94 2.06-2.06.94zm-11 1L8.5 8.5l.94-2.06 2.06-.94-2.06-.94L8.5 2.5l-.94 2.06-2.06.94zm10 10l.94 2.06.94-2.06 2.06-.94-2.06-.94-.94-2.06-.94 2.06-2.06.94z\"/><path d=\"M17.41 7.96l-1.37-1.37c-.4-.4-.92-.59-1.43-.59-.52 0-1.04.2-1.43.59L10.3 9.45l-7.72 7.72c-.78.78-.78 2.05 0 2.83L4 21.41c.39.39.9.59 1.41.59.51 0 1.02-.2 1.41-.59l7.78-7.78 2.81-2.81c.8-.78.8-2.07 0-2.86zM5.41 20L4 18.59l7.72-7.72 1.47 1.35L5.41 20z\"/>\n",
              "  </svg>\n",
              "      </button>\n",
              "      \n",
              "  <style>\n",
              "    .colab-df-container {\n",
              "      display:flex;\n",
              "      flex-wrap:wrap;\n",
              "      gap: 12px;\n",
              "    }\n",
              "\n",
              "    .colab-df-convert {\n",
              "      background-color: #E8F0FE;\n",
              "      border: none;\n",
              "      border-radius: 50%;\n",
              "      cursor: pointer;\n",
              "      display: none;\n",
              "      fill: #1967D2;\n",
              "      height: 32px;\n",
              "      padding: 0 0 0 0;\n",
              "      width: 32px;\n",
              "    }\n",
              "\n",
              "    .colab-df-convert:hover {\n",
              "      background-color: #E2EBFA;\n",
              "      box-shadow: 0px 1px 2px rgba(60, 64, 67, 0.3), 0px 1px 3px 1px rgba(60, 64, 67, 0.15);\n",
              "      fill: #174EA6;\n",
              "    }\n",
              "\n",
              "    [theme=dark] .colab-df-convert {\n",
              "      background-color: #3B4455;\n",
              "      fill: #D2E3FC;\n",
              "    }\n",
              "\n",
              "    [theme=dark] .colab-df-convert:hover {\n",
              "      background-color: #434B5C;\n",
              "      box-shadow: 0px 1px 3px 1px rgba(0, 0, 0, 0.15);\n",
              "      filter: drop-shadow(0px 1px 2px rgba(0, 0, 0, 0.3));\n",
              "      fill: #FFFFFF;\n",
              "    }\n",
              "  </style>\n",
              "\n",
              "      <script>\n",
              "        const buttonEl =\n",
              "          document.querySelector('#df-84289f9e-b4d0-4562-9a95-4e0eeb49339a button.colab-df-convert');\n",
              "        buttonEl.style.display =\n",
              "          google.colab.kernel.accessAllowed ? 'block' : 'none';\n",
              "\n",
              "        async function convertToInteractive(key) {\n",
              "          const element = document.querySelector('#df-84289f9e-b4d0-4562-9a95-4e0eeb49339a');\n",
              "          const dataTable =\n",
              "            await google.colab.kernel.invokeFunction('convertToInteractive',\n",
              "                                                     [key], {});\n",
              "          if (!dataTable) return;\n",
              "\n",
              "          const docLinkHtml = 'Like what you see? Visit the ' +\n",
              "            '<a target=\"_blank\" href=https://colab.research.google.com/notebooks/data_table.ipynb>data table notebook</a>'\n",
              "            + ' to learn more about interactive tables.';\n",
              "          element.innerHTML = '';\n",
              "          dataTable['output_type'] = 'display_data';\n",
              "          await google.colab.output.renderOutput(dataTable, element);\n",
              "          const docLink = document.createElement('div');\n",
              "          docLink.innerHTML = docLinkHtml;\n",
              "          element.appendChild(docLink);\n",
              "        }\n",
              "      </script>\n",
              "    </div>\n",
              "  </div>\n",
              "  "
            ]
          },
          "metadata": {},
          "execution_count": 6
        }
      ]
    },
    {
      "cell_type": "code",
      "source": [
        "purchases.to_csv('a.csv')"
      ],
      "metadata": {
        "id": "72yjuh5lQop7"
      },
      "execution_count": null,
      "outputs": []
    },
    {
      "cell_type": "code",
      "source": [
        "purchases.to_csv('a.csv',index=False)"
      ],
      "metadata": {
        "id": "trXi2U8YQ_dn"
      },
      "execution_count": null,
      "outputs": []
    },
    {
      "cell_type": "code",
      "source": [
        "'''Each (key, value) item in data corresponds to a column in the\n",
        "resulting DataFrame.\n",
        "2. The Index of this DataFrame was given to us on creation as\n",
        "the numbers 0-3, but we could also create our own when\n",
        "we initialize the DataFrame.\n",
        "\n",
        "'''\n",
        "import pandas as pd\n",
        "data=pd.DataFrame({\"Names\":[\"gg\",\"xyz\",\"def\",\"pqr\"],\"Marks\":[342,234,432,654],\"Id\":[1,2,3,4]})\n",
        "print(data)\n",
        "print(type(data))"
      ],
      "metadata": {
        "id": "zNxQISxoiHi5",
        "colab": {
          "base_uri": "https://localhost:8080/"
        },
        "outputId": "aa033c25-78b4-421e-94e4-7a1a38aa6021"
      },
      "execution_count": null,
      "outputs": [
        {
          "output_type": "stream",
          "name": "stdout",
          "text": [
            "  Names  Marks  Id\n",
            "0    gg    342   1\n",
            "1   xyz    234   2\n",
            "2   def    432   3\n",
            "3   pqr    654   4\n",
            "<class 'pandas.core.frame.DataFrame'>\n"
          ]
        }
      ]
    },
    {
      "cell_type": "code",
      "source": [
        "'''\n",
        "DataFrames possess hundreds of methods and other\n",
        "operations that are crucial to any analysis. As a beginner, you\n",
        "should know the operations that perform simple\n",
        "transformations of your data and those that provide\n",
        "fundamental statistical analysis.\n",
        "'''\n",
        "\n",
        "import pandas as pd\n",
        "from google.colab import drive\n",
        "\n",
        "drive.mount('/content/drive')\n",
        "\n",
        "#movies_df = pd.read_csv(\"Credit.csv\", index_col=\"Title\")"
      ],
      "metadata": {
        "id": "6NzB1erzjXja",
        "colab": {
          "base_uri": "https://localhost:8080/"
        },
        "outputId": "b11b0df5-608d-4caf-9f63-dbcce2f98914"
      },
      "execution_count": null,
      "outputs": [
        {
          "output_type": "stream",
          "name": "stdout",
          "text": [
            "Mounted at /content/drive\n"
          ]
        }
      ]
    },
    {
      "cell_type": "code",
      "source": [
        "d=pd.read_csv(\"/content/drive/My Drive/dataset/Credit.csv\")\n",
        "d"
      ],
      "metadata": {
        "id": "6Coi18MUosxk",
        "colab": {
          "base_uri": "https://localhost:8080/",
          "height": 679
        },
        "outputId": "1ebaef7f-79e2-41d1-fc86-4b30e655f53a"
      },
      "execution_count": null,
      "outputs": [
        {
          "output_type": "execute_result",
          "data": {
            "text/plain": [
              "     Unnamed: 0  Default checkingstatus1  duration   history       purpose  \\\n",
              "0             1        0            <DM0         6  terrible  goods/repair   \n",
              "1             2        1         DM0-200        48      poor  goods/repair   \n",
              "2             3        0       NoAccount        12  terrible           edu   \n",
              "3             4        0            <DM0        42      poor  goods/repair   \n",
              "4             5        1            <DM0        24      poor        newcar   \n",
              "..          ...      ...             ...       ...       ...           ...   \n",
              "995         996        0       NoAccount        12      poor  goods/repair   \n",
              "996         997        0            <DM0        30      poor       usedcar   \n",
              "997         998        0       NoAccount        12      poor  goods/repair   \n",
              "998         999        1            <DM0        45      poor  goods/repair   \n",
              "999        1000        0         DM0-200        45  terrible       usedcar   \n",
              "\n",
              "     amount     savings      employ  installment     sex  residence  age  \\\n",
              "0      1169     DM0-100     7+years            4    male          4   67   \n",
              "1      5951     DM0-100    1-7years            2  female          2   22   \n",
              "2      2096     DM0-100    1-7years            2    male          3   49   \n",
              "3      7882     DM0-100    1-7years            2    male          4   45   \n",
              "4      4870     DM0-100    1-7years            3    male          4   53   \n",
              "..      ...         ...         ...          ...     ...        ...  ...   \n",
              "995    1736     DM0-100    1-7years            3  female          4   31   \n",
              "996    3857     DM0-100    1-7years            4    male          4   40   \n",
              "997     804     DM0-100     7+years            4    male          4   38   \n",
              "998    1845     DM0-100    1-7years            4    male          4   23   \n",
              "999    4576  DM100-1000  unemployed            3    male          4   27   \n",
              "\n",
              "     housing  cards  liable tele  foreign  \n",
              "0        own      2       1  yes  foreign  \n",
              "1        own      1       1   no  foreign  \n",
              "2        own      1       2   no  foreign  \n",
              "3    forfree      1       2   no  foreign  \n",
              "4    forfree      2       2   no  foreign  \n",
              "..       ...    ...     ...  ...      ...  \n",
              "995      own      1       1   no  foreign  \n",
              "996      own      1       1  yes  foreign  \n",
              "997      own      1       1   no  foreign  \n",
              "998  forfree      1       1  yes  foreign  \n",
              "999      own      1       1   no  foreign  \n",
              "\n",
              "[1000 rows x 18 columns]"
            ],
            "text/html": [
              "\n",
              "  <div id=\"df-6d13cd76-66a4-404e-9ff4-504b3ccbfade\">\n",
              "    <div class=\"colab-df-container\">\n",
              "      <div>\n",
              "<style scoped>\n",
              "    .dataframe tbody tr th:only-of-type {\n",
              "        vertical-align: middle;\n",
              "    }\n",
              "\n",
              "    .dataframe tbody tr th {\n",
              "        vertical-align: top;\n",
              "    }\n",
              "\n",
              "    .dataframe thead th {\n",
              "        text-align: right;\n",
              "    }\n",
              "</style>\n",
              "<table border=\"1\" class=\"dataframe\">\n",
              "  <thead>\n",
              "    <tr style=\"text-align: right;\">\n",
              "      <th></th>\n",
              "      <th>Unnamed: 0</th>\n",
              "      <th>Default</th>\n",
              "      <th>checkingstatus1</th>\n",
              "      <th>duration</th>\n",
              "      <th>history</th>\n",
              "      <th>purpose</th>\n",
              "      <th>amount</th>\n",
              "      <th>savings</th>\n",
              "      <th>employ</th>\n",
              "      <th>installment</th>\n",
              "      <th>sex</th>\n",
              "      <th>residence</th>\n",
              "      <th>age</th>\n",
              "      <th>housing</th>\n",
              "      <th>cards</th>\n",
              "      <th>liable</th>\n",
              "      <th>tele</th>\n",
              "      <th>foreign</th>\n",
              "    </tr>\n",
              "  </thead>\n",
              "  <tbody>\n",
              "    <tr>\n",
              "      <th>0</th>\n",
              "      <td>1</td>\n",
              "      <td>0</td>\n",
              "      <td>&lt;DM0</td>\n",
              "      <td>6</td>\n",
              "      <td>terrible</td>\n",
              "      <td>goods/repair</td>\n",
              "      <td>1169</td>\n",
              "      <td>DM0-100</td>\n",
              "      <td>7+years</td>\n",
              "      <td>4</td>\n",
              "      <td>male</td>\n",
              "      <td>4</td>\n",
              "      <td>67</td>\n",
              "      <td>own</td>\n",
              "      <td>2</td>\n",
              "      <td>1</td>\n",
              "      <td>yes</td>\n",
              "      <td>foreign</td>\n",
              "    </tr>\n",
              "    <tr>\n",
              "      <th>1</th>\n",
              "      <td>2</td>\n",
              "      <td>1</td>\n",
              "      <td>DM0-200</td>\n",
              "      <td>48</td>\n",
              "      <td>poor</td>\n",
              "      <td>goods/repair</td>\n",
              "      <td>5951</td>\n",
              "      <td>DM0-100</td>\n",
              "      <td>1-7years</td>\n",
              "      <td>2</td>\n",
              "      <td>female</td>\n",
              "      <td>2</td>\n",
              "      <td>22</td>\n",
              "      <td>own</td>\n",
              "      <td>1</td>\n",
              "      <td>1</td>\n",
              "      <td>no</td>\n",
              "      <td>foreign</td>\n",
              "    </tr>\n",
              "    <tr>\n",
              "      <th>2</th>\n",
              "      <td>3</td>\n",
              "      <td>0</td>\n",
              "      <td>NoAccount</td>\n",
              "      <td>12</td>\n",
              "      <td>terrible</td>\n",
              "      <td>edu</td>\n",
              "      <td>2096</td>\n",
              "      <td>DM0-100</td>\n",
              "      <td>1-7years</td>\n",
              "      <td>2</td>\n",
              "      <td>male</td>\n",
              "      <td>3</td>\n",
              "      <td>49</td>\n",
              "      <td>own</td>\n",
              "      <td>1</td>\n",
              "      <td>2</td>\n",
              "      <td>no</td>\n",
              "      <td>foreign</td>\n",
              "    </tr>\n",
              "    <tr>\n",
              "      <th>3</th>\n",
              "      <td>4</td>\n",
              "      <td>0</td>\n",
              "      <td>&lt;DM0</td>\n",
              "      <td>42</td>\n",
              "      <td>poor</td>\n",
              "      <td>goods/repair</td>\n",
              "      <td>7882</td>\n",
              "      <td>DM0-100</td>\n",
              "      <td>1-7years</td>\n",
              "      <td>2</td>\n",
              "      <td>male</td>\n",
              "      <td>4</td>\n",
              "      <td>45</td>\n",
              "      <td>forfree</td>\n",
              "      <td>1</td>\n",
              "      <td>2</td>\n",
              "      <td>no</td>\n",
              "      <td>foreign</td>\n",
              "    </tr>\n",
              "    <tr>\n",
              "      <th>4</th>\n",
              "      <td>5</td>\n",
              "      <td>1</td>\n",
              "      <td>&lt;DM0</td>\n",
              "      <td>24</td>\n",
              "      <td>poor</td>\n",
              "      <td>newcar</td>\n",
              "      <td>4870</td>\n",
              "      <td>DM0-100</td>\n",
              "      <td>1-7years</td>\n",
              "      <td>3</td>\n",
              "      <td>male</td>\n",
              "      <td>4</td>\n",
              "      <td>53</td>\n",
              "      <td>forfree</td>\n",
              "      <td>2</td>\n",
              "      <td>2</td>\n",
              "      <td>no</td>\n",
              "      <td>foreign</td>\n",
              "    </tr>\n",
              "    <tr>\n",
              "      <th>...</th>\n",
              "      <td>...</td>\n",
              "      <td>...</td>\n",
              "      <td>...</td>\n",
              "      <td>...</td>\n",
              "      <td>...</td>\n",
              "      <td>...</td>\n",
              "      <td>...</td>\n",
              "      <td>...</td>\n",
              "      <td>...</td>\n",
              "      <td>...</td>\n",
              "      <td>...</td>\n",
              "      <td>...</td>\n",
              "      <td>...</td>\n",
              "      <td>...</td>\n",
              "      <td>...</td>\n",
              "      <td>...</td>\n",
              "      <td>...</td>\n",
              "      <td>...</td>\n",
              "    </tr>\n",
              "    <tr>\n",
              "      <th>995</th>\n",
              "      <td>996</td>\n",
              "      <td>0</td>\n",
              "      <td>NoAccount</td>\n",
              "      <td>12</td>\n",
              "      <td>poor</td>\n",
              "      <td>goods/repair</td>\n",
              "      <td>1736</td>\n",
              "      <td>DM0-100</td>\n",
              "      <td>1-7years</td>\n",
              "      <td>3</td>\n",
              "      <td>female</td>\n",
              "      <td>4</td>\n",
              "      <td>31</td>\n",
              "      <td>own</td>\n",
              "      <td>1</td>\n",
              "      <td>1</td>\n",
              "      <td>no</td>\n",
              "      <td>foreign</td>\n",
              "    </tr>\n",
              "    <tr>\n",
              "      <th>996</th>\n",
              "      <td>997</td>\n",
              "      <td>0</td>\n",
              "      <td>&lt;DM0</td>\n",
              "      <td>30</td>\n",
              "      <td>poor</td>\n",
              "      <td>usedcar</td>\n",
              "      <td>3857</td>\n",
              "      <td>DM0-100</td>\n",
              "      <td>1-7years</td>\n",
              "      <td>4</td>\n",
              "      <td>male</td>\n",
              "      <td>4</td>\n",
              "      <td>40</td>\n",
              "      <td>own</td>\n",
              "      <td>1</td>\n",
              "      <td>1</td>\n",
              "      <td>yes</td>\n",
              "      <td>foreign</td>\n",
              "    </tr>\n",
              "    <tr>\n",
              "      <th>997</th>\n",
              "      <td>998</td>\n",
              "      <td>0</td>\n",
              "      <td>NoAccount</td>\n",
              "      <td>12</td>\n",
              "      <td>poor</td>\n",
              "      <td>goods/repair</td>\n",
              "      <td>804</td>\n",
              "      <td>DM0-100</td>\n",
              "      <td>7+years</td>\n",
              "      <td>4</td>\n",
              "      <td>male</td>\n",
              "      <td>4</td>\n",
              "      <td>38</td>\n",
              "      <td>own</td>\n",
              "      <td>1</td>\n",
              "      <td>1</td>\n",
              "      <td>no</td>\n",
              "      <td>foreign</td>\n",
              "    </tr>\n",
              "    <tr>\n",
              "      <th>998</th>\n",
              "      <td>999</td>\n",
              "      <td>1</td>\n",
              "      <td>&lt;DM0</td>\n",
              "      <td>45</td>\n",
              "      <td>poor</td>\n",
              "      <td>goods/repair</td>\n",
              "      <td>1845</td>\n",
              "      <td>DM0-100</td>\n",
              "      <td>1-7years</td>\n",
              "      <td>4</td>\n",
              "      <td>male</td>\n",
              "      <td>4</td>\n",
              "      <td>23</td>\n",
              "      <td>forfree</td>\n",
              "      <td>1</td>\n",
              "      <td>1</td>\n",
              "      <td>yes</td>\n",
              "      <td>foreign</td>\n",
              "    </tr>\n",
              "    <tr>\n",
              "      <th>999</th>\n",
              "      <td>1000</td>\n",
              "      <td>0</td>\n",
              "      <td>DM0-200</td>\n",
              "      <td>45</td>\n",
              "      <td>terrible</td>\n",
              "      <td>usedcar</td>\n",
              "      <td>4576</td>\n",
              "      <td>DM100-1000</td>\n",
              "      <td>unemployed</td>\n",
              "      <td>3</td>\n",
              "      <td>male</td>\n",
              "      <td>4</td>\n",
              "      <td>27</td>\n",
              "      <td>own</td>\n",
              "      <td>1</td>\n",
              "      <td>1</td>\n",
              "      <td>no</td>\n",
              "      <td>foreign</td>\n",
              "    </tr>\n",
              "  </tbody>\n",
              "</table>\n",
              "<p>1000 rows × 18 columns</p>\n",
              "</div>\n",
              "      <button class=\"colab-df-convert\" onclick=\"convertToInteractive('df-6d13cd76-66a4-404e-9ff4-504b3ccbfade')\"\n",
              "              title=\"Convert this dataframe to an interactive table.\"\n",
              "              style=\"display:none;\">\n",
              "        \n",
              "  <svg xmlns=\"http://www.w3.org/2000/svg\" height=\"24px\"viewBox=\"0 0 24 24\"\n",
              "       width=\"24px\">\n",
              "    <path d=\"M0 0h24v24H0V0z\" fill=\"none\"/>\n",
              "    <path d=\"M18.56 5.44l.94 2.06.94-2.06 2.06-.94-2.06-.94-.94-2.06-.94 2.06-2.06.94zm-11 1L8.5 8.5l.94-2.06 2.06-.94-2.06-.94L8.5 2.5l-.94 2.06-2.06.94zm10 10l.94 2.06.94-2.06 2.06-.94-2.06-.94-.94-2.06-.94 2.06-2.06.94z\"/><path d=\"M17.41 7.96l-1.37-1.37c-.4-.4-.92-.59-1.43-.59-.52 0-1.04.2-1.43.59L10.3 9.45l-7.72 7.72c-.78.78-.78 2.05 0 2.83L4 21.41c.39.39.9.59 1.41.59.51 0 1.02-.2 1.41-.59l7.78-7.78 2.81-2.81c.8-.78.8-2.07 0-2.86zM5.41 20L4 18.59l7.72-7.72 1.47 1.35L5.41 20z\"/>\n",
              "  </svg>\n",
              "      </button>\n",
              "      \n",
              "  <style>\n",
              "    .colab-df-container {\n",
              "      display:flex;\n",
              "      flex-wrap:wrap;\n",
              "      gap: 12px;\n",
              "    }\n",
              "\n",
              "    .colab-df-convert {\n",
              "      background-color: #E8F0FE;\n",
              "      border: none;\n",
              "      border-radius: 50%;\n",
              "      cursor: pointer;\n",
              "      display: none;\n",
              "      fill: #1967D2;\n",
              "      height: 32px;\n",
              "      padding: 0 0 0 0;\n",
              "      width: 32px;\n",
              "    }\n",
              "\n",
              "    .colab-df-convert:hover {\n",
              "      background-color: #E2EBFA;\n",
              "      box-shadow: 0px 1px 2px rgba(60, 64, 67, 0.3), 0px 1px 3px 1px rgba(60, 64, 67, 0.15);\n",
              "      fill: #174EA6;\n",
              "    }\n",
              "\n",
              "    [theme=dark] .colab-df-convert {\n",
              "      background-color: #3B4455;\n",
              "      fill: #D2E3FC;\n",
              "    }\n",
              "\n",
              "    [theme=dark] .colab-df-convert:hover {\n",
              "      background-color: #434B5C;\n",
              "      box-shadow: 0px 1px 3px 1px rgba(0, 0, 0, 0.15);\n",
              "      filter: drop-shadow(0px 1px 2px rgba(0, 0, 0, 0.3));\n",
              "      fill: #FFFFFF;\n",
              "    }\n",
              "  </style>\n",
              "\n",
              "      <script>\n",
              "        const buttonEl =\n",
              "          document.querySelector('#df-6d13cd76-66a4-404e-9ff4-504b3ccbfade button.colab-df-convert');\n",
              "        buttonEl.style.display =\n",
              "          google.colab.kernel.accessAllowed ? 'block' : 'none';\n",
              "\n",
              "        async function convertToInteractive(key) {\n",
              "          const element = document.querySelector('#df-6d13cd76-66a4-404e-9ff4-504b3ccbfade');\n",
              "          const dataTable =\n",
              "            await google.colab.kernel.invokeFunction('convertToInteractive',\n",
              "                                                     [key], {});\n",
              "          if (!dataTable) return;\n",
              "\n",
              "          const docLinkHtml = 'Like what you see? Visit the ' +\n",
              "            '<a target=\"_blank\" href=https://colab.research.google.com/notebooks/data_table.ipynb>data table notebook</a>'\n",
              "            + ' to learn more about interactive tables.';\n",
              "          element.innerHTML = '';\n",
              "          dataTable['output_type'] = 'display_data';\n",
              "          await google.colab.output.renderOutput(dataTable, element);\n",
              "          const docLink = document.createElement('div');\n",
              "          docLink.innerHTML = docLinkHtml;\n",
              "          element.appendChild(docLink);\n",
              "        }\n",
              "      </script>\n",
              "    </div>\n",
              "  </div>\n",
              "  "
            ]
          },
          "metadata": {},
          "execution_count": 10
        }
      ]
    },
    {
      "cell_type": "code",
      "source": [
        "d[['duration','installment']].sum()"
      ],
      "metadata": {
        "colab": {
          "base_uri": "https://localhost:8080/"
        },
        "id": "jvAjeqeA3eaL",
        "outputId": "1d0d1874-4252-4440-f41c-378d3bc9d1cc"
      },
      "execution_count": null,
      "outputs": [
        {
          "output_type": "execute_result",
          "data": {
            "text/plain": [
              "duration       20903\n",
              "installment     2973\n",
              "dtype: int64"
            ]
          },
          "metadata": {},
          "execution_count": 12
        }
      ]
    },
    {
      "cell_type": "code",
      "source": [
        "d.sort_values(\"history\")"
      ],
      "metadata": {
        "id": "AFQPm60wBlTb",
        "outputId": "59f28dbd-551f-4195-cb15-05969350b06e",
        "colab": {
          "base_uri": "https://localhost:8080/"
        }
      },
      "execution_count": null,
      "outputs": [
        {
          "output_type": "execute_result",
          "data": {
            "text/plain": [
              "     Unnamed: 0  Default checkingstatus1  duration   history       purpose  \\\n",
              "889         890        0       NoAccount        28      good       usedcar   \n",
              "475         476        1            <DM0        18      good  goods/repair   \n",
              "915         916        1         DM0-200        48      good           biz   \n",
              "272         273        0         DM0-200        48      good        newcar   \n",
              "782         783        0         DM0-200        12      good           edu   \n",
              "..          ...      ...             ...       ...       ...           ...   \n",
              "490         491        0       NoAccount        12  terrible  goods/repair   \n",
              "484         485        0       NoAccount        12  terrible        newcar   \n",
              "480         481        0         DM0-200        12  terrible  goods/repair   \n",
              "372         373        0       NoAccount        10  terrible  goods/repair   \n",
              "999        1000        0         DM0-200        45  terrible       usedcar   \n",
              "\n",
              "     amount     savings      employ  installment     sex  residence  age  \\\n",
              "889    7824     DM0-100     0-1year            3    male          4   40   \n",
              "475    3114     DM0-100     0-1year            1  female          4   26   \n",
              "915   18424     DM0-100    1-7years            1  female          2   32   \n",
              "272   12169     DM0-100  unemployed            4    male          4   36   \n",
              "782    1410     DM0-100    1-7years            2    male          2   31   \n",
              "..      ...         ...         ...          ...     ...        ...  ...   \n",
              "490    1934     DM0-100     7+years            2    male          2   26   \n",
              "484    1163  DM100-1000    1-7years            4    male          4   44   \n",
              "480    3573     DM0-100    1-7years            1  female          1   23   \n",
              "372    2146     DM0-100     0-1year            1  female          3   23   \n",
              "999    4576  DM100-1000  unemployed            3    male          4   27   \n",
              "\n",
              "     housing  cards  liable tele  foreign  \n",
              "889     rent      2       2  yes  foreign  \n",
              "475     rent      1       1   no  foreign  \n",
              "915      own      1       1  yes   german  \n",
              "272  forfree      1       1  yes  foreign  \n",
              "782      own      1       1  yes  foreign  \n",
              "..       ...    ...     ...  ...      ...  \n",
              "490      own      2       1   no  foreign  \n",
              "484      own      1       1  yes  foreign  \n",
              "480      own      1       1   no  foreign  \n",
              "372     rent      2       1   no  foreign  \n",
              "999      own      1       1   no  foreign  \n",
              "\n",
              "[1000 rows x 18 columns]"
            ],
            "text/html": [
              "\n",
              "  <div id=\"df-79792c0e-373e-439c-b136-c2b17b8acd1e\">\n",
              "    <div class=\"colab-df-container\">\n",
              "      <div>\n",
              "<style scoped>\n",
              "    .dataframe tbody tr th:only-of-type {\n",
              "        vertical-align: middle;\n",
              "    }\n",
              "\n",
              "    .dataframe tbody tr th {\n",
              "        vertical-align: top;\n",
              "    }\n",
              "\n",
              "    .dataframe thead th {\n",
              "        text-align: right;\n",
              "    }\n",
              "</style>\n",
              "<table border=\"1\" class=\"dataframe\">\n",
              "  <thead>\n",
              "    <tr style=\"text-align: right;\">\n",
              "      <th></th>\n",
              "      <th>Unnamed: 0</th>\n",
              "      <th>Default</th>\n",
              "      <th>checkingstatus1</th>\n",
              "      <th>duration</th>\n",
              "      <th>history</th>\n",
              "      <th>purpose</th>\n",
              "      <th>amount</th>\n",
              "      <th>savings</th>\n",
              "      <th>employ</th>\n",
              "      <th>installment</th>\n",
              "      <th>sex</th>\n",
              "      <th>residence</th>\n",
              "      <th>age</th>\n",
              "      <th>housing</th>\n",
              "      <th>cards</th>\n",
              "      <th>liable</th>\n",
              "      <th>tele</th>\n",
              "      <th>foreign</th>\n",
              "    </tr>\n",
              "  </thead>\n",
              "  <tbody>\n",
              "    <tr>\n",
              "      <th>889</th>\n",
              "      <td>890</td>\n",
              "      <td>0</td>\n",
              "      <td>NoAccount</td>\n",
              "      <td>28</td>\n",
              "      <td>good</td>\n",
              "      <td>usedcar</td>\n",
              "      <td>7824</td>\n",
              "      <td>DM0-100</td>\n",
              "      <td>0-1year</td>\n",
              "      <td>3</td>\n",
              "      <td>male</td>\n",
              "      <td>4</td>\n",
              "      <td>40</td>\n",
              "      <td>rent</td>\n",
              "      <td>2</td>\n",
              "      <td>2</td>\n",
              "      <td>yes</td>\n",
              "      <td>foreign</td>\n",
              "    </tr>\n",
              "    <tr>\n",
              "      <th>475</th>\n",
              "      <td>476</td>\n",
              "      <td>1</td>\n",
              "      <td>&lt;DM0</td>\n",
              "      <td>18</td>\n",
              "      <td>good</td>\n",
              "      <td>goods/repair</td>\n",
              "      <td>3114</td>\n",
              "      <td>DM0-100</td>\n",
              "      <td>0-1year</td>\n",
              "      <td>1</td>\n",
              "      <td>female</td>\n",
              "      <td>4</td>\n",
              "      <td>26</td>\n",
              "      <td>rent</td>\n",
              "      <td>1</td>\n",
              "      <td>1</td>\n",
              "      <td>no</td>\n",
              "      <td>foreign</td>\n",
              "    </tr>\n",
              "    <tr>\n",
              "      <th>915</th>\n",
              "      <td>916</td>\n",
              "      <td>1</td>\n",
              "      <td>DM0-200</td>\n",
              "      <td>48</td>\n",
              "      <td>good</td>\n",
              "      <td>biz</td>\n",
              "      <td>18424</td>\n",
              "      <td>DM0-100</td>\n",
              "      <td>1-7years</td>\n",
              "      <td>1</td>\n",
              "      <td>female</td>\n",
              "      <td>2</td>\n",
              "      <td>32</td>\n",
              "      <td>own</td>\n",
              "      <td>1</td>\n",
              "      <td>1</td>\n",
              "      <td>yes</td>\n",
              "      <td>german</td>\n",
              "    </tr>\n",
              "    <tr>\n",
              "      <th>272</th>\n",
              "      <td>273</td>\n",
              "      <td>0</td>\n",
              "      <td>DM0-200</td>\n",
              "      <td>48</td>\n",
              "      <td>good</td>\n",
              "      <td>newcar</td>\n",
              "      <td>12169</td>\n",
              "      <td>DM0-100</td>\n",
              "      <td>unemployed</td>\n",
              "      <td>4</td>\n",
              "      <td>male</td>\n",
              "      <td>4</td>\n",
              "      <td>36</td>\n",
              "      <td>forfree</td>\n",
              "      <td>1</td>\n",
              "      <td>1</td>\n",
              "      <td>yes</td>\n",
              "      <td>foreign</td>\n",
              "    </tr>\n",
              "    <tr>\n",
              "      <th>782</th>\n",
              "      <td>783</td>\n",
              "      <td>0</td>\n",
              "      <td>DM0-200</td>\n",
              "      <td>12</td>\n",
              "      <td>good</td>\n",
              "      <td>edu</td>\n",
              "      <td>1410</td>\n",
              "      <td>DM0-100</td>\n",
              "      <td>1-7years</td>\n",
              "      <td>2</td>\n",
              "      <td>male</td>\n",
              "      <td>2</td>\n",
              "      <td>31</td>\n",
              "      <td>own</td>\n",
              "      <td>1</td>\n",
              "      <td>1</td>\n",
              "      <td>yes</td>\n",
              "      <td>foreign</td>\n",
              "    </tr>\n",
              "    <tr>\n",
              "      <th>...</th>\n",
              "      <td>...</td>\n",
              "      <td>...</td>\n",
              "      <td>...</td>\n",
              "      <td>...</td>\n",
              "      <td>...</td>\n",
              "      <td>...</td>\n",
              "      <td>...</td>\n",
              "      <td>...</td>\n",
              "      <td>...</td>\n",
              "      <td>...</td>\n",
              "      <td>...</td>\n",
              "      <td>...</td>\n",
              "      <td>...</td>\n",
              "      <td>...</td>\n",
              "      <td>...</td>\n",
              "      <td>...</td>\n",
              "      <td>...</td>\n",
              "      <td>...</td>\n",
              "    </tr>\n",
              "    <tr>\n",
              "      <th>490</th>\n",
              "      <td>491</td>\n",
              "      <td>0</td>\n",
              "      <td>NoAccount</td>\n",
              "      <td>12</td>\n",
              "      <td>terrible</td>\n",
              "      <td>goods/repair</td>\n",
              "      <td>1934</td>\n",
              "      <td>DM0-100</td>\n",
              "      <td>7+years</td>\n",
              "      <td>2</td>\n",
              "      <td>male</td>\n",
              "      <td>2</td>\n",
              "      <td>26</td>\n",
              "      <td>own</td>\n",
              "      <td>2</td>\n",
              "      <td>1</td>\n",
              "      <td>no</td>\n",
              "      <td>foreign</td>\n",
              "    </tr>\n",
              "    <tr>\n",
              "      <th>484</th>\n",
              "      <td>485</td>\n",
              "      <td>0</td>\n",
              "      <td>NoAccount</td>\n",
              "      <td>12</td>\n",
              "      <td>terrible</td>\n",
              "      <td>newcar</td>\n",
              "      <td>1163</td>\n",
              "      <td>DM100-1000</td>\n",
              "      <td>1-7years</td>\n",
              "      <td>4</td>\n",
              "      <td>male</td>\n",
              "      <td>4</td>\n",
              "      <td>44</td>\n",
              "      <td>own</td>\n",
              "      <td>1</td>\n",
              "      <td>1</td>\n",
              "      <td>yes</td>\n",
              "      <td>foreign</td>\n",
              "    </tr>\n",
              "    <tr>\n",
              "      <th>480</th>\n",
              "      <td>481</td>\n",
              "      <td>0</td>\n",
              "      <td>DM0-200</td>\n",
              "      <td>12</td>\n",
              "      <td>terrible</td>\n",
              "      <td>goods/repair</td>\n",
              "      <td>3573</td>\n",
              "      <td>DM0-100</td>\n",
              "      <td>1-7years</td>\n",
              "      <td>1</td>\n",
              "      <td>female</td>\n",
              "      <td>1</td>\n",
              "      <td>23</td>\n",
              "      <td>own</td>\n",
              "      <td>1</td>\n",
              "      <td>1</td>\n",
              "      <td>no</td>\n",
              "      <td>foreign</td>\n",
              "    </tr>\n",
              "    <tr>\n",
              "      <th>372</th>\n",
              "      <td>373</td>\n",
              "      <td>0</td>\n",
              "      <td>NoAccount</td>\n",
              "      <td>10</td>\n",
              "      <td>terrible</td>\n",
              "      <td>goods/repair</td>\n",
              "      <td>2146</td>\n",
              "      <td>DM0-100</td>\n",
              "      <td>0-1year</td>\n",
              "      <td>1</td>\n",
              "      <td>female</td>\n",
              "      <td>3</td>\n",
              "      <td>23</td>\n",
              "      <td>rent</td>\n",
              "      <td>2</td>\n",
              "      <td>1</td>\n",
              "      <td>no</td>\n",
              "      <td>foreign</td>\n",
              "    </tr>\n",
              "    <tr>\n",
              "      <th>999</th>\n",
              "      <td>1000</td>\n",
              "      <td>0</td>\n",
              "      <td>DM0-200</td>\n",
              "      <td>45</td>\n",
              "      <td>terrible</td>\n",
              "      <td>usedcar</td>\n",
              "      <td>4576</td>\n",
              "      <td>DM100-1000</td>\n",
              "      <td>unemployed</td>\n",
              "      <td>3</td>\n",
              "      <td>male</td>\n",
              "      <td>4</td>\n",
              "      <td>27</td>\n",
              "      <td>own</td>\n",
              "      <td>1</td>\n",
              "      <td>1</td>\n",
              "      <td>no</td>\n",
              "      <td>foreign</td>\n",
              "    </tr>\n",
              "  </tbody>\n",
              "</table>\n",
              "<p>1000 rows × 18 columns</p>\n",
              "</div>\n",
              "      <button class=\"colab-df-convert\" onclick=\"convertToInteractive('df-79792c0e-373e-439c-b136-c2b17b8acd1e')\"\n",
              "              title=\"Convert this dataframe to an interactive table.\"\n",
              "              style=\"display:none;\">\n",
              "        \n",
              "  <svg xmlns=\"http://www.w3.org/2000/svg\" height=\"24px\"viewBox=\"0 0 24 24\"\n",
              "       width=\"24px\">\n",
              "    <path d=\"M0 0h24v24H0V0z\" fill=\"none\"/>\n",
              "    <path d=\"M18.56 5.44l.94 2.06.94-2.06 2.06-.94-2.06-.94-.94-2.06-.94 2.06-2.06.94zm-11 1L8.5 8.5l.94-2.06 2.06-.94-2.06-.94L8.5 2.5l-.94 2.06-2.06.94zm10 10l.94 2.06.94-2.06 2.06-.94-2.06-.94-.94-2.06-.94 2.06-2.06.94z\"/><path d=\"M17.41 7.96l-1.37-1.37c-.4-.4-.92-.59-1.43-.59-.52 0-1.04.2-1.43.59L10.3 9.45l-7.72 7.72c-.78.78-.78 2.05 0 2.83L4 21.41c.39.39.9.59 1.41.59.51 0 1.02-.2 1.41-.59l7.78-7.78 2.81-2.81c.8-.78.8-2.07 0-2.86zM5.41 20L4 18.59l7.72-7.72 1.47 1.35L5.41 20z\"/>\n",
              "  </svg>\n",
              "      </button>\n",
              "      \n",
              "  <style>\n",
              "    .colab-df-container {\n",
              "      display:flex;\n",
              "      flex-wrap:wrap;\n",
              "      gap: 12px;\n",
              "    }\n",
              "\n",
              "    .colab-df-convert {\n",
              "      background-color: #E8F0FE;\n",
              "      border: none;\n",
              "      border-radius: 50%;\n",
              "      cursor: pointer;\n",
              "      display: none;\n",
              "      fill: #1967D2;\n",
              "      height: 32px;\n",
              "      padding: 0 0 0 0;\n",
              "      width: 32px;\n",
              "    }\n",
              "\n",
              "    .colab-df-convert:hover {\n",
              "      background-color: #E2EBFA;\n",
              "      box-shadow: 0px 1px 2px rgba(60, 64, 67, 0.3), 0px 1px 3px 1px rgba(60, 64, 67, 0.15);\n",
              "      fill: #174EA6;\n",
              "    }\n",
              "\n",
              "    [theme=dark] .colab-df-convert {\n",
              "      background-color: #3B4455;\n",
              "      fill: #D2E3FC;\n",
              "    }\n",
              "\n",
              "    [theme=dark] .colab-df-convert:hover {\n",
              "      background-color: #434B5C;\n",
              "      box-shadow: 0px 1px 3px 1px rgba(0, 0, 0, 0.15);\n",
              "      filter: drop-shadow(0px 1px 2px rgba(0, 0, 0, 0.3));\n",
              "      fill: #FFFFFF;\n",
              "    }\n",
              "  </style>\n",
              "\n",
              "      <script>\n",
              "        const buttonEl =\n",
              "          document.querySelector('#df-79792c0e-373e-439c-b136-c2b17b8acd1e button.colab-df-convert');\n",
              "        buttonEl.style.display =\n",
              "          google.colab.kernel.accessAllowed ? 'block' : 'none';\n",
              "\n",
              "        async function convertToInteractive(key) {\n",
              "          const element = document.querySelector('#df-79792c0e-373e-439c-b136-c2b17b8acd1e');\n",
              "          const dataTable =\n",
              "            await google.colab.kernel.invokeFunction('convertToInteractive',\n",
              "                                                     [key], {});\n",
              "          if (!dataTable) return;\n",
              "\n",
              "          const docLinkHtml = 'Like what you see? Visit the ' +\n",
              "            '<a target=\"_blank\" href=https://colab.research.google.com/notebooks/data_table.ipynb>data table notebook</a>'\n",
              "            + ' to learn more about interactive tables.';\n",
              "          element.innerHTML = '';\n",
              "          dataTable['output_type'] = 'display_data';\n",
              "          await google.colab.output.renderOutput(dataTable, element);\n",
              "          const docLink = document.createElement('div');\n",
              "          docLink.innerHTML = docLinkHtml;\n",
              "          element.appendChild(docLink);\n",
              "        }\n",
              "      </script>\n",
              "    </div>\n",
              "  </div>\n",
              "  "
            ]
          },
          "metadata": {},
          "execution_count": 7
        }
      ]
    },
    {
      "cell_type": "code",
      "source": [
        "#The first thing to do when opening a new dataset is print out a\n",
        "#few rows to keep as a visual reference. We accomplish this\n",
        "#with .head():\n",
        "d.head()"
      ],
      "metadata": {
        "id": "bT3CPh8QoytE",
        "colab": {
          "base_uri": "https://localhost:8080/",
          "height": 374
        },
        "outputId": "59c928a6-9b02-4c22-aded-03e46d834fe8"
      },
      "execution_count": null,
      "outputs": [
        {
          "output_type": "execute_result",
          "data": {
            "text/plain": [
              "   Unnamed: 0  Default checkingstatus1  duration   history       purpose  \\\n",
              "0           1        0            <DM0         6  terrible  goods/repair   \n",
              "1           2        1         DM0-200        48      poor  goods/repair   \n",
              "2           3        0       NoAccount        12  terrible           edu   \n",
              "3           4        0            <DM0        42      poor  goods/repair   \n",
              "4           5        1            <DM0        24      poor        newcar   \n",
              "\n",
              "   amount  savings    employ  installment     sex  residence  age  housing  \\\n",
              "0    1169  DM0-100   7+years            4    male          4   67      own   \n",
              "1    5951  DM0-100  1-7years            2  female          2   22      own   \n",
              "2    2096  DM0-100  1-7years            2    male          3   49      own   \n",
              "3    7882  DM0-100  1-7years            2    male          4   45  forfree   \n",
              "4    4870  DM0-100  1-7years            3    male          4   53  forfree   \n",
              "\n",
              "   cards  liable tele  foreign  \n",
              "0      2       1  yes  foreign  \n",
              "1      1       1   no  foreign  \n",
              "2      1       2   no  foreign  \n",
              "3      1       2   no  foreign  \n",
              "4      2       2   no  foreign  "
            ],
            "text/html": [
              "\n",
              "  <div id=\"df-dab61bc2-4603-44c8-b173-12b32ecc9d1b\">\n",
              "    <div class=\"colab-df-container\">\n",
              "      <div>\n",
              "<style scoped>\n",
              "    .dataframe tbody tr th:only-of-type {\n",
              "        vertical-align: middle;\n",
              "    }\n",
              "\n",
              "    .dataframe tbody tr th {\n",
              "        vertical-align: top;\n",
              "    }\n",
              "\n",
              "    .dataframe thead th {\n",
              "        text-align: right;\n",
              "    }\n",
              "</style>\n",
              "<table border=\"1\" class=\"dataframe\">\n",
              "  <thead>\n",
              "    <tr style=\"text-align: right;\">\n",
              "      <th></th>\n",
              "      <th>Unnamed: 0</th>\n",
              "      <th>Default</th>\n",
              "      <th>checkingstatus1</th>\n",
              "      <th>duration</th>\n",
              "      <th>history</th>\n",
              "      <th>purpose</th>\n",
              "      <th>amount</th>\n",
              "      <th>savings</th>\n",
              "      <th>employ</th>\n",
              "      <th>installment</th>\n",
              "      <th>sex</th>\n",
              "      <th>residence</th>\n",
              "      <th>age</th>\n",
              "      <th>housing</th>\n",
              "      <th>cards</th>\n",
              "      <th>liable</th>\n",
              "      <th>tele</th>\n",
              "      <th>foreign</th>\n",
              "    </tr>\n",
              "  </thead>\n",
              "  <tbody>\n",
              "    <tr>\n",
              "      <th>0</th>\n",
              "      <td>1</td>\n",
              "      <td>0</td>\n",
              "      <td>&lt;DM0</td>\n",
              "      <td>6</td>\n",
              "      <td>terrible</td>\n",
              "      <td>goods/repair</td>\n",
              "      <td>1169</td>\n",
              "      <td>DM0-100</td>\n",
              "      <td>7+years</td>\n",
              "      <td>4</td>\n",
              "      <td>male</td>\n",
              "      <td>4</td>\n",
              "      <td>67</td>\n",
              "      <td>own</td>\n",
              "      <td>2</td>\n",
              "      <td>1</td>\n",
              "      <td>yes</td>\n",
              "      <td>foreign</td>\n",
              "    </tr>\n",
              "    <tr>\n",
              "      <th>1</th>\n",
              "      <td>2</td>\n",
              "      <td>1</td>\n",
              "      <td>DM0-200</td>\n",
              "      <td>48</td>\n",
              "      <td>poor</td>\n",
              "      <td>goods/repair</td>\n",
              "      <td>5951</td>\n",
              "      <td>DM0-100</td>\n",
              "      <td>1-7years</td>\n",
              "      <td>2</td>\n",
              "      <td>female</td>\n",
              "      <td>2</td>\n",
              "      <td>22</td>\n",
              "      <td>own</td>\n",
              "      <td>1</td>\n",
              "      <td>1</td>\n",
              "      <td>no</td>\n",
              "      <td>foreign</td>\n",
              "    </tr>\n",
              "    <tr>\n",
              "      <th>2</th>\n",
              "      <td>3</td>\n",
              "      <td>0</td>\n",
              "      <td>NoAccount</td>\n",
              "      <td>12</td>\n",
              "      <td>terrible</td>\n",
              "      <td>edu</td>\n",
              "      <td>2096</td>\n",
              "      <td>DM0-100</td>\n",
              "      <td>1-7years</td>\n",
              "      <td>2</td>\n",
              "      <td>male</td>\n",
              "      <td>3</td>\n",
              "      <td>49</td>\n",
              "      <td>own</td>\n",
              "      <td>1</td>\n",
              "      <td>2</td>\n",
              "      <td>no</td>\n",
              "      <td>foreign</td>\n",
              "    </tr>\n",
              "    <tr>\n",
              "      <th>3</th>\n",
              "      <td>4</td>\n",
              "      <td>0</td>\n",
              "      <td>&lt;DM0</td>\n",
              "      <td>42</td>\n",
              "      <td>poor</td>\n",
              "      <td>goods/repair</td>\n",
              "      <td>7882</td>\n",
              "      <td>DM0-100</td>\n",
              "      <td>1-7years</td>\n",
              "      <td>2</td>\n",
              "      <td>male</td>\n",
              "      <td>4</td>\n",
              "      <td>45</td>\n",
              "      <td>forfree</td>\n",
              "      <td>1</td>\n",
              "      <td>2</td>\n",
              "      <td>no</td>\n",
              "      <td>foreign</td>\n",
              "    </tr>\n",
              "    <tr>\n",
              "      <th>4</th>\n",
              "      <td>5</td>\n",
              "      <td>1</td>\n",
              "      <td>&lt;DM0</td>\n",
              "      <td>24</td>\n",
              "      <td>poor</td>\n",
              "      <td>newcar</td>\n",
              "      <td>4870</td>\n",
              "      <td>DM0-100</td>\n",
              "      <td>1-7years</td>\n",
              "      <td>3</td>\n",
              "      <td>male</td>\n",
              "      <td>4</td>\n",
              "      <td>53</td>\n",
              "      <td>forfree</td>\n",
              "      <td>2</td>\n",
              "      <td>2</td>\n",
              "      <td>no</td>\n",
              "      <td>foreign</td>\n",
              "    </tr>\n",
              "  </tbody>\n",
              "</table>\n",
              "</div>\n",
              "      <button class=\"colab-df-convert\" onclick=\"convertToInteractive('df-dab61bc2-4603-44c8-b173-12b32ecc9d1b')\"\n",
              "              title=\"Convert this dataframe to an interactive table.\"\n",
              "              style=\"display:none;\">\n",
              "        \n",
              "  <svg xmlns=\"http://www.w3.org/2000/svg\" height=\"24px\"viewBox=\"0 0 24 24\"\n",
              "       width=\"24px\">\n",
              "    <path d=\"M0 0h24v24H0V0z\" fill=\"none\"/>\n",
              "    <path d=\"M18.56 5.44l.94 2.06.94-2.06 2.06-.94-2.06-.94-.94-2.06-.94 2.06-2.06.94zm-11 1L8.5 8.5l.94-2.06 2.06-.94-2.06-.94L8.5 2.5l-.94 2.06-2.06.94zm10 10l.94 2.06.94-2.06 2.06-.94-2.06-.94-.94-2.06-.94 2.06-2.06.94z\"/><path d=\"M17.41 7.96l-1.37-1.37c-.4-.4-.92-.59-1.43-.59-.52 0-1.04.2-1.43.59L10.3 9.45l-7.72 7.72c-.78.78-.78 2.05 0 2.83L4 21.41c.39.39.9.59 1.41.59.51 0 1.02-.2 1.41-.59l7.78-7.78 2.81-2.81c.8-.78.8-2.07 0-2.86zM5.41 20L4 18.59l7.72-7.72 1.47 1.35L5.41 20z\"/>\n",
              "  </svg>\n",
              "      </button>\n",
              "      \n",
              "  <style>\n",
              "    .colab-df-container {\n",
              "      display:flex;\n",
              "      flex-wrap:wrap;\n",
              "      gap: 12px;\n",
              "    }\n",
              "\n",
              "    .colab-df-convert {\n",
              "      background-color: #E8F0FE;\n",
              "      border: none;\n",
              "      border-radius: 50%;\n",
              "      cursor: pointer;\n",
              "      display: none;\n",
              "      fill: #1967D2;\n",
              "      height: 32px;\n",
              "      padding: 0 0 0 0;\n",
              "      width: 32px;\n",
              "    }\n",
              "\n",
              "    .colab-df-convert:hover {\n",
              "      background-color: #E2EBFA;\n",
              "      box-shadow: 0px 1px 2px rgba(60, 64, 67, 0.3), 0px 1px 3px 1px rgba(60, 64, 67, 0.15);\n",
              "      fill: #174EA6;\n",
              "    }\n",
              "\n",
              "    [theme=dark] .colab-df-convert {\n",
              "      background-color: #3B4455;\n",
              "      fill: #D2E3FC;\n",
              "    }\n",
              "\n",
              "    [theme=dark] .colab-df-convert:hover {\n",
              "      background-color: #434B5C;\n",
              "      box-shadow: 0px 1px 3px 1px rgba(0, 0, 0, 0.15);\n",
              "      filter: drop-shadow(0px 1px 2px rgba(0, 0, 0, 0.3));\n",
              "      fill: #FFFFFF;\n",
              "    }\n",
              "  </style>\n",
              "\n",
              "      <script>\n",
              "        const buttonEl =\n",
              "          document.querySelector('#df-dab61bc2-4603-44c8-b173-12b32ecc9d1b button.colab-df-convert');\n",
              "        buttonEl.style.display =\n",
              "          google.colab.kernel.accessAllowed ? 'block' : 'none';\n",
              "\n",
              "        async function convertToInteractive(key) {\n",
              "          const element = document.querySelector('#df-dab61bc2-4603-44c8-b173-12b32ecc9d1b');\n",
              "          const dataTable =\n",
              "            await google.colab.kernel.invokeFunction('convertToInteractive',\n",
              "                                                     [key], {});\n",
              "          if (!dataTable) return;\n",
              "\n",
              "          const docLinkHtml = 'Like what you see? Visit the ' +\n",
              "            '<a target=\"_blank\" href=https://colab.research.google.com/notebooks/data_table.ipynb>data table notebook</a>'\n",
              "            + ' to learn more about interactive tables.';\n",
              "          element.innerHTML = '';\n",
              "          dataTable['output_type'] = 'display_data';\n",
              "          await google.colab.output.renderOutput(dataTable, element);\n",
              "          const docLink = document.createElement('div');\n",
              "          docLink.innerHTML = docLinkHtml;\n",
              "          element.appendChild(docLink);\n",
              "        }\n",
              "      </script>\n",
              "    </div>\n",
              "  </div>\n",
              "  "
            ]
          },
          "metadata": {},
          "execution_count": 11
        }
      ]
    },
    {
      "cell_type": "code",
      "source": [
        "d.head(2)"
      ],
      "metadata": {
        "id": "v3sb-n4ApHpp",
        "colab": {
          "base_uri": "https://localhost:8080/",
          "height": 228
        },
        "outputId": "d9c22366-f029-41ac-f58a-db98d259afdf"
      },
      "execution_count": null,
      "outputs": [
        {
          "output_type": "execute_result",
          "data": {
            "text/plain": [
              "   Unnamed: 0  Default checkingstatus1  duration   history       purpose  \\\n",
              "0           1        0            <DM0         6  terrible  goods/repair   \n",
              "1           2        1         DM0-200        48      poor  goods/repair   \n",
              "\n",
              "   amount  savings    employ  installment     sex  residence  age housing  \\\n",
              "0    1169  DM0-100   7+years            4    male          4   67     own   \n",
              "1    5951  DM0-100  1-7years            2  female          2   22     own   \n",
              "\n",
              "   cards  liable tele  foreign  \n",
              "0      2       1  yes  foreign  \n",
              "1      1       1   no  foreign  "
            ],
            "text/html": [
              "\n",
              "  <div id=\"df-495847cf-a670-4f9d-8d4d-f02a4f89d9ee\">\n",
              "    <div class=\"colab-df-container\">\n",
              "      <div>\n",
              "<style scoped>\n",
              "    .dataframe tbody tr th:only-of-type {\n",
              "        vertical-align: middle;\n",
              "    }\n",
              "\n",
              "    .dataframe tbody tr th {\n",
              "        vertical-align: top;\n",
              "    }\n",
              "\n",
              "    .dataframe thead th {\n",
              "        text-align: right;\n",
              "    }\n",
              "</style>\n",
              "<table border=\"1\" class=\"dataframe\">\n",
              "  <thead>\n",
              "    <tr style=\"text-align: right;\">\n",
              "      <th></th>\n",
              "      <th>Unnamed: 0</th>\n",
              "      <th>Default</th>\n",
              "      <th>checkingstatus1</th>\n",
              "      <th>duration</th>\n",
              "      <th>history</th>\n",
              "      <th>purpose</th>\n",
              "      <th>amount</th>\n",
              "      <th>savings</th>\n",
              "      <th>employ</th>\n",
              "      <th>installment</th>\n",
              "      <th>sex</th>\n",
              "      <th>residence</th>\n",
              "      <th>age</th>\n",
              "      <th>housing</th>\n",
              "      <th>cards</th>\n",
              "      <th>liable</th>\n",
              "      <th>tele</th>\n",
              "      <th>foreign</th>\n",
              "    </tr>\n",
              "  </thead>\n",
              "  <tbody>\n",
              "    <tr>\n",
              "      <th>0</th>\n",
              "      <td>1</td>\n",
              "      <td>0</td>\n",
              "      <td>&lt;DM0</td>\n",
              "      <td>6</td>\n",
              "      <td>terrible</td>\n",
              "      <td>goods/repair</td>\n",
              "      <td>1169</td>\n",
              "      <td>DM0-100</td>\n",
              "      <td>7+years</td>\n",
              "      <td>4</td>\n",
              "      <td>male</td>\n",
              "      <td>4</td>\n",
              "      <td>67</td>\n",
              "      <td>own</td>\n",
              "      <td>2</td>\n",
              "      <td>1</td>\n",
              "      <td>yes</td>\n",
              "      <td>foreign</td>\n",
              "    </tr>\n",
              "    <tr>\n",
              "      <th>1</th>\n",
              "      <td>2</td>\n",
              "      <td>1</td>\n",
              "      <td>DM0-200</td>\n",
              "      <td>48</td>\n",
              "      <td>poor</td>\n",
              "      <td>goods/repair</td>\n",
              "      <td>5951</td>\n",
              "      <td>DM0-100</td>\n",
              "      <td>1-7years</td>\n",
              "      <td>2</td>\n",
              "      <td>female</td>\n",
              "      <td>2</td>\n",
              "      <td>22</td>\n",
              "      <td>own</td>\n",
              "      <td>1</td>\n",
              "      <td>1</td>\n",
              "      <td>no</td>\n",
              "      <td>foreign</td>\n",
              "    </tr>\n",
              "  </tbody>\n",
              "</table>\n",
              "</div>\n",
              "      <button class=\"colab-df-convert\" onclick=\"convertToInteractive('df-495847cf-a670-4f9d-8d4d-f02a4f89d9ee')\"\n",
              "              title=\"Convert this dataframe to an interactive table.\"\n",
              "              style=\"display:none;\">\n",
              "        \n",
              "  <svg xmlns=\"http://www.w3.org/2000/svg\" height=\"24px\"viewBox=\"0 0 24 24\"\n",
              "       width=\"24px\">\n",
              "    <path d=\"M0 0h24v24H0V0z\" fill=\"none\"/>\n",
              "    <path d=\"M18.56 5.44l.94 2.06.94-2.06 2.06-.94-2.06-.94-.94-2.06-.94 2.06-2.06.94zm-11 1L8.5 8.5l.94-2.06 2.06-.94-2.06-.94L8.5 2.5l-.94 2.06-2.06.94zm10 10l.94 2.06.94-2.06 2.06-.94-2.06-.94-.94-2.06-.94 2.06-2.06.94z\"/><path d=\"M17.41 7.96l-1.37-1.37c-.4-.4-.92-.59-1.43-.59-.52 0-1.04.2-1.43.59L10.3 9.45l-7.72 7.72c-.78.78-.78 2.05 0 2.83L4 21.41c.39.39.9.59 1.41.59.51 0 1.02-.2 1.41-.59l7.78-7.78 2.81-2.81c.8-.78.8-2.07 0-2.86zM5.41 20L4 18.59l7.72-7.72 1.47 1.35L5.41 20z\"/>\n",
              "  </svg>\n",
              "      </button>\n",
              "      \n",
              "  <style>\n",
              "    .colab-df-container {\n",
              "      display:flex;\n",
              "      flex-wrap:wrap;\n",
              "      gap: 12px;\n",
              "    }\n",
              "\n",
              "    .colab-df-convert {\n",
              "      background-color: #E8F0FE;\n",
              "      border: none;\n",
              "      border-radius: 50%;\n",
              "      cursor: pointer;\n",
              "      display: none;\n",
              "      fill: #1967D2;\n",
              "      height: 32px;\n",
              "      padding: 0 0 0 0;\n",
              "      width: 32px;\n",
              "    }\n",
              "\n",
              "    .colab-df-convert:hover {\n",
              "      background-color: #E2EBFA;\n",
              "      box-shadow: 0px 1px 2px rgba(60, 64, 67, 0.3), 0px 1px 3px 1px rgba(60, 64, 67, 0.15);\n",
              "      fill: #174EA6;\n",
              "    }\n",
              "\n",
              "    [theme=dark] .colab-df-convert {\n",
              "      background-color: #3B4455;\n",
              "      fill: #D2E3FC;\n",
              "    }\n",
              "\n",
              "    [theme=dark] .colab-df-convert:hover {\n",
              "      background-color: #434B5C;\n",
              "      box-shadow: 0px 1px 3px 1px rgba(0, 0, 0, 0.15);\n",
              "      filter: drop-shadow(0px 1px 2px rgba(0, 0, 0, 0.3));\n",
              "      fill: #FFFFFF;\n",
              "    }\n",
              "  </style>\n",
              "\n",
              "      <script>\n",
              "        const buttonEl =\n",
              "          document.querySelector('#df-495847cf-a670-4f9d-8d4d-f02a4f89d9ee button.colab-df-convert');\n",
              "        buttonEl.style.display =\n",
              "          google.colab.kernel.accessAllowed ? 'block' : 'none';\n",
              "\n",
              "        async function convertToInteractive(key) {\n",
              "          const element = document.querySelector('#df-495847cf-a670-4f9d-8d4d-f02a4f89d9ee');\n",
              "          const dataTable =\n",
              "            await google.colab.kernel.invokeFunction('convertToInteractive',\n",
              "                                                     [key], {});\n",
              "          if (!dataTable) return;\n",
              "\n",
              "          const docLinkHtml = 'Like what you see? Visit the ' +\n",
              "            '<a target=\"_blank\" href=https://colab.research.google.com/notebooks/data_table.ipynb>data table notebook</a>'\n",
              "            + ' to learn more about interactive tables.';\n",
              "          element.innerHTML = '';\n",
              "          dataTable['output_type'] = 'display_data';\n",
              "          await google.colab.output.renderOutput(dataTable, element);\n",
              "          const docLink = document.createElement('div');\n",
              "          docLink.innerHTML = docLinkHtml;\n",
              "          element.appendChild(docLink);\n",
              "        }\n",
              "      </script>\n",
              "    </div>\n",
              "  </div>\n",
              "  "
            ]
          },
          "metadata": {},
          "execution_count": 12
        }
      ]
    },
    {
      "cell_type": "code",
      "source": [
        "d.tail(3)"
      ],
      "metadata": {
        "id": "KBufLRZHpKnz",
        "colab": {
          "base_uri": "https://localhost:8080/",
          "height": 277
        },
        "outputId": "9f2d6614-4d6b-485d-9b19-a72e19a0f74e"
      },
      "execution_count": null,
      "outputs": [
        {
          "output_type": "execute_result",
          "data": {
            "text/plain": [
              "     Unnamed: 0  Default checkingstatus1  duration   history       purpose  \\\n",
              "997         998        0       NoAccount        12      poor  goods/repair   \n",
              "998         999        1            <DM0        45      poor  goods/repair   \n",
              "999        1000        0         DM0-200        45  terrible       usedcar   \n",
              "\n",
              "     amount     savings      employ  installment   sex  residence  age  \\\n",
              "997     804     DM0-100     7+years            4  male          4   38   \n",
              "998    1845     DM0-100    1-7years            4  male          4   23   \n",
              "999    4576  DM100-1000  unemployed            3  male          4   27   \n",
              "\n",
              "     housing  cards  liable tele  foreign  \n",
              "997      own      1       1   no  foreign  \n",
              "998  forfree      1       1  yes  foreign  \n",
              "999      own      1       1   no  foreign  "
            ],
            "text/html": [
              "\n",
              "  <div id=\"df-6a528d21-5ce2-419b-b5a8-83bea4927b8c\">\n",
              "    <div class=\"colab-df-container\">\n",
              "      <div>\n",
              "<style scoped>\n",
              "    .dataframe tbody tr th:only-of-type {\n",
              "        vertical-align: middle;\n",
              "    }\n",
              "\n",
              "    .dataframe tbody tr th {\n",
              "        vertical-align: top;\n",
              "    }\n",
              "\n",
              "    .dataframe thead th {\n",
              "        text-align: right;\n",
              "    }\n",
              "</style>\n",
              "<table border=\"1\" class=\"dataframe\">\n",
              "  <thead>\n",
              "    <tr style=\"text-align: right;\">\n",
              "      <th></th>\n",
              "      <th>Unnamed: 0</th>\n",
              "      <th>Default</th>\n",
              "      <th>checkingstatus1</th>\n",
              "      <th>duration</th>\n",
              "      <th>history</th>\n",
              "      <th>purpose</th>\n",
              "      <th>amount</th>\n",
              "      <th>savings</th>\n",
              "      <th>employ</th>\n",
              "      <th>installment</th>\n",
              "      <th>sex</th>\n",
              "      <th>residence</th>\n",
              "      <th>age</th>\n",
              "      <th>housing</th>\n",
              "      <th>cards</th>\n",
              "      <th>liable</th>\n",
              "      <th>tele</th>\n",
              "      <th>foreign</th>\n",
              "    </tr>\n",
              "  </thead>\n",
              "  <tbody>\n",
              "    <tr>\n",
              "      <th>997</th>\n",
              "      <td>998</td>\n",
              "      <td>0</td>\n",
              "      <td>NoAccount</td>\n",
              "      <td>12</td>\n",
              "      <td>poor</td>\n",
              "      <td>goods/repair</td>\n",
              "      <td>804</td>\n",
              "      <td>DM0-100</td>\n",
              "      <td>7+years</td>\n",
              "      <td>4</td>\n",
              "      <td>male</td>\n",
              "      <td>4</td>\n",
              "      <td>38</td>\n",
              "      <td>own</td>\n",
              "      <td>1</td>\n",
              "      <td>1</td>\n",
              "      <td>no</td>\n",
              "      <td>foreign</td>\n",
              "    </tr>\n",
              "    <tr>\n",
              "      <th>998</th>\n",
              "      <td>999</td>\n",
              "      <td>1</td>\n",
              "      <td>&lt;DM0</td>\n",
              "      <td>45</td>\n",
              "      <td>poor</td>\n",
              "      <td>goods/repair</td>\n",
              "      <td>1845</td>\n",
              "      <td>DM0-100</td>\n",
              "      <td>1-7years</td>\n",
              "      <td>4</td>\n",
              "      <td>male</td>\n",
              "      <td>4</td>\n",
              "      <td>23</td>\n",
              "      <td>forfree</td>\n",
              "      <td>1</td>\n",
              "      <td>1</td>\n",
              "      <td>yes</td>\n",
              "      <td>foreign</td>\n",
              "    </tr>\n",
              "    <tr>\n",
              "      <th>999</th>\n",
              "      <td>1000</td>\n",
              "      <td>0</td>\n",
              "      <td>DM0-200</td>\n",
              "      <td>45</td>\n",
              "      <td>terrible</td>\n",
              "      <td>usedcar</td>\n",
              "      <td>4576</td>\n",
              "      <td>DM100-1000</td>\n",
              "      <td>unemployed</td>\n",
              "      <td>3</td>\n",
              "      <td>male</td>\n",
              "      <td>4</td>\n",
              "      <td>27</td>\n",
              "      <td>own</td>\n",
              "      <td>1</td>\n",
              "      <td>1</td>\n",
              "      <td>no</td>\n",
              "      <td>foreign</td>\n",
              "    </tr>\n",
              "  </tbody>\n",
              "</table>\n",
              "</div>\n",
              "      <button class=\"colab-df-convert\" onclick=\"convertToInteractive('df-6a528d21-5ce2-419b-b5a8-83bea4927b8c')\"\n",
              "              title=\"Convert this dataframe to an interactive table.\"\n",
              "              style=\"display:none;\">\n",
              "        \n",
              "  <svg xmlns=\"http://www.w3.org/2000/svg\" height=\"24px\"viewBox=\"0 0 24 24\"\n",
              "       width=\"24px\">\n",
              "    <path d=\"M0 0h24v24H0V0z\" fill=\"none\"/>\n",
              "    <path d=\"M18.56 5.44l.94 2.06.94-2.06 2.06-.94-2.06-.94-.94-2.06-.94 2.06-2.06.94zm-11 1L8.5 8.5l.94-2.06 2.06-.94-2.06-.94L8.5 2.5l-.94 2.06-2.06.94zm10 10l.94 2.06.94-2.06 2.06-.94-2.06-.94-.94-2.06-.94 2.06-2.06.94z\"/><path d=\"M17.41 7.96l-1.37-1.37c-.4-.4-.92-.59-1.43-.59-.52 0-1.04.2-1.43.59L10.3 9.45l-7.72 7.72c-.78.78-.78 2.05 0 2.83L4 21.41c.39.39.9.59 1.41.59.51 0 1.02-.2 1.41-.59l7.78-7.78 2.81-2.81c.8-.78.8-2.07 0-2.86zM5.41 20L4 18.59l7.72-7.72 1.47 1.35L5.41 20z\"/>\n",
              "  </svg>\n",
              "      </button>\n",
              "      \n",
              "  <style>\n",
              "    .colab-df-container {\n",
              "      display:flex;\n",
              "      flex-wrap:wrap;\n",
              "      gap: 12px;\n",
              "    }\n",
              "\n",
              "    .colab-df-convert {\n",
              "      background-color: #E8F0FE;\n",
              "      border: none;\n",
              "      border-radius: 50%;\n",
              "      cursor: pointer;\n",
              "      display: none;\n",
              "      fill: #1967D2;\n",
              "      height: 32px;\n",
              "      padding: 0 0 0 0;\n",
              "      width: 32px;\n",
              "    }\n",
              "\n",
              "    .colab-df-convert:hover {\n",
              "      background-color: #E2EBFA;\n",
              "      box-shadow: 0px 1px 2px rgba(60, 64, 67, 0.3), 0px 1px 3px 1px rgba(60, 64, 67, 0.15);\n",
              "      fill: #174EA6;\n",
              "    }\n",
              "\n",
              "    [theme=dark] .colab-df-convert {\n",
              "      background-color: #3B4455;\n",
              "      fill: #D2E3FC;\n",
              "    }\n",
              "\n",
              "    [theme=dark] .colab-df-convert:hover {\n",
              "      background-color: #434B5C;\n",
              "      box-shadow: 0px 1px 3px 1px rgba(0, 0, 0, 0.15);\n",
              "      filter: drop-shadow(0px 1px 2px rgba(0, 0, 0, 0.3));\n",
              "      fill: #FFFFFF;\n",
              "    }\n",
              "  </style>\n",
              "\n",
              "      <script>\n",
              "        const buttonEl =\n",
              "          document.querySelector('#df-6a528d21-5ce2-419b-b5a8-83bea4927b8c button.colab-df-convert');\n",
              "        buttonEl.style.display =\n",
              "          google.colab.kernel.accessAllowed ? 'block' : 'none';\n",
              "\n",
              "        async function convertToInteractive(key) {\n",
              "          const element = document.querySelector('#df-6a528d21-5ce2-419b-b5a8-83bea4927b8c');\n",
              "          const dataTable =\n",
              "            await google.colab.kernel.invokeFunction('convertToInteractive',\n",
              "                                                     [key], {});\n",
              "          if (!dataTable) return;\n",
              "\n",
              "          const docLinkHtml = 'Like what you see? Visit the ' +\n",
              "            '<a target=\"_blank\" href=https://colab.research.google.com/notebooks/data_table.ipynb>data table notebook</a>'\n",
              "            + ' to learn more about interactive tables.';\n",
              "          element.innerHTML = '';\n",
              "          dataTable['output_type'] = 'display_data';\n",
              "          await google.colab.output.renderOutput(dataTable, element);\n",
              "          const docLink = document.createElement('div');\n",
              "          docLink.innerHTML = docLinkHtml;\n",
              "          element.appendChild(docLink);\n",
              "        }\n",
              "      </script>\n",
              "    </div>\n",
              "  </div>\n",
              "  "
            ]
          },
          "metadata": {},
          "execution_count": 13
        }
      ]
    },
    {
      "cell_type": "code",
      "source": [
        "'''info() provides the essential details about your dataset, such\n",
        "as the number of rows and columns, the number of non-null\n",
        "values, what type of data is in each column, and how much\n",
        "memory your DataFrame is using\n",
        "'''\n",
        "d.info()"
      ],
      "metadata": {
        "id": "Rbo2ehBspOI_",
        "colab": {
          "base_uri": "https://localhost:8080/"
        },
        "outputId": "5ddcd006-3f1e-4dec-8a6a-48a5b91f6c95"
      },
      "execution_count": null,
      "outputs": [
        {
          "output_type": "stream",
          "name": "stdout",
          "text": [
            "<class 'pandas.core.frame.DataFrame'>\n",
            "RangeIndex: 1000 entries, 0 to 999\n",
            "Data columns (total 18 columns):\n",
            " #   Column           Non-Null Count  Dtype \n",
            "---  ------           --------------  ----- \n",
            " 0   Unnamed: 0       1000 non-null   int64 \n",
            " 1   Default          1000 non-null   int64 \n",
            " 2   checkingstatus1  1000 non-null   object\n",
            " 3   duration         1000 non-null   int64 \n",
            " 4   history          1000 non-null   object\n",
            " 5   purpose          1000 non-null   object\n",
            " 6   amount           1000 non-null   int64 \n",
            " 7   savings          1000 non-null   object\n",
            " 8   employ           1000 non-null   object\n",
            " 9   installment      1000 non-null   int64 \n",
            " 10  sex              1000 non-null   object\n",
            " 11  residence        1000 non-null   int64 \n",
            " 12  age              1000 non-null   int64 \n",
            " 13  housing          1000 non-null   object\n",
            " 14  cards            1000 non-null   int64 \n",
            " 15  liable           1000 non-null   int64 \n",
            " 16  tele             1000 non-null   object\n",
            " 17  foreign          1000 non-null   object\n",
            "dtypes: int64(9), object(9)\n",
            "memory usage: 140.8+ KB\n"
          ]
        }
      ]
    },
    {
      "cell_type": "code",
      "source": [
        "#Another fast and useful attribute is .shape, which outputs just\n",
        "#a tuple of (rows, columns)\n",
        "#shape has no parentheses and is a simple tuple of\n",
        "#format (rows, columns). So we have 1000 rows and 11\n",
        "#columns in our movies DataFrame.\n",
        "d.shape"
      ],
      "metadata": {
        "id": "RemHrsPNpoxn",
        "colab": {
          "base_uri": "https://localhost:8080/"
        },
        "outputId": "8f1d4865-b607-4195-f117-c1e9429b784f"
      },
      "execution_count": null,
      "outputs": [
        {
          "output_type": "execute_result",
          "data": {
            "text/plain": [
              "(1000, 18)"
            ]
          },
          "metadata": {},
          "execution_count": 21
        }
      ]
    },
    {
      "cell_type": "code",
      "source": [
        "'''\n",
        "Many times datasets will have verbose column names with\n",
        "symbols, upper and lowercase words, spaces, and types. To\n",
        "make selecting data by column name easier we can spend a\n",
        "little time cleaning up their names\n",
        "\n",
        "'''\n",
        "d.columns"
      ],
      "metadata": {
        "id": "rsjmEQ0-s53V"
      },
      "execution_count": null,
      "outputs": []
    },
    {
      "cell_type": "code",
      "source": [
        "d.describe()"
      ],
      "metadata": {
        "id": "2TYLGHZkteTY",
        "colab": {
          "base_uri": "https://localhost:8080/",
          "height": 364
        },
        "outputId": "8df11dd4-4445-4d97-dc58-97f47e8b8dd6"
      },
      "execution_count": null,
      "outputs": [
        {
          "output_type": "execute_result",
          "data": {
            "text/plain": [
              "        Unnamed: 0      Default     duration        amount  installment  \\\n",
              "count  1000.000000  1000.000000  1000.000000   1000.000000  1000.000000   \n",
              "mean    500.500000     0.300000    20.903000   3271.258000     2.973000   \n",
              "std     288.819436     0.458487    12.058814   2822.736876     1.118715   \n",
              "min       1.000000     0.000000     4.000000    250.000000     1.000000   \n",
              "25%     250.750000     0.000000    12.000000   1365.500000     2.000000   \n",
              "50%     500.500000     0.000000    18.000000   2319.500000     3.000000   \n",
              "75%     750.250000     1.000000    24.000000   3972.250000     4.000000   \n",
              "max    1000.000000     1.000000    72.000000  18424.000000     4.000000   \n",
              "\n",
              "         residence          age        cards       liable  \n",
              "count  1000.000000  1000.000000  1000.000000  1000.000000  \n",
              "mean      2.845000    35.546000     1.407000     1.155000  \n",
              "std       1.103718    11.375469     0.577654     0.362086  \n",
              "min       1.000000    19.000000     1.000000     1.000000  \n",
              "25%       2.000000    27.000000     1.000000     1.000000  \n",
              "50%       3.000000    33.000000     1.000000     1.000000  \n",
              "75%       4.000000    42.000000     2.000000     1.000000  \n",
              "max       4.000000    75.000000     4.000000     2.000000  "
            ],
            "text/html": [
              "\n",
              "  <div id=\"df-b9851b89-b56a-47c3-9a9b-204b8599cd38\">\n",
              "    <div class=\"colab-df-container\">\n",
              "      <div>\n",
              "<style scoped>\n",
              "    .dataframe tbody tr th:only-of-type {\n",
              "        vertical-align: middle;\n",
              "    }\n",
              "\n",
              "    .dataframe tbody tr th {\n",
              "        vertical-align: top;\n",
              "    }\n",
              "\n",
              "    .dataframe thead th {\n",
              "        text-align: right;\n",
              "    }\n",
              "</style>\n",
              "<table border=\"1\" class=\"dataframe\">\n",
              "  <thead>\n",
              "    <tr style=\"text-align: right;\">\n",
              "      <th></th>\n",
              "      <th>Unnamed: 0</th>\n",
              "      <th>Default</th>\n",
              "      <th>duration</th>\n",
              "      <th>amount</th>\n",
              "      <th>installment</th>\n",
              "      <th>residence</th>\n",
              "      <th>age</th>\n",
              "      <th>cards</th>\n",
              "      <th>liable</th>\n",
              "    </tr>\n",
              "  </thead>\n",
              "  <tbody>\n",
              "    <tr>\n",
              "      <th>count</th>\n",
              "      <td>1000.000000</td>\n",
              "      <td>1000.000000</td>\n",
              "      <td>1000.000000</td>\n",
              "      <td>1000.000000</td>\n",
              "      <td>1000.000000</td>\n",
              "      <td>1000.000000</td>\n",
              "      <td>1000.000000</td>\n",
              "      <td>1000.000000</td>\n",
              "      <td>1000.000000</td>\n",
              "    </tr>\n",
              "    <tr>\n",
              "      <th>mean</th>\n",
              "      <td>500.500000</td>\n",
              "      <td>0.300000</td>\n",
              "      <td>20.903000</td>\n",
              "      <td>3271.258000</td>\n",
              "      <td>2.973000</td>\n",
              "      <td>2.845000</td>\n",
              "      <td>35.546000</td>\n",
              "      <td>1.407000</td>\n",
              "      <td>1.155000</td>\n",
              "    </tr>\n",
              "    <tr>\n",
              "      <th>std</th>\n",
              "      <td>288.819436</td>\n",
              "      <td>0.458487</td>\n",
              "      <td>12.058814</td>\n",
              "      <td>2822.736876</td>\n",
              "      <td>1.118715</td>\n",
              "      <td>1.103718</td>\n",
              "      <td>11.375469</td>\n",
              "      <td>0.577654</td>\n",
              "      <td>0.362086</td>\n",
              "    </tr>\n",
              "    <tr>\n",
              "      <th>min</th>\n",
              "      <td>1.000000</td>\n",
              "      <td>0.000000</td>\n",
              "      <td>4.000000</td>\n",
              "      <td>250.000000</td>\n",
              "      <td>1.000000</td>\n",
              "      <td>1.000000</td>\n",
              "      <td>19.000000</td>\n",
              "      <td>1.000000</td>\n",
              "      <td>1.000000</td>\n",
              "    </tr>\n",
              "    <tr>\n",
              "      <th>25%</th>\n",
              "      <td>250.750000</td>\n",
              "      <td>0.000000</td>\n",
              "      <td>12.000000</td>\n",
              "      <td>1365.500000</td>\n",
              "      <td>2.000000</td>\n",
              "      <td>2.000000</td>\n",
              "      <td>27.000000</td>\n",
              "      <td>1.000000</td>\n",
              "      <td>1.000000</td>\n",
              "    </tr>\n",
              "    <tr>\n",
              "      <th>50%</th>\n",
              "      <td>500.500000</td>\n",
              "      <td>0.000000</td>\n",
              "      <td>18.000000</td>\n",
              "      <td>2319.500000</td>\n",
              "      <td>3.000000</td>\n",
              "      <td>3.000000</td>\n",
              "      <td>33.000000</td>\n",
              "      <td>1.000000</td>\n",
              "      <td>1.000000</td>\n",
              "    </tr>\n",
              "    <tr>\n",
              "      <th>75%</th>\n",
              "      <td>750.250000</td>\n",
              "      <td>1.000000</td>\n",
              "      <td>24.000000</td>\n",
              "      <td>3972.250000</td>\n",
              "      <td>4.000000</td>\n",
              "      <td>4.000000</td>\n",
              "      <td>42.000000</td>\n",
              "      <td>2.000000</td>\n",
              "      <td>1.000000</td>\n",
              "    </tr>\n",
              "    <tr>\n",
              "      <th>max</th>\n",
              "      <td>1000.000000</td>\n",
              "      <td>1.000000</td>\n",
              "      <td>72.000000</td>\n",
              "      <td>18424.000000</td>\n",
              "      <td>4.000000</td>\n",
              "      <td>4.000000</td>\n",
              "      <td>75.000000</td>\n",
              "      <td>4.000000</td>\n",
              "      <td>2.000000</td>\n",
              "    </tr>\n",
              "  </tbody>\n",
              "</table>\n",
              "</div>\n",
              "      <button class=\"colab-df-convert\" onclick=\"convertToInteractive('df-b9851b89-b56a-47c3-9a9b-204b8599cd38')\"\n",
              "              title=\"Convert this dataframe to an interactive table.\"\n",
              "              style=\"display:none;\">\n",
              "        \n",
              "  <svg xmlns=\"http://www.w3.org/2000/svg\" height=\"24px\"viewBox=\"0 0 24 24\"\n",
              "       width=\"24px\">\n",
              "    <path d=\"M0 0h24v24H0V0z\" fill=\"none\"/>\n",
              "    <path d=\"M18.56 5.44l.94 2.06.94-2.06 2.06-.94-2.06-.94-.94-2.06-.94 2.06-2.06.94zm-11 1L8.5 8.5l.94-2.06 2.06-.94-2.06-.94L8.5 2.5l-.94 2.06-2.06.94zm10 10l.94 2.06.94-2.06 2.06-.94-2.06-.94-.94-2.06-.94 2.06-2.06.94z\"/><path d=\"M17.41 7.96l-1.37-1.37c-.4-.4-.92-.59-1.43-.59-.52 0-1.04.2-1.43.59L10.3 9.45l-7.72 7.72c-.78.78-.78 2.05 0 2.83L4 21.41c.39.39.9.59 1.41.59.51 0 1.02-.2 1.41-.59l7.78-7.78 2.81-2.81c.8-.78.8-2.07 0-2.86zM5.41 20L4 18.59l7.72-7.72 1.47 1.35L5.41 20z\"/>\n",
              "  </svg>\n",
              "      </button>\n",
              "      \n",
              "  <style>\n",
              "    .colab-df-container {\n",
              "      display:flex;\n",
              "      flex-wrap:wrap;\n",
              "      gap: 12px;\n",
              "    }\n",
              "\n",
              "    .colab-df-convert {\n",
              "      background-color: #E8F0FE;\n",
              "      border: none;\n",
              "      border-radius: 50%;\n",
              "      cursor: pointer;\n",
              "      display: none;\n",
              "      fill: #1967D2;\n",
              "      height: 32px;\n",
              "      padding: 0 0 0 0;\n",
              "      width: 32px;\n",
              "    }\n",
              "\n",
              "    .colab-df-convert:hover {\n",
              "      background-color: #E2EBFA;\n",
              "      box-shadow: 0px 1px 2px rgba(60, 64, 67, 0.3), 0px 1px 3px 1px rgba(60, 64, 67, 0.15);\n",
              "      fill: #174EA6;\n",
              "    }\n",
              "\n",
              "    [theme=dark] .colab-df-convert {\n",
              "      background-color: #3B4455;\n",
              "      fill: #D2E3FC;\n",
              "    }\n",
              "\n",
              "    [theme=dark] .colab-df-convert:hover {\n",
              "      background-color: #434B5C;\n",
              "      box-shadow: 0px 1px 3px 1px rgba(0, 0, 0, 0.15);\n",
              "      filter: drop-shadow(0px 1px 2px rgba(0, 0, 0, 0.3));\n",
              "      fill: #FFFFFF;\n",
              "    }\n",
              "  </style>\n",
              "\n",
              "      <script>\n",
              "        const buttonEl =\n",
              "          document.querySelector('#df-b9851b89-b56a-47c3-9a9b-204b8599cd38 button.colab-df-convert');\n",
              "        buttonEl.style.display =\n",
              "          google.colab.kernel.accessAllowed ? 'block' : 'none';\n",
              "\n",
              "        async function convertToInteractive(key) {\n",
              "          const element = document.querySelector('#df-b9851b89-b56a-47c3-9a9b-204b8599cd38');\n",
              "          const dataTable =\n",
              "            await google.colab.kernel.invokeFunction('convertToInteractive',\n",
              "                                                     [key], {});\n",
              "          if (!dataTable) return;\n",
              "\n",
              "          const docLinkHtml = 'Like what you see? Visit the ' +\n",
              "            '<a target=\"_blank\" href=https://colab.research.google.com/notebooks/data_table.ipynb>data table notebook</a>'\n",
              "            + ' to learn more about interactive tables.';\n",
              "          element.innerHTML = '';\n",
              "          dataTable['output_type'] = 'display_data';\n",
              "          await google.colab.output.renderOutput(dataTable, element);\n",
              "          const docLink = document.createElement('div');\n",
              "          docLink.innerHTML = docLinkHtml;\n",
              "          element.appendChild(docLink);\n",
              "        }\n",
              "      </script>\n",
              "    </div>\n",
              "  </div>\n",
              "  "
            ]
          },
          "metadata": {},
          "execution_count": 4
        }
      ]
    },
    {
      "cell_type": "code",
      "source": [
        "#extract columns\n",
        "x=d['duration']\n",
        "x"
      ],
      "metadata": {
        "id": "aH6WF4lJvf1X",
        "colab": {
          "base_uri": "https://localhost:8080/"
        },
        "outputId": "1de7f45c-6b44-43df-a99b-216653ac4a12"
      },
      "execution_count": null,
      "outputs": [
        {
          "output_type": "execute_result",
          "data": {
            "text/plain": [
              "0       6\n",
              "1      48\n",
              "2      12\n",
              "3      42\n",
              "4      24\n",
              "       ..\n",
              "995    12\n",
              "996    30\n",
              "997    12\n",
              "998    45\n",
              "999    45\n",
              "Name: duration, Length: 1000, dtype: int64"
            ]
          },
          "metadata": {},
          "execution_count": 5
        }
      ]
    },
    {
      "cell_type": "code",
      "source": [
        "print(type(x))"
      ],
      "metadata": {
        "id": "eSeJe-NfvoHz",
        "colab": {
          "base_uri": "https://localhost:8080/"
        },
        "outputId": "e2af311f-0035-47d9-bedb-950cf841b7c9"
      },
      "execution_count": null,
      "outputs": [
        {
          "output_type": "stream",
          "name": "stdout",
          "text": [
            "<class 'pandas.core.series.Series'>\n"
          ]
        }
      ]
    },
    {
      "cell_type": "code",
      "source": [
        "#To extract a column as a DataFrame,\n",
        "#you need to pass a list of column names. In our case that's just\n",
        "#a single column:\n",
        "y=d[['duration']]\n",
        "type(y)"
      ],
      "metadata": {
        "id": "-5xwSAWZvy5Z"
      },
      "execution_count": null,
      "outputs": []
    },
    {
      "cell_type": "code",
      "source": [
        "#Getting data by rows\n",
        "#For rows, we have two options:\n",
        "#.loc - locates by name\n",
        "#.iloc- locates by numerical index\n",
        "\n",
        "d.iloc[1:3]"
      ],
      "metadata": {
        "id": "lxdszzH13O_P"
      },
      "execution_count": null,
      "outputs": []
    },
    {
      "cell_type": "code",
      "source": [
        "d.iloc[0:7, 6]"
      ],
      "metadata": {
        "colab": {
          "base_uri": "https://localhost:8080/"
        },
        "id": "-jYp759fOS7i",
        "outputId": "73eddd99-2b84-4547-f9c4-5ee7a60173c9"
      },
      "execution_count": null,
      "outputs": [
        {
          "output_type": "execute_result",
          "data": {
            "text/plain": [
              "0    1169\n",
              "1    5951\n",
              "2    2096\n",
              "3    7882\n",
              "4    4870\n",
              "5    9055\n",
              "6    2835\n",
              "Name: amount, dtype: int64"
            ]
          },
          "metadata": {},
          "execution_count": 13
        }
      ]
    },
    {
      "cell_type": "code",
      "source": [
        "d.iloc[0:7, 0:4]"
      ],
      "metadata": {
        "colab": {
          "base_uri": "https://localhost:8080/",
          "height": 254
        },
        "id": "ph5XoudAOrx9",
        "outputId": "c96d22ef-733e-4276-82f2-fa82b8670ade"
      },
      "execution_count": null,
      "outputs": [
        {
          "output_type": "execute_result",
          "data": {
            "text/plain": [
              "   Unnamed: 0  Default checkingstatus1  duration\n",
              "0           1        0            <DM0         6\n",
              "1           2        1         DM0-200        48\n",
              "2           3        0       NoAccount        12\n",
              "3           4        0            <DM0        42\n",
              "4           5        1            <DM0        24\n",
              "5           6        0       NoAccount        36\n",
              "6           7        0       NoAccount        24"
            ],
            "text/html": [
              "\n",
              "  <div id=\"df-9ca35770-05b1-4b25-a110-4d69cb3422c1\">\n",
              "    <div class=\"colab-df-container\">\n",
              "      <div>\n",
              "<style scoped>\n",
              "    .dataframe tbody tr th:only-of-type {\n",
              "        vertical-align: middle;\n",
              "    }\n",
              "\n",
              "    .dataframe tbody tr th {\n",
              "        vertical-align: top;\n",
              "    }\n",
              "\n",
              "    .dataframe thead th {\n",
              "        text-align: right;\n",
              "    }\n",
              "</style>\n",
              "<table border=\"1\" class=\"dataframe\">\n",
              "  <thead>\n",
              "    <tr style=\"text-align: right;\">\n",
              "      <th></th>\n",
              "      <th>Unnamed: 0</th>\n",
              "      <th>Default</th>\n",
              "      <th>checkingstatus1</th>\n",
              "      <th>duration</th>\n",
              "    </tr>\n",
              "  </thead>\n",
              "  <tbody>\n",
              "    <tr>\n",
              "      <th>0</th>\n",
              "      <td>1</td>\n",
              "      <td>0</td>\n",
              "      <td>&lt;DM0</td>\n",
              "      <td>6</td>\n",
              "    </tr>\n",
              "    <tr>\n",
              "      <th>1</th>\n",
              "      <td>2</td>\n",
              "      <td>1</td>\n",
              "      <td>DM0-200</td>\n",
              "      <td>48</td>\n",
              "    </tr>\n",
              "    <tr>\n",
              "      <th>2</th>\n",
              "      <td>3</td>\n",
              "      <td>0</td>\n",
              "      <td>NoAccount</td>\n",
              "      <td>12</td>\n",
              "    </tr>\n",
              "    <tr>\n",
              "      <th>3</th>\n",
              "      <td>4</td>\n",
              "      <td>0</td>\n",
              "      <td>&lt;DM0</td>\n",
              "      <td>42</td>\n",
              "    </tr>\n",
              "    <tr>\n",
              "      <th>4</th>\n",
              "      <td>5</td>\n",
              "      <td>1</td>\n",
              "      <td>&lt;DM0</td>\n",
              "      <td>24</td>\n",
              "    </tr>\n",
              "    <tr>\n",
              "      <th>5</th>\n",
              "      <td>6</td>\n",
              "      <td>0</td>\n",
              "      <td>NoAccount</td>\n",
              "      <td>36</td>\n",
              "    </tr>\n",
              "    <tr>\n",
              "      <th>6</th>\n",
              "      <td>7</td>\n",
              "      <td>0</td>\n",
              "      <td>NoAccount</td>\n",
              "      <td>24</td>\n",
              "    </tr>\n",
              "  </tbody>\n",
              "</table>\n",
              "</div>\n",
              "      <button class=\"colab-df-convert\" onclick=\"convertToInteractive('df-9ca35770-05b1-4b25-a110-4d69cb3422c1')\"\n",
              "              title=\"Convert this dataframe to an interactive table.\"\n",
              "              style=\"display:none;\">\n",
              "        \n",
              "  <svg xmlns=\"http://www.w3.org/2000/svg\" height=\"24px\"viewBox=\"0 0 24 24\"\n",
              "       width=\"24px\">\n",
              "    <path d=\"M0 0h24v24H0V0z\" fill=\"none\"/>\n",
              "    <path d=\"M18.56 5.44l.94 2.06.94-2.06 2.06-.94-2.06-.94-.94-2.06-.94 2.06-2.06.94zm-11 1L8.5 8.5l.94-2.06 2.06-.94-2.06-.94L8.5 2.5l-.94 2.06-2.06.94zm10 10l.94 2.06.94-2.06 2.06-.94-2.06-.94-.94-2.06-.94 2.06-2.06.94z\"/><path d=\"M17.41 7.96l-1.37-1.37c-.4-.4-.92-.59-1.43-.59-.52 0-1.04.2-1.43.59L10.3 9.45l-7.72 7.72c-.78.78-.78 2.05 0 2.83L4 21.41c.39.39.9.59 1.41.59.51 0 1.02-.2 1.41-.59l7.78-7.78 2.81-2.81c.8-.78.8-2.07 0-2.86zM5.41 20L4 18.59l7.72-7.72 1.47 1.35L5.41 20z\"/>\n",
              "  </svg>\n",
              "      </button>\n",
              "      \n",
              "  <style>\n",
              "    .colab-df-container {\n",
              "      display:flex;\n",
              "      flex-wrap:wrap;\n",
              "      gap: 12px;\n",
              "    }\n",
              "\n",
              "    .colab-df-convert {\n",
              "      background-color: #E8F0FE;\n",
              "      border: none;\n",
              "      border-radius: 50%;\n",
              "      cursor: pointer;\n",
              "      display: none;\n",
              "      fill: #1967D2;\n",
              "      height: 32px;\n",
              "      padding: 0 0 0 0;\n",
              "      width: 32px;\n",
              "    }\n",
              "\n",
              "    .colab-df-convert:hover {\n",
              "      background-color: #E2EBFA;\n",
              "      box-shadow: 0px 1px 2px rgba(60, 64, 67, 0.3), 0px 1px 3px 1px rgba(60, 64, 67, 0.15);\n",
              "      fill: #174EA6;\n",
              "    }\n",
              "\n",
              "    [theme=dark] .colab-df-convert {\n",
              "      background-color: #3B4455;\n",
              "      fill: #D2E3FC;\n",
              "    }\n",
              "\n",
              "    [theme=dark] .colab-df-convert:hover {\n",
              "      background-color: #434B5C;\n",
              "      box-shadow: 0px 1px 3px 1px rgba(0, 0, 0, 0.15);\n",
              "      filter: drop-shadow(0px 1px 2px rgba(0, 0, 0, 0.3));\n",
              "      fill: #FFFFFF;\n",
              "    }\n",
              "  </style>\n",
              "\n",
              "      <script>\n",
              "        const buttonEl =\n",
              "          document.querySelector('#df-9ca35770-05b1-4b25-a110-4d69cb3422c1 button.colab-df-convert');\n",
              "        buttonEl.style.display =\n",
              "          google.colab.kernel.accessAllowed ? 'block' : 'none';\n",
              "\n",
              "        async function convertToInteractive(key) {\n",
              "          const element = document.querySelector('#df-9ca35770-05b1-4b25-a110-4d69cb3422c1');\n",
              "          const dataTable =\n",
              "            await google.colab.kernel.invokeFunction('convertToInteractive',\n",
              "                                                     [key], {});\n",
              "          if (!dataTable) return;\n",
              "\n",
              "          const docLinkHtml = 'Like what you see? Visit the ' +\n",
              "            '<a target=\"_blank\" href=https://colab.research.google.com/notebooks/data_table.ipynb>data table notebook</a>'\n",
              "            + ' to learn more about interactive tables.';\n",
              "          element.innerHTML = '';\n",
              "          dataTable['output_type'] = 'display_data';\n",
              "          await google.colab.output.renderOutput(dataTable, element);\n",
              "          const docLink = document.createElement('div');\n",
              "          docLink.innerHTML = docLinkHtml;\n",
              "          element.appendChild(docLink);\n",
              "        }\n",
              "      </script>\n",
              "    </div>\n",
              "  </div>\n",
              "  "
            ]
          },
          "metadata": {},
          "execution_count": 17
        }
      ]
    },
    {
      "cell_type": "code",
      "source": [],
      "metadata": {
        "id": "Bxh8PG7_OuYm"
      },
      "execution_count": null,
      "outputs": []
    },
    {
      "cell_type": "code",
      "source": [
        "d.loc[3]"
      ],
      "metadata": {
        "id": "XGYK49mz49QU",
        "colab": {
          "base_uri": "https://localhost:8080/"
        },
        "outputId": "e43419e2-4e9d-4c01-fdc8-a00bcc6c4114"
      },
      "execution_count": null,
      "outputs": [
        {
          "output_type": "execute_result",
          "data": {
            "text/plain": [
              "Unnamed: 0                    4\n",
              "Default                       0\n",
              "checkingstatus1            <DM0\n",
              "duration                     42\n",
              "history                    poor\n",
              "purpose            goods/repair\n",
              "amount                     7882\n",
              "savings                 DM0-100\n",
              "employ                 1-7years\n",
              "installment                   2\n",
              "sex                        male\n",
              "residence                     4\n",
              "age                          45\n",
              "housing                 forfree\n",
              "cards                         1\n",
              "liable                        2\n",
              "tele                         no\n",
              "foreign                 foreign\n",
              "sum                          44\n",
              "Name: 3, dtype: object"
            ]
          },
          "metadata": {},
          "execution_count": 20
        }
      ]
    },
    {
      "cell_type": "code",
      "source": [
        "'''\n",
        "Reading CSV Files\n",
        "• read_csv()\n",
        "• Reading Excel Files\n",
        "• read_excel()\n",
        "• Reading Text Files\n",
        "• read_table()\n",
        "\n",
        "\n",
        "'''"
      ],
      "metadata": {
        "id": "GjIM0FQm5IXl"
      },
      "execution_count": null,
      "outputs": []
    },
    {
      "cell_type": "code",
      "source": [
        "'''\n",
        "omputer vision is a process by which we can understand the images and videos how they are stored and\n",
        " how we can manipulate and retrieve data from them. Computer Vision is the base or mostly used for Artificial Intelligence.\n",
        " Computer-Vision is playing a major role in self-driving cars, robotics as well as in photo correction apps.\n",
        "\n",
        "'''\n",
        "'''\n",
        "OpenCV\n",
        "OpenCV is the huge open-source library for the computer vision, machine learning, and image processing\n",
        "and now it plays a major role in real-time operation which is very important in today’s systems.\n",
        " By using it, one can process images and videos to identify objects, faces, or even handwriting of a human.\n",
        "  When it integrated with various libraries, such as NumPy, python is capable of processing the OpenCV array structure\n",
        "   for analysis. To Identify\n",
        "image pattern and its various features we use vector space and perform mathematical operations on these features.\n",
        "\n",
        "'''\n",
        "'''\n",
        "Applications of OpenCV: There are lots of applications which are solved using OpenCV, some of them are listed below\n",
        "\n",
        "\n",
        "face recognition\n",
        "Automated inspection and surveillance\n",
        "number of people – count (foot traffic in a mall, etc)\n",
        "Vehicle counting on highways along with their speeds\n",
        "Interactive art installations\n",
        "Anomaly (defect) detection in the manufacturing process (the odd defective products)\n",
        "Street view image stitching\n",
        "Video/image search and retrieval\n",
        "Robot and driver-less car navigation and control\n",
        "object recognition\n",
        "Medical image analysis\n",
        "Movies – 3D structure from motion\n",
        "TV Channels advertisement recognition\n",
        "\n",
        "'''"
      ],
      "metadata": {
        "id": "YCGmBo9FCnLL"
      },
      "execution_count": null,
      "outputs": []
    },
    {
      "cell_type": "code",
      "source": [
        "from google.colab import drive\n",
        "drive.mount(\"/content/drive/\")"
      ],
      "metadata": {
        "id": "8y9rdWMlUQKj",
        "colab": {
          "base_uri": "https://localhost:8080/"
        },
        "outputId": "ea6bbc99-b5a0-4367-a265-441584b4180f"
      },
      "execution_count": null,
      "outputs": [
        {
          "output_type": "stream",
          "name": "stdout",
          "text": [
            "Mounted at /content/drive/\n"
          ]
        }
      ]
    },
    {
      "cell_type": "code",
      "source": [
        "import numpy as np\n",
        "import cv2"
      ],
      "metadata": {
        "id": "p9aqY8p2Eh-z"
      },
      "execution_count": null,
      "outputs": []
    },
    {
      "cell_type": "code",
      "source": [
        "img0 = cv2.imread('/content/drive/MyDrive/Colab Notebooks/aa.jpeg')\n"
      ],
      "metadata": {
        "id": "1Wacwj_AUofS"
      },
      "execution_count": null,
      "outputs": []
    },
    {
      "cell_type": "code",
      "source": [
        "img0"
      ],
      "metadata": {
        "id": "b8z-GHsHZ80Q",
        "colab": {
          "base_uri": "https://localhost:8080/"
        },
        "outputId": "535e648a-d597-4366-b427-ae4e4c38ab40"
      },
      "execution_count": null,
      "outputs": [
        {
          "output_type": "execute_result",
          "data": {
            "text/plain": [
              "array([[[243, 247, 211],\n",
              "        [174, 178, 142],\n",
              "        [183, 185, 149],\n",
              "        ...,\n",
              "        [255, 255, 255],\n",
              "        [255, 255, 255],\n",
              "        [255, 255, 255]],\n",
              "\n",
              "       [[226, 230, 195],\n",
              "        [158, 162, 127],\n",
              "        [240, 244, 209],\n",
              "        ...,\n",
              "        [255, 255, 255],\n",
              "        [255, 255, 255],\n",
              "        [255, 255, 255]],\n",
              "\n",
              "       [[121, 126,  95],\n",
              "        [104, 109,  78],\n",
              "        [232, 237, 206],\n",
              "        ...,\n",
              "        [255, 255, 255],\n",
              "        [255, 255, 255],\n",
              "        [255, 255, 255]],\n",
              "\n",
              "       ...,\n",
              "\n",
              "       [[166, 154, 136],\n",
              "        [167, 155, 137],\n",
              "        [167, 155, 137],\n",
              "        ...,\n",
              "        [253, 255, 255],\n",
              "        [251, 255, 255],\n",
              "        [253, 255, 255]],\n",
              "\n",
              "       [[165, 152, 136],\n",
              "        [166, 153, 137],\n",
              "        [166, 153, 137],\n",
              "        ...,\n",
              "        [253, 253, 253],\n",
              "        [251, 253, 253],\n",
              "        [253, 253, 253]],\n",
              "\n",
              "       [[165, 152, 136],\n",
              "        [166, 153, 137],\n",
              "        [166, 153, 137],\n",
              "        ...,\n",
              "        [253, 253, 253],\n",
              "        [253, 253, 253],\n",
              "        [253, 253, 253]]], dtype=uint8)"
            ]
          },
          "metadata": {},
          "execution_count": 4
        }
      ]
    },
    {
      "cell_type": "code",
      "source": [
        "print(type(img0))"
      ],
      "metadata": {
        "id": "1YxyjEM-En5N",
        "colab": {
          "base_uri": "https://localhost:8080/"
        },
        "outputId": "285c9bf0-e35c-4c26-f023-fab1b0d21f73"
      },
      "execution_count": null,
      "outputs": [
        {
          "output_type": "stream",
          "name": "stdout",
          "text": [
            "<class 'numpy.ndarray'>\n"
          ]
        }
      ]
    },
    {
      "cell_type": "code",
      "source": [
        "cv2_imshow(img0)"
      ],
      "metadata": {
        "id": "3giDqrpCaKdw",
        "colab": {
          "base_uri": "https://localhost:8080/",
          "height": 147
        },
        "outputId": "461d4d1a-1029-4375-dd49-f8164e10929f"
      },
      "execution_count": null,
      "outputs": [
        {
          "output_type": "display_data",
          "data": {
            "text/plain": [
              "<PIL.Image.Image image mode=L size=195x130 at 0x7F1E8CBBC9A0>"
            ],
            "image/png": "[encoded data removed]"
          },
          "metadata": {}
        }
      ]
    },
    {
      "cell_type": "code",
      "source": [
        "from google.colab.patches import cv2_imshow\n",
        "cv2_imshow(img0)"
      ],
      "metadata": {
        "colab": {
          "base_uri": "https://localhost:8080/",
          "height": 147
        },
        "id": "0N26f7hj9kpX",
        "outputId": "e206a2bf-6401-407a-ad09-80d2dd33852b"
      },
      "execution_count": null,
      "outputs": [
        {
          "output_type": "display_data",
          "data": {
            "text/plain": [
              "<PIL.Image.Image image mode=L size=195x130 at 0x7F1E8CBEEF70>"
            ],
            "image/png": "[encoded data removed]"
          },
          "metadata": {}
        }
      ]
    },
    {
      "cell_type": "code",
      "source": [
        "#0=grayscale\n",
        "#1=color"
      ],
      "metadata": {
        "id": "Fm-OBgu7aPzK"
      },
      "execution_count": null,
      "outputs": []
    },
    {
      "cell_type": "code",
      "source": [
        "img0 = cv2.imread('/content/drive/MyDrive/Colab Notebooks/aa.jpeg',0)\n",
        "cv2_imshow(img0)"
      ],
      "metadata": {
        "id": "o8bAllqIaifs",
        "colab": {
          "base_uri": "https://localhost:8080/",
          "height": 178
        },
        "outputId": "b24b7b8e-b0f6-4c8e-b604-efc17c067a52"
      },
      "execution_count": null,
      "outputs": [
        {
          "output_type": "error",
          "ename": "NameError",
          "evalue": "ignored",
          "traceback": [
            "\u001b[0;31m---------------------------------------------------------------------------\u001b[0m",
            "\u001b[0;31mNameError\u001b[0m                                 Traceback (most recent call last)",
            "\u001b[0;32m<ipython-input-18-5cb8e9db3403>\u001b[0m in \u001b[0;36m<module>\u001b[0;34m\u001b[0m\n\u001b[1;32m      1\u001b[0m \u001b[0mimg0\u001b[0m \u001b[0;34m=\u001b[0m \u001b[0mcv2\u001b[0m\u001b[0;34m.\u001b[0m\u001b[0mimread\u001b[0m\u001b[0;34m(\u001b[0m\u001b[0;34m'/content/drive/MyDrive/Colab Notebooks/aa.jpeg'\u001b[0m\u001b[0;34m,\u001b[0m\u001b[0;36m0\u001b[0m\u001b[0;34m)\u001b[0m\u001b[0;34m\u001b[0m\u001b[0;34m\u001b[0m\u001b[0m\n\u001b[0;32m----> 2\u001b[0;31m \u001b[0mcv2_imshow\u001b[0m\u001b[0;34m(\u001b[0m\u001b[0mimg0\u001b[0m\u001b[0;34m)\u001b[0m\u001b[0;34m\u001b[0m\u001b[0;34m\u001b[0m\u001b[0m\n\u001b[0m",
            "\u001b[0;31mNameError\u001b[0m: name 'cv2_imshow' is not defined"
          ]
        }
      ]
    },
    {
      "cell_type": "code",
      "source": [
        "#save the image\n",
        "cv2.imwrite('save.png',img0)"
      ],
      "metadata": {
        "id": "6qtg-Il4apGw"
      },
      "execution_count": null,
      "outputs": []
    },
    {
      "cell_type": "code",
      "source": [
        "import numpy as np\n",
        "import cv2 as cv\n",
        "img0 = cv2.imread('/content/drive/MyDrive/Colab Notebooks/aa.jpeg')\n",
        "px=img0[0,0]\n",
        "print(px)"
      ],
      "metadata": {
        "id": "PgqXthJ-dXBc",
        "colab": {
          "base_uri": "https://localhost:8080/"
        },
        "outputId": "d5ce1ce1-f144-44ed-a44b-652030ec2bd2"
      },
      "execution_count": null,
      "outputs": [
        {
          "output_type": "stream",
          "name": "stdout",
          "text": [
            "[243 247 211]\n"
          ]
        }
      ]
    },
    {
      "cell_type": "code",
      "source": [
        "opencv-blue green red"
      ],
      "metadata": {
        "id": "rgWkp0LNdaVW"
      },
      "execution_count": null,
      "outputs": []
    },
    {
      "cell_type": "code",
      "source": [
        "#Accessing only red value\n",
        "px=img0[0,0,2]\n",
        "px"
      ],
      "metadata": {
        "id": "Orgq_daReXkO",
        "colab": {
          "base_uri": "https://localhost:8080/"
        },
        "outputId": "e4b73381-af36-4b37-fd5a-d433d2019a2b"
      },
      "execution_count": null,
      "outputs": [
        {
          "output_type": "execute_result",
          "data": {
            "text/plain": [
              "211"
            ]
          },
          "metadata": {},
          "execution_count": 6
        }
      ]
    },
    {
      "cell_type": "code",
      "source": [
        "#To modify the values, we just need to access the pixel and then overwrite it with a value\n",
        "img0[100,100] = [255,255,255]\n",
        "print( img0[100,100] )"
      ],
      "metadata": {
        "id": "fGd90qV2erPe"
      },
      "execution_count": null,
      "outputs": []
    },
    {
      "cell_type": "code",
      "source": [
        "#access image properties\n",
        "print(img0.shape)\n",
        "'''\n",
        "So here we have three numbers in the returned tuple, these are number of rows, number of columns and number of channels respectively. Incase an image is grayscale,\n",
        " the tuple returned contains only the number of rows and columns.\n",
        "'''"
      ],
      "metadata": {
        "id": "Y-OJMTSOfNsq"
      },
      "execution_count": null,
      "outputs": []
    },
    {
      "cell_type": "code",
      "source": [
        "#size(total number of pixels in the image)\n",
        "print(img0.size)"
      ],
      "metadata": {
        "id": "EliBaWVFfjZ1"
      },
      "execution_count": null,
      "outputs": []
    },
    {
      "cell_type": "code",
      "source": [
        "#img.dtype which returns the image datatype\n",
        "print(img0.dtype)"
      ],
      "metadata": {
        "id": "ItX3P7cufwXw"
      },
      "execution_count": null,
      "outputs": []
    },
    {
      "cell_type": "code",
      "source": [
        "'''\n",
        "Usually when working on images, we often need to resize the images\n",
        " according to certain requirements. Mostly you will do such operation\n",
        " in Machine learning and deep learning as it\n",
        " reduces the time of training of a neural network.\n",
        " As the number of pixels in an image increases,\n",
        " the more is the number of input nodes that in turn increases the complexity\n",
        "  of the model.\n",
        " We use an inbuilt resize() method to resize an image.'''\n",
        " #Syntax: cv2.resize(s, size,fx,fy,interpolation)\n",
        " '''\n",
        "  – input image (required).\n",
        "\n",
        "size – desired size for the output image after resizing (required)\n",
        "\n",
        "fx – Scale factor along the horizontal axis.(optional)\n",
        "\n",
        "fy – Scale factor along the vertical axis.\n",
        "\n",
        "Interpolation(optional) – This flag uses following methods:\n",
        "\n",
        "Interpolation(optional) – This flag uses following methods:\n",
        "INTER_NEAREST – a nearest-neighbor interpolation\n",
        "INTER_LINEAR – a bilinear interpolation (used by default)\n",
        "INTER_AREA – resampling using pixel area relation. It may be a preferred method for image decimation, as it gives moire’-free results. But when the image is zoomed, it is similar to the INTER_NEAREST method.\n",
        "INTER_CUBIC – a bicubic interpolation over 4×4 pixel neighborhood\n",
        "INTER_LANCZOS4 – a Lanczos interpolation over 8×8 pixel neighborhood\n",
        "\n",
        " '''"
      ],
      "metadata": {
        "id": "DccASi8pf3Zj"
      },
      "execution_count": null,
      "outputs": []
    },
    {
      "cell_type": "code",
      "source": [
        "import cv2\n",
        "import numpy as np\n",
        "img0 = cv2.imread('/content/drive/MyDrive/Colab Notebooks/aa.jpeg',1)\n",
        "print(img0.shape)\n",
        "img_resized=cv2.resize(img0, (200, 240),interpolation = cv2.INTER_NEAREST)\n",
        "cv2_imshow(img_resized)\n",
        "cv2.waitKey(0)\n",
        "cv2.destroyAllWindows()"
      ],
      "metadata": {
        "id": "QXyufgbyggpk"
      },
      "execution_count": null,
      "outputs": []
    },
    {
      "cell_type": "code",
      "source": [
        "'''\n",
        "We may need to rotate an image in some of the cases and we can do it easily by using OpenCV .We use cv2.rotate() method to rotate a 2D array in multiples of 90 degrees. Here is the syntax:\n",
        "\n",
        "1\n",
        "cv2.rotate( src, rotateCode[, dst] )\n",
        "Parameters:\n",
        "src: It is the image to be rotated.\n",
        "rotateCode: It is an enum to specify how to rotate the array.Here are some of the possible values :\n",
        "cv2.cv2.ROTATE_90_CLOCKWISE\n",
        "cv2.ROTATE_180\n",
        "cv2.ROTATE_90_COUNTERCLOCKWISE\n",
        "'''\n"
      ],
      "metadata": {
        "id": "YSWNmLRAhmJA"
      },
      "execution_count": null,
      "outputs": []
    },
    {
      "cell_type": "code",
      "source": [
        "image = cv2.rotate(img0, cv2.ROTATE_90_COUNTERCLOCKWISE)\n",
        "cv2_imshow(image)"
      ],
      "metadata": {
        "id": "yKCKwd5Qh2fB"
      },
      "execution_count": null,
      "outputs": []
    },
    {
      "cell_type": "code",
      "source": [],
      "metadata": {
        "id": "pZmWXYg3h-Yk"
      },
      "execution_count": null,
      "outputs": []
    },
    {
      "cell_type": "code",
      "source": [
        "'''\n",
        "Basic Operation On images\n",
        "Access pixel values and modify them\n",
        "Access image properties\n",
        "Set a Region of Interest (ROI)\n",
        "Split and merge image channels\n",
        "'''"
      ],
      "metadata": {
        "id": "RWs-tuqta8B-"
      },
      "execution_count": null,
      "outputs": []
    },
    {
      "cell_type": "code",
      "source": [
        "'''\n",
        "tensorflow\n",
        "Machine Learning and Deep Learning\n",
        "Training and testing of models\n",
        "Use\n",
        "Google - to upgrade their services - gmail,search engine, image based searching, image annotation (captioning)\n",
        "image recognition ( pixel based feature mapping)\n",
        "voice detection or recognition\n",
        "video processing\n",
        "text based application - recommendation system, google translate\n",
        "Google map\n",
        "'''"
      ],
      "metadata": {
        "id": "obV8KHIEvX_N"
      },
      "execution_count": null,
      "outputs": []
    },
    {
      "cell_type": "code",
      "source": [
        "'''keras\n",
        "Deeplearning\n",
        "neural network'''"
      ],
      "metadata": {
        "id": "qsiPEliuxIJj"
      },
      "execution_count": null,
      "outputs": []
    },
    {
      "cell_type": "code",
      "source": [
        "'''Theano\n",
        "-Theano is a Python library that allows us to evaluate mathematical operations\n",
        "including multi-dimensional arrays so efficiently.\n",
        "It is mostly used in building Deep Learning Projects.\n",
        "It works a way more faster on Graphics Processing Unit (GPU) rather than on CPU.\n",
        "\n",
        "speed\n",
        "stability of your model\n",
        "mathematical demonstrations\n",
        "complex calculations\n",
        "graphy theory'''\n",
        "\n",
        "'''\n",
        "Sci-kit learn\n",
        "for statstical analysis\n",
        "normal distribution\n",
        "testing\n",
        "assumption\n",
        "mean\n",
        "median\n",
        "central tendency\n",
        "hypothesis testing\n",
        "variance\n",
        "'''\n",
        "'''\n",
        "PyTorch\n",
        "computer vision\n",
        "Natural language processing\n",
        "deep learning ( Reinforcement Learning) - tensor'''\n",
        "'''\n",
        "Mraa\n",
        "intel\n",
        "interact with RaspberryPI\n",
        "ARM Processor\n",
        "functionalities - ( GPIO- general purpose input output)\n",
        "sensors\n",
        "compatible with python , c++, JAVA & Javascript'''\n",
        "\n",
        "'''\n",
        "Socket\n",
        "networking\n",
        "socket programming\n",
        "Socket programming is a way of connecting two nodes on a network to communicate with each other. One socket(node) listens on a particular port at an IP, while the other socket reaches out to the other to form a connection\n",
        "connect with server\n",
        "client server communication\n",
        "port configuration\n",
        "host to host communication\n",
        "protocols of networking'''\n",
        "\n",
        "'''\n",
        "MYSQLDB\n",
        "database connectivity\n",
        "all the tasks relavent to database'''\n",
        "\n",
        "'''\n",
        "mongodb ( pymongo library)\n",
        "Requests\n",
        "Web Scrapping\n",
        "Http request and response\n",
        "REST APIs\n",
        "GET, POST\n",
        "Web development\n",
        "authentication\n",
        "sessions\n",
        "cookies\n",
        "timer (timeout)'''\n",
        "\n",
        "'''\n",
        "paho-mqtt\n",
        "Machine to machine communication ( sensor to sensor)\n",
        "IoT\n",
        "wireless system\n",
        "driver configuration\n",
        "Based on MQTT protocol (communication)\n",
        "Paho was a project of eclipse'''\n"
      ],
      "metadata": {
        "id": "WKPNGvP2xQ4L"
      },
      "execution_count": null,
      "outputs": []
    }
  ]
}