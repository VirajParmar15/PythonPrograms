{
  "nbformat": 4,
  "nbformat_minor": 0,
  "metadata": {
    "colab": {
      "provenance": []
    },
    "kernelspec": {
      "name": "python3",
      "display_name": "Python 3"
    },
    "language_info": {
      "name": "python"
    }
  },
  "cells": [
    {
      "cell_type": "markdown",
      "source": [
        "#GET STARTED\n",
        "there 4 types of built in data types in python\n",
        "1. list=list is a collection which is orderd,changeble and allow duplicate members.\n",
        "2. tuple=tuple is a collection which is orderd,unchangeble and allow duplicate members.\n",
        "3. set=set is a collection which is unorders,unchangeble and dont allow duplicate members.\n",
        "4. dictnories=dictnories is a collection which is orderd,changeble and no duplicate members."
      ],
      "metadata": {
        "id": "bFtcN8WKk7r-"
      }
    },
    {
      "cell_type": "code",
      "execution_count": null,
      "metadata": {
        "colab": {
          "base_uri": "https://localhost:8080/"
        },
        "id": "VBxwB8SgkbOp",
        "outputId": "cb99baed-bea5-4a93-9b56-763f23f03f93"
      },
      "outputs": [
        {
          "output_type": "execute_result",
          "data": {
            "text/plain": [
              "[12, 'viraj', 4, 0.5, 'don', 33, 33]"
            ]
          },
          "metadata": {},
          "execution_count": 5
        }
      ],
      "source": [
        "l1 = [11,'viraj',4,0.5,'don',33,33]\n",
        "l1[0]=12\n",
        "l1\n",
        "# this is called list\n",
        "# which is orederd,changeble,and allow duplicate members"
      ]
    },
    {
      "cell_type": "code",
      "source": [
        "t1 = (11,'viraj',4,0.5,'don',33,33)\n",
        "#t1[0]=11#give us error\n",
        "l2=list(t1)\n",
        "l2[0]=12\n",
        "t2=tuple(l2)\n",
        "t2\n",
        "# this is called tuple\n",
        "# tuple is orderd,unchangeble,and allow duplicate members\n",
        "# and if you change something in tuple first you have to convert into list"
      ],
      "metadata": {
        "colab": {
          "base_uri": "https://localhost:8080/"
        },
        "id": "ZkFGccudnwnM",
        "outputId": "5d3f0169-dee5-4790-a4b5-b6917b043e15"
      },
      "execution_count": null,
      "outputs": [
        {
          "output_type": "execute_result",
          "data": {
            "text/plain": [
              "(12, 'viraj', 4, 0.5, 'don', 33, 33)"
            ]
          },
          "metadata": {},
          "execution_count": 13
        }
      ]
    },
    {
      "cell_type": "code",
      "source": [
        "s1 = {11,23,4.4,'viraj','don'}\n",
        "print(s1)\n",
        "l3=list(s1)\n",
        "l3[0]=12\n",
        "print(l3)\n",
        "# this is called set,which is unorders,unchangeble, and dont allow duplicate members\n",
        "# and if you change something in set first you have to convert into list"
      ],
      "metadata": {
        "colab": {
          "base_uri": "https://localhost:8080/"
        },
        "id": "XQflG8z_qApx",
        "outputId": "679ed019-4976-446c-bf20-ee52cd4816db"
      },
      "execution_count": null,
      "outputs": [
        {
          "output_type": "stream",
          "name": "stdout",
          "text": [
            "{4.4, 23, 11, 'don', 'viraj'}\n",
            "[12, 23, 11, 'don', 'viraj']\n"
          ]
        }
      ]
    },
    {
      "cell_type": "code",
      "source": [
        "# this is dictnories , which is orderd,changeble and no duplicate members.\n",
        "d1={1:\"viraj\",2:3.5,3:\"manali\",4:66,5:0.4}\n",
        "d1.update({1:\"don\"})\n",
        "d1\n",
        "# this is dictnories , which is orderd,changeble and no duplicate members.\n",
        "# and if you want to update dictnories, you need to use keyword called update for it"
      ],
      "metadata": {
        "colab": {
          "base_uri": "https://localhost:8080/"
        },
        "id": "EKWd1WPcrFhX",
        "outputId": "678fbc4e-8151-4d63-bc1b-e685c2e06dfe"
      },
      "execution_count": null,
      "outputs": [
        {
          "output_type": "execute_result",
          "data": {
            "text/plain": [
              "{1: 'don', 2: 3.5, 3: 'manali', 4: 66, 5: 0.4}"
            ]
          },
          "metadata": {},
          "execution_count": 21
        }
      ]
    },
    {
      "cell_type": "markdown",
      "source": [
        "# ARRAY\n",
        "1. why we use array\n",
        "- because if we want to store 500 variable we have create to 500 variables\n",
        "and thats a lengthy process , so for that we will create array who can store more than one element of samedata type in a sequence order under one name.\n",
        "2. types\n",
        "there are 2 types of array\n",
        "- one dimensional a[i]\n",
        "- multi dimensional a[i][j],a[i][j][k]\n",
        "3. we can create array with 2 method\n",
        "- using array module\n",
        "- using numoy module"
      ],
      "metadata": {
        "id": "pu7lpXcAJ9Za"
      }
    },
    {
      "cell_type": "code",
      "source": [
        "import array\n",
        "#synatx [arrayname = fromarray.toarray('datatype',[arrayelement])]\n",
        "arr = array.array('i',[1,2,3,4])\n",
        "print(arr)\n",
        "type(arr)"
      ],
      "metadata": {
        "colab": {
          "base_uri": "https://localhost:8080/"
        },
        "id": "rUM6IfAHND4J",
        "outputId": "4cfd0862-9d3d-4950-9f93-6e7a9472069f"
      },
      "execution_count": null,
      "outputs": [
        {
          "output_type": "stream",
          "name": "stdout",
          "text": [
            "array('i', [1, 2, 3, 4])\n"
          ]
        },
        {
          "output_type": "execute_result",
          "data": {
            "text/plain": [
              "array.array"
            ]
          },
          "metadata": {},
          "execution_count": 7
        }
      ]
    },
    {
      "cell_type": "code",
      "source": [
        "import numpy as np\n",
        "arr = np.array([1,2,3,4])\n",
        "print(arr)\n",
        "type(arr)"
      ],
      "metadata": {
        "colab": {
          "base_uri": "https://localhost:8080/"
        },
        "id": "qUo0nPPiOhvI",
        "outputId": "94756b79-8ed1-41fc-b885-d501ece4e341"
      },
      "execution_count": null,
      "outputs": [
        {
          "output_type": "stream",
          "name": "stdout",
          "text": [
            "[1 2 3 4]\n"
          ]
        },
        {
          "output_type": "execute_result",
          "data": {
            "text/plain": [
              "numpy.ndarray"
            ]
          },
          "metadata": {},
          "execution_count": 8
        }
      ]
    },
    {
      "cell_type": "markdown",
      "source": [
        "INSERT IN ARRAY\n",
        "1. AT BEGINING\n",
        "2. AT END\n",
        "3. SPECIFIC LOCATION"
      ],
      "metadata": {
        "id": "I1AkdcN3QAlL"
      }
    },
    {
      "cell_type": "code",
      "source": [
        "arr1 = array.array('i',[1,2,3,4])\n",
        "arr2 = array.array('i',[1,2,3,4])\n",
        "arr3 = array.array('i',[1,2,3,4])\n",
        "#at begin\n",
        "arr1.insert(0,6)\n",
        "print(arr1)\n",
        "#at specific location\n",
        "arr2.insert(2,6)\n",
        "print(arr2)\n",
        "#at end\n",
        "arr3.insert(4,6)\n",
        "print(arr3)\n",
        "#other elements shift towards right"
      ],
      "metadata": {
        "colab": {
          "base_uri": "https://localhost:8080/"
        },
        "id": "WNXrBAE9QWvJ",
        "outputId": "add1c79b-db87-4769-da86-daf80da8facf"
      },
      "execution_count": null,
      "outputs": [
        {
          "output_type": "stream",
          "name": "stdout",
          "text": [
            "array('i', [6, 1, 2, 3, 4])\n",
            "array('i', [1, 2, 6, 3, 4])\n",
            "array('i', [1, 2, 3, 4, 6])\n"
          ]
        }
      ]
    },
    {
      "cell_type": "markdown",
      "source": [
        "TRAVERSE OF AN ARRAY"
      ],
      "metadata": {
        "id": "yoU1YN05SC0k"
      }
    },
    {
      "cell_type": "code",
      "source": [
        "my_array=np.array([1,2,3,4,5])\n",
        "def traversearray(array):\n",
        "  for i in my_array:\n",
        "    print(i)\n",
        "\n",
        "traversearray(my_array)"
      ],
      "metadata": {
        "colab": {
          "base_uri": "https://localhost:8080/"
        },
        "id": "8nl85aCRSCk1",
        "outputId": "ff1f9c25-4b8a-4566-bf01-ad93208c153d"
      },
      "execution_count": null,
      "outputs": [
        {
          "output_type": "stream",
          "name": "stdout",
          "text": [
            "1\n",
            "2\n",
            "3\n",
            "4\n",
            "5\n"
          ]
        }
      ]
    },
    {
      "cell_type": "markdown",
      "source": [
        "ACCESSING ARRAY"
      ],
      "metadata": {
        "id": "mAfJ3if3UDXd"
      }
    },
    {
      "cell_type": "code",
      "source": [
        "my_array=np.array([1,2,3,4,5])\n",
        "def accessarray(array,index):\n",
        "  if index>len(array):\n",
        "    print(\"there is not any element in this index\")\n",
        "  else:\n",
        "    print(array[index])\n",
        "\n",
        "accessarray(my_array,3)\n"
      ],
      "metadata": {
        "colab": {
          "base_uri": "https://localhost:8080/"
        },
        "id": "Vwk2_qdSUcUV",
        "outputId": "8de48b04-6c05-41c0-e847-858e2ff9c563"
      },
      "execution_count": null,
      "outputs": [
        {
          "output_type": "stream",
          "name": "stdout",
          "text": [
            "4\n"
          ]
        }
      ]
    },
    {
      "cell_type": "markdown",
      "source": [
        "SEARCHING ARRAY"
      ],
      "metadata": {
        "id": "7ny2YH7dVo3m"
      }
    },
    {
      "cell_type": "code",
      "source": [
        "from ast import Index\n",
        "my_array=np.array([1,2,3,4,5])\n",
        "def search(array,element):\n",
        "  for i in range(len(my_array)):\n",
        "    if my_array[i]==element:\n",
        "      return i\n",
        "  return -1\n",
        "print(search(my_array,5))\n",
        "\n"
      ],
      "metadata": {
        "colab": {
          "base_uri": "https://localhost:8080/"
        },
        "id": "Z6_9StyLVquq",
        "outputId": "9f908472-3997-479c-f54e-db7ed66ae8ca"
      },
      "execution_count": null,
      "outputs": [
        {
          "output_type": "stream",
          "name": "stdout",
          "text": [
            "4\n"
          ]
        }
      ]
    }
  ]
}