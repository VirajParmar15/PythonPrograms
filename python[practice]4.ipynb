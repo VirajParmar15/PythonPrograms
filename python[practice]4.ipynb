{
  "nbformat": 4,
  "nbformat_minor": 0,
  "metadata": {
    "colab": {
      "provenance": []
    },
    "kernelspec": {
      "name": "python3",
      "display_name": "Python 3"
    },
    "language_info": {
      "name": "python"
    }
  },
  "cells": [
    {
      "cell_type": "code",
      "execution_count": null,
      "metadata": {
        "colab": {
          "base_uri": "https://localhost:8080/"
        },
        "id": "Dox2qEIGpsLT",
        "outputId": "3d78bbf4-40e3-40ad-ce10-edae1322a869"
      },
      "outputs": [
        {
          "output_type": "stream",
          "name": "stdout",
          "text": [
            "Enter a number5\n",
            "Enter a number5\n",
            "Enter a number5\n",
            "Enter a number5\n",
            "Enter a numberdone\n",
            "Average: 5.0\n"
          ]
        }
      ],
      "source": [
        "#list operation/function\n",
        "\n",
        "#len()=return count of elements in the list\n",
        "#max()=returns the items with the highest value in the list\n",
        "#+ operator : concatenate lists\n",
        "#* operator : multiply\n",
        "#min()=return the items with lowest value in the list\n",
        "#sum()=return the sum of all items in the list\n",
        "'''total=0\n",
        "count=0\n",
        "while(True):\n",
        "  inp = input('Enter a number:')\n",
        "  if inp == 'done':break\n",
        "  value = float(inp)\n",
        "  total = total + value\n",
        "  count = count + 1\n",
        "  average = total / count\n",
        "\n",
        "print('Average:',average)'''\n",
        "\n",
        "myList=list()#it creates empty list and initialize to the variabale myList\n",
        "while(True):\n",
        "  inp = input('Enter a number')\n",
        "  if inp == 'done':break\n",
        "  value = float(inp)\n",
        "  myList.append(value)\n",
        "\n",
        "average = sum(myList)/len(myList)\n",
        "\n",
        "print('Average:',average)\n",
        "\n",
        "\n"
      ]
    },
    {
      "cell_type": "code",
      "source": [
        "#string and lists\n",
        "#list()=breakdown the list into just one letter\n",
        "a=\"list\"\n",
        "list(a)\n",
        "#split()=split the sentences after the space into list\n",
        "a=\"list-list-list\"\n",
        "delimeter='-'\n",
        "b=a.split(delimeter)\n",
        "print(delimeter.join(b))\n",
        "print(a)\n",
        "print(b)\n",
        "#"
      ],
      "metadata": {
        "colab": {
          "base_uri": "https://localhost:8080/"
        },
        "id": "JURH2G0AvlM6",
        "outputId": "a8343446-fd83-4967-bbdb-45167a81f9be"
      },
      "execution_count": null,
      "outputs": [
        {
          "output_type": "stream",
          "name": "stdout",
          "text": [
            "list-list-list\n",
            "list-list-list\n",
            "['list', 'list', 'list']\n"
          ]
        }
      ]
    },
    {
      "cell_type": "code",
      "source": [
        "#common list pitfalls and ways to avoid them\n",
        "myList=[2,4,3,1,5,7]\n",
        "myList.append(10)\n",
        "myList"
      ],
      "metadata": {
        "colab": {
          "base_uri": "https://localhost:8080/"
        },
        "id": "H5y3YL5Jzpnp",
        "outputId": "4075aa89-09b9-4555-b669-288340a4b2e6"
      },
      "execution_count": null,
      "outputs": [
        {
          "output_type": "execute_result",
          "data": {
            "text/plain": [
              "[2, 4, 3, 1, 5, 7, 10]"
            ]
          },
          "metadata": {},
          "execution_count": 23
        }
      ]
    },
    {
      "cell_type": "code",
      "source": [
        "#similarities of array and list\n",
        "#1.both data structures are mutable\n",
        "#2.both can be indexed and iterated through\n",
        "#3.they can be both sliced"
      ],
      "metadata": {
        "id": "sCsckIwB0osZ"
      },
      "execution_count": null,
      "outputs": []
    },
    {
      "cell_type": "code",
      "source": [
        "#list comprehension\n",
        "#new_list = [expression for item in iterable if condition]\n",
        "\n",
        "prev_list = [1,2,3]\n",
        "new_list = [i*2 for i in prev_list if i>0]\n",
        "print(new_list)\n"
      ],
      "metadata": {
        "colab": {
          "base_uri": "https://localhost:8080/"
        },
        "id": "sf7TwBmy17cs",
        "outputId": "c21de20a-d645-472f-a74f-71d37cf7f49b"
      },
      "execution_count": null,
      "outputs": [
        {
          "output_type": "stream",
          "name": "stdout",
          "text": [
            "[2, 4, 6]\n"
          ]
        }
      ]
    }
  ]
}